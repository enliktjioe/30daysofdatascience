{
 "cells": [
  {
   "cell_type": "markdown",
   "metadata": {},
   "source": [
    "## References\n",
    "\n",
    "- https://docs.dask.org/"
   ]
  },
  {
   "cell_type": "code",
   "execution_count": 1,
   "metadata": {},
   "outputs": [],
   "source": [
    "from IPython.display import Image"
   ]
  },
  {
   "cell_type": "markdown",
   "metadata": {},
   "source": [
    "## Single Machine: dask.distributed"
   ]
  },
  {
   "cell_type": "code",
   "execution_count": 2,
   "metadata": {},
   "outputs": [
    {
     "name": "stderr",
     "output_type": "stream",
     "text": [
      "/home/developer/miniconda3/lib/python3.8/site-packages/distributed/node.py:151: UserWarning: Port 8787 is already in use.\n",
      "Perhaps you already have a cluster running?\n",
      "Hosting the HTTP server on port 38995 instead\n",
      "  warnings.warn(\n"
     ]
    },
    {
     "data": {
      "text/html": [
       "<table style=\"border: 2px solid white;\">\n",
       "<tr>\n",
       "<td style=\"vertical-align: top; border: 0px solid white\">\n",
       "<h3 style=\"text-align: left;\">Client</h3>\n",
       "<ul style=\"text-align: left; list-style: none; margin: 0; padding: 0;\">\n",
       "  <li><b>Scheduler: </b>tcp://127.0.0.1:44883</li>\n",
       "  <li><b>Dashboard: </b><a href='http://127.0.0.1:38995/status' target='_blank'>http://127.0.0.1:38995/status</a></li>\n",
       "</ul>\n",
       "</td>\n",
       "<td style=\"vertical-align: top; border: 0px solid white\">\n",
       "<h3 style=\"text-align: left;\">Cluster</h3>\n",
       "<ul style=\"text-align: left; list-style:none; margin: 0; padding: 0;\">\n",
       "  <li><b>Workers: </b>3</li>\n",
       "  <li><b>Cores: </b>6</li>\n",
       "  <li><b>Memory: </b>67.26 GB</li>\n",
       "</ul>\n",
       "</td>\n",
       "</tr>\n",
       "</table>"
      ],
      "text/plain": [
       "<Client: 'tcp://127.0.0.1:44883' processes=3 threads=6, memory=67.26 GB>"
      ]
     },
     "execution_count": 2,
     "metadata": {},
     "output_type": "execute_result"
    }
   ],
   "source": [
    "from dask.distributed import Client\n",
    "client = Client()\n",
    "client"
   ]
  },
  {
   "cell_type": "markdown",
   "metadata": {},
   "source": [
    "## dask-scheduler\n",
    "\n",
    "A dask.distributed network consists of one dask-scheduler process and several dask-worker processes that connect to that scheduler. These are normal Python processes that can be executed from the command line. We launch the dask-scheduler executable in one process and the dask-worker executable in several processes, possibly on different machines\n",
    "\n",
    "https://docs.dask.org/en/latest/setup/cli.html\n",
    "\n",
    "<img src=\"img/Screen Shot 2021-01-03 at 00.37.38.png\">"
   ]
  },
  {
   "cell_type": "markdown",
   "metadata": {},
   "source": [
    "## Why Dask?\n",
    "\n",
    "- It provide method to scale up Pandas, Scikit-Learn, and Numpy with native feature and minimal rewriting\n",
    "- Dask can enable efficient parallel computations on single machines by leveraging their multi-core CPUs and streaming data efficiently from disk [1]\n",
    "- Smaller and lighter weight than Spark [2]\n",
    "\n",
    "\n",
    "[1] https://docs.dask.org/en/latest/why.html\n",
    "\n",
    "[2] https://docs.dask.org/en/latest/spark.html"
   ]
  },
  {
   "cell_type": "markdown",
   "metadata": {},
   "source": [
    "## DataFrames: Read and Write Data"
   ]
  },
  {
   "cell_type": "code",
   "execution_count": 3,
   "metadata": {},
   "outputs": [],
   "source": [
    "# from dask.distributed import Client\n",
    "# client = Client(n_workers=1, threads_per_worker=6, processes=False, memory_limit='60GB')\n",
    "# client"
   ]
  },
  {
   "cell_type": "code",
   "execution_count": 4,
   "metadata": {},
   "outputs": [],
   "source": [
    "cell_ref_path = \"data/cell.csv\"\n",
    "event_input_path = \"data/data_1gb.csv\"\n",
    "output_path = \"output/mapped_cells_1gb.csv\""
   ]
  },
  {
   "cell_type": "markdown",
   "metadata": {},
   "source": [
    "### Create output in HDF5"
   ]
  },
  {
   "cell_type": "code",
   "execution_count": 5,
   "metadata": {},
   "outputs": [
    {
     "name": "stdout",
     "output_type": "stream",
     "text": [
      "CPU times: user 15 s, sys: 3.18 s, total: 18.2 s\n",
      "Wall time: 28.2 s\n"
     ]
    }
   ],
   "source": [
    "%%time\n",
    "import dask.dataframe as dd\n",
    "cell_input = dd.read_csv(cell_ref_path)\n",
    "event_input = dd.read_csv(event_input_path)\n",
    "\n",
    "mapped_cells = dd.merge(event_input,cell_input,left_on='mno_cell_id',right_on='mno_cell_id').compute()\n",
    "\n",
    "mapped_cells = mapped_cells[['mno_ms_id','pos_time','cell_id']]\n",
    "mapped_cells = mapped_cells.rename(columns={'cell_id': 'mno_cell_id'})\n",
    "\n",
    "mapped_cells.to_hdf(output_path + \".hdf5\", '/data')"
   ]
  },
  {
   "cell_type": "markdown",
   "metadata": {},
   "source": [
    "### Create output in CSV"
   ]
  },
  {
   "cell_type": "code",
   "execution_count": 6,
   "metadata": {},
   "outputs": [
    {
     "name": "stdout",
     "output_type": "stream",
     "text": [
      "CPU times: user 48.1 s, sys: 3.71 s, total: 51.9 s\n",
      "Wall time: 59.6 s\n"
     ]
    }
   ],
   "source": [
    "%%time\n",
    "import dask.dataframe as dd\n",
    "cell_input = dd.read_csv(cell_ref_path)\n",
    "event_input = dd.read_csv(event_input_path)\n",
    "\n",
    "mapped_cells = dd.merge(event_input,cell_input,left_on='mno_cell_id',right_on='mno_cell_id').compute()\n",
    "\n",
    "mapped_cells = mapped_cells[['mno_ms_id','pos_time','cell_id']]\n",
    "mapped_cells = mapped_cells.rename(columns={'cell_id': 'mno_cell_id'})\n",
    "\n",
    "mapped_cells.to_csv(output_path, index=False)"
   ]
  },
  {
   "cell_type": "markdown",
   "metadata": {},
   "source": [
    "## Conclusion\n",
    "\n",
    "- In Dask, writing an output file in HDF5 was much faster than CSV file \n",
    "- Without any much setup, Dask already doing the data processing in multi-processing"
   ]
  }
 ],
 "metadata": {
  "kernelspec": {
   "display_name": "Python 3",
   "language": "python",
   "name": "python3"
  },
  "language_info": {
   "codemirror_mode": {
    "name": "ipython",
    "version": 3
   },
   "file_extension": ".py",
   "mimetype": "text/x-python",
   "name": "python",
   "nbconvert_exporter": "python",
   "pygments_lexer": "ipython3",
   "version": "3.8.3"
  }
 },
 "nbformat": 4,
 "nbformat_minor": 4
}
