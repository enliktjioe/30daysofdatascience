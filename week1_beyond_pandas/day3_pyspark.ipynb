{
 "cells": [
  {
   "cell_type": "markdown",
   "metadata": {},
   "source": [
    "## References\n",
    "\n",
    "- https://www.tutorialspoint.com/pyspark/pyspark_introduction.htm\n",
    "- https://sparkbyexamples.com/pyspark/pyspark-read-csv-file-into-dataframe/"
   ]
  },
  {
   "cell_type": "code",
   "execution_count": 1,
   "metadata": {},
   "outputs": [],
   "source": [
    "from pyspark import SparkContext\n",
    "sc = SparkContext(\"local\", \"Second App\")"
   ]
  },
  {
   "cell_type": "code",
   "execution_count": 2,
   "metadata": {},
   "outputs": [
    {
     "data": {
      "text/html": [
       "\n",
       "        <div>\n",
       "            <p><b>SparkContext</b></p>\n",
       "\n",
       "            <p><a href=\"http://192.168.109.90:4040\">Spark UI</a></p>\n",
       "\n",
       "            <dl>\n",
       "              <dt>Version</dt>\n",
       "                <dd><code>v3.0.1</code></dd>\n",
       "              <dt>Master</dt>\n",
       "                <dd><code>local</code></dd>\n",
       "              <dt>AppName</dt>\n",
       "                <dd><code>Second App</code></dd>\n",
       "            </dl>\n",
       "        </div>\n",
       "        "
      ],
      "text/plain": [
       "<SparkContext master=local appName=Second App>"
      ]
     },
     "execution_count": 2,
     "metadata": {},
     "output_type": "execute_result"
    }
   ],
   "source": [
    "sc"
   ]
  },
  {
   "cell_type": "code",
   "execution_count": 3,
   "metadata": {},
   "outputs": [
    {
     "name": "stdout",
     "output_type": "stream",
     "text": [
      "root\n",
      " |-- _c0: string (nullable = true)\n",
      " |-- _c1: string (nullable = true)\n",
      " |-- _c2: string (nullable = true)\n",
      "\n"
     ]
    }
   ],
   "source": [
    "import pyspark\n",
    "from pyspark.sql import SparkSession\n",
    "from pyspark.sql.types import StructType,StructField, StringType, IntegerType \n",
    "from pyspark.sql.types import ArrayType, DoubleType, BooleanType\n",
    "from pyspark.sql.functions import col,array_contains\n",
    "\n",
    "spark = SparkSession.builder.appName('SparkByExamples.com').getOrCreate()\n",
    "\n",
    "df = spark.read.csv(\"data/data_1gb.csv\")\n",
    "\n",
    "df.printSchema()"
   ]
  },
  {
   "cell_type": "code",
   "execution_count": 4,
   "metadata": {},
   "outputs": [
    {
     "data": {
      "text/plain": [
       "'3.0.1'"
      ]
     },
     "execution_count": 4,
     "metadata": {},
     "output_type": "execute_result"
    }
   ],
   "source": [
    "spark.version"
   ]
  },
  {
   "cell_type": "code",
   "execution_count": 5,
   "metadata": {},
   "outputs": [],
   "source": [
    "# df2 = spark.read.option(\"header\",True) \\\n",
    "#      .csv(\"data/data_1gb.csv\")\n",
    "# df2.printSchema()"
   ]
  },
  {
   "cell_type": "code",
   "execution_count": 6,
   "metadata": {},
   "outputs": [],
   "source": [
    "# df3 = spark.read.options(header='True', delimiter=',') \\\n",
    "#   .csv(\"data/data_1gb.csv\")\n",
    "# df3.printSchema()"
   ]
  },
  {
   "cell_type": "code",
   "execution_count": 7,
   "metadata": {},
   "outputs": [],
   "source": [
    "# ##with schema\n",
    "# schema = StructType() \\\n",
    "#       .add(\"Test1\",IntegerType(),True) \\\n",
    "#       .add(\"Test2\",StringType(),True) \\\n",
    "#       .add(\"Test3\",IntegerType(),True)\n",
    "      \n",
    "# df_with_schema = spark.read.format(\"csv\") \\\n",
    "#       .option(\"header\", True) \\\n",
    "#       .schema(schema) \\\n",
    "#       .load(\"data/data_1gb.csv\")\n",
    "# df_with_schema.printSchema()"
   ]
  },
  {
   "cell_type": "code",
   "execution_count": 8,
   "metadata": {},
   "outputs": [],
   "source": [
    "# # Multiple csv output\n",
    "df.write.csv('output/test.csv')"
   ]
  },
  {
   "cell_type": "code",
   "execution_count": 11,
   "metadata": {},
   "outputs": [],
   "source": [
    "# Single csv ouput\n",
    "df.repartition(1).write.csv(\"output/test.csv\", sep=',')"
   ]
  },
  {
   "cell_type": "code",
   "execution_count": 20,
   "metadata": {},
   "outputs": [
    {
     "name": "stdout",
     "output_type": "stream",
     "text": [
      "total 965M\r\n",
      "-rw-r--r-- 1 developer developer    0 Jan  3 23:52 _SUCCESS\r\n",
      "-rw-r--r-- 1 developer developer 965M Jan  3 23:52 part-00000-68bc54d9-853a-4277-bb57-65369954ea67-c000.csv\r\n"
     ]
    }
   ],
   "source": [
    "!ls -lh output/test.csv/"
   ]
  },
  {
   "cell_type": "code",
   "execution_count": 14,
   "metadata": {},
   "outputs": [
    {
     "name": "stdout",
     "output_type": "stream",
     "text": [
      "mno_ms_id,pos_time,mno_cell_id\r\n",
      "617487,2019-01-01 17:06:30,11891\r\n",
      "617487,2019-01-01 07:01:44,9810\r\n",
      "617487,2019-01-01 14:14:09,7534\r\n",
      "617487,2019-01-01 11:51:41,545\r\n",
      "617487,2019-01-01 07:23:54,9752\r\n",
      "617487,2019-01-01 21:46:06,9969\r\n",
      "617487,2019-01-01 12:52:57,14310\r\n",
      "617487,2019-01-01 22:10:05,11759\r\n",
      "617487,2019-01-01 03:03:08,1206\r\n"
     ]
    }
   ],
   "source": [
    "!head output/test.csv/part-00000-68bc54d9-853a-4277-bb57-65369954ea67-c000.csv"
   ]
  },
  {
   "cell_type": "code",
   "execution_count": 15,
   "metadata": {},
   "outputs": [
    {
     "name": "stdout",
     "output_type": "stream",
     "text": [
      "861822,2019-01-31 12:30:19,13158\r\n",
      "861822,2019-01-31 10:03:14,2938\r\n",
      "861822,2019-01-31 08:19:00,3693\r\n",
      "861822,2019-01-31 05:00:49,6808\r\n",
      "861822,2019-01-31 01:47:12,9713\r\n",
      "861822,2019-01-31 04:15:07,5248\r\n",
      "861822,2019-01-31 17:49:50,1210\r\n",
      "861822,2019-01-31 09:54:36,2439\r\n",
      "861822,2019-01-31 12:10:28,14092\r\n",
      "861822,2019-01-31 10:25:27,12876\r\n"
     ]
    }
   ],
   "source": [
    "!tail output/test.csv/part-00000-68bc54d9-853a-4277-bb57-65369954ea67-c000.csv"
   ]
  },
  {
   "cell_type": "code",
   "execution_count": null,
   "metadata": {},
   "outputs": [],
   "source": []
  }
 ],
 "metadata": {
  "kernelspec": {
   "display_name": "Python 3",
   "language": "python",
   "name": "python3"
  },
  "language_info": {
   "codemirror_mode": {
    "name": "ipython",
    "version": 3
   },
   "file_extension": ".py",
   "mimetype": "text/x-python",
   "name": "python",
   "nbconvert_exporter": "python",
   "pygments_lexer": "ipython3",
   "version": "3.8.3"
  }
 },
 "nbformat": 4,
 "nbformat_minor": 4
}
