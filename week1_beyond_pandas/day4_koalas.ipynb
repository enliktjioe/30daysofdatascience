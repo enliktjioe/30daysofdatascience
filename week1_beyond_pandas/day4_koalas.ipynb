{
 "cells": [
  {
   "cell_type": "markdown",
   "metadata": {},
   "source": [
    "## References:\n",
    "\n",
    "- https://koalas.readthedocs.io/en/latest/\n",
    "- https://koalas.readthedocs.io/en/latest/getting_started/videos_blogs.html#data-ai-summit-2020-europe-nov-18-19-2020\n",
    "- https://databricks.com/blog/2020/03/31/10-minutes-from-pandas-to-koalas-on-apache-spark.html\n",
    "- https://databricks.com/blog/2020/08/11/interoperability-between-koalas-and-apache-spark.html"
   ]
  },
  {
   "cell_type": "markdown",
   "metadata": {},
   "source": [
    "## From Pandas to Koalas"
   ]
  },
  {
   "cell_type": "code",
   "execution_count": 1,
   "metadata": {},
   "outputs": [
    {
     "name": "stderr",
     "output_type": "stream",
     "text": [
      "WARNING:root:'PYARROW_IGNORE_TIMEZONE' environment variable was not set. It is required to set this environment variable to '1' in both driver and executor sides if you use pyarrow>=2.0.0. Koalas will set it for you but it does not work if there is a Spark context already launched.\n"
     ]
    }
   ],
   "source": [
    "import pandas as pd\n",
    "import numpy as np\n",
    "import databricks.koalas as ks\n",
    "from pyspark.sql import SparkSession"
   ]
  },
  {
   "cell_type": "code",
   "execution_count": 2,
   "metadata": {},
   "outputs": [
    {
     "data": {
      "text/plain": [
       "DatetimeIndex(['2013-01-01', '2013-01-02', '2013-01-03', '2013-01-04',\n",
       "               '2013-01-05', '2013-01-06'],\n",
       "              dtype='datetime64[ns]', freq='D')"
      ]
     },
     "execution_count": 2,
     "metadata": {},
     "output_type": "execute_result"
    }
   ],
   "source": [
    "dates = pd.date_range('20130101', periods=6)\n",
    "dates"
   ]
  },
  {
   "cell_type": "code",
   "execution_count": 3,
   "metadata": {},
   "outputs": [
    {
     "data": {
      "text/html": [
       "<div>\n",
       "<style scoped>\n",
       "    .dataframe tbody tr th:only-of-type {\n",
       "        vertical-align: middle;\n",
       "    }\n",
       "\n",
       "    .dataframe tbody tr th {\n",
       "        vertical-align: top;\n",
       "    }\n",
       "\n",
       "    .dataframe thead th {\n",
       "        text-align: right;\n",
       "    }\n",
       "</style>\n",
       "<table border=\"1\" class=\"dataframe\">\n",
       "  <thead>\n",
       "    <tr style=\"text-align: right;\">\n",
       "      <th></th>\n",
       "      <th>A</th>\n",
       "      <th>B</th>\n",
       "      <th>C</th>\n",
       "      <th>D</th>\n",
       "    </tr>\n",
       "  </thead>\n",
       "  <tbody>\n",
       "    <tr>\n",
       "      <th>2013-01-01</th>\n",
       "      <td>-0.326764</td>\n",
       "      <td>-0.250803</td>\n",
       "      <td>0.339431</td>\n",
       "      <td>1.496518</td>\n",
       "    </tr>\n",
       "    <tr>\n",
       "      <th>2013-01-02</th>\n",
       "      <td>-0.862785</td>\n",
       "      <td>-0.401726</td>\n",
       "      <td>0.042036</td>\n",
       "      <td>0.443132</td>\n",
       "    </tr>\n",
       "    <tr>\n",
       "      <th>2013-01-03</th>\n",
       "      <td>-1.177706</td>\n",
       "      <td>1.027699</td>\n",
       "      <td>-0.248366</td>\n",
       "      <td>-0.376835</td>\n",
       "    </tr>\n",
       "    <tr>\n",
       "      <th>2013-01-04</th>\n",
       "      <td>-0.333036</td>\n",
       "      <td>0.382396</td>\n",
       "      <td>-1.025024</td>\n",
       "      <td>-1.623375</td>\n",
       "    </tr>\n",
       "    <tr>\n",
       "      <th>2013-01-05</th>\n",
       "      <td>-2.641694</td>\n",
       "      <td>0.063631</td>\n",
       "      <td>-0.486560</td>\n",
       "      <td>1.163940</td>\n",
       "    </tr>\n",
       "    <tr>\n",
       "      <th>2013-01-06</th>\n",
       "      <td>-0.545258</td>\n",
       "      <td>1.178213</td>\n",
       "      <td>1.541478</td>\n",
       "      <td>-0.171413</td>\n",
       "    </tr>\n",
       "  </tbody>\n",
       "</table>\n",
       "</div>"
      ],
      "text/plain": [
       "                   A         B         C         D\n",
       "2013-01-01 -0.326764 -0.250803  0.339431  1.496518\n",
       "2013-01-02 -0.862785 -0.401726  0.042036  0.443132\n",
       "2013-01-03 -1.177706  1.027699 -0.248366 -0.376835\n",
       "2013-01-04 -0.333036  0.382396 -1.025024 -1.623375\n",
       "2013-01-05 -2.641694  0.063631 -0.486560  1.163940\n",
       "2013-01-06 -0.545258  1.178213  1.541478 -0.171413"
      ]
     },
     "execution_count": 3,
     "metadata": {},
     "output_type": "execute_result"
    }
   ],
   "source": [
    "pdf = pd.DataFrame(np.random.randn(6, 4), index=dates, columns=list('ABCD'))\n",
    "pdf"
   ]
  },
  {
   "cell_type": "code",
   "execution_count": 4,
   "metadata": {},
   "outputs": [
    {
     "data": {
      "text/plain": [
       "databricks.koalas.frame.DataFrame"
      ]
     },
     "execution_count": 4,
     "metadata": {},
     "output_type": "execute_result"
    }
   ],
   "source": [
    "kdf = ks.from_pandas(pdf)\n",
    "type(kdf)"
   ]
  },
  {
   "cell_type": "markdown",
   "metadata": {},
   "source": [
    "## From Spark DataFrame to Koalas DataFrame"
   ]
  },
  {
   "cell_type": "code",
   "execution_count": 5,
   "metadata": {},
   "outputs": [
    {
     "name": "stdout",
     "output_type": "stream",
     "text": [
      "+-------------------+-------------------+--------------------+-------------------+\n",
      "|                  A|                  B|                   C|                  D|\n",
      "+-------------------+-------------------+--------------------+-------------------+\n",
      "|-0.3267639171986745|-0.2508032314948917| 0.33943125611638875| 1.4965176131477882|\n",
      "|-0.8627850081897207|-0.4017263111641514| 0.04203555437521041| 0.4431321303597521|\n",
      "|-1.1777059278766553| 1.0276985610598244|-0.24836632049795362|-0.3768353448871398|\n",
      "|-0.3330361817630014|0.38239580234173304|  -1.025023612022654|-1.6233748529482062|\n",
      "|-2.6416942225045266|0.06363115282102962|-0.48656024505238515| 1.1639395132740074|\n",
      "|-0.5452577274161928| 1.1782132266561594|  1.5414784721289587|-0.1714130538742371|\n",
      "+-------------------+-------------------+--------------------+-------------------+\n",
      "\n"
     ]
    }
   ],
   "source": [
    "spark = SparkSession.builder.getOrCreate()\n",
    "sdf = spark.createDataFrame(pdf)\n",
    "sdf.show()"
   ]
  },
  {
   "cell_type": "code",
   "execution_count": 6,
   "metadata": {},
   "outputs": [
    {
     "data": {
      "text/html": [
       "<div>\n",
       "<style scoped>\n",
       "    .dataframe tbody tr th:only-of-type {\n",
       "        vertical-align: middle;\n",
       "    }\n",
       "\n",
       "    .dataframe tbody tr th {\n",
       "        vertical-align: top;\n",
       "    }\n",
       "\n",
       "    .dataframe thead th {\n",
       "        text-align: right;\n",
       "    }\n",
       "</style>\n",
       "<table border=\"1\" class=\"dataframe\">\n",
       "  <thead>\n",
       "    <tr style=\"text-align: right;\">\n",
       "      <th></th>\n",
       "      <th>A</th>\n",
       "      <th>B</th>\n",
       "      <th>C</th>\n",
       "      <th>D</th>\n",
       "    </tr>\n",
       "  </thead>\n",
       "  <tbody>\n",
       "    <tr>\n",
       "      <th>0</th>\n",
       "      <td>-0.326764</td>\n",
       "      <td>-0.250803</td>\n",
       "      <td>0.339431</td>\n",
       "      <td>1.496518</td>\n",
       "    </tr>\n",
       "    <tr>\n",
       "      <th>1</th>\n",
       "      <td>-0.862785</td>\n",
       "      <td>-0.401726</td>\n",
       "      <td>0.042036</td>\n",
       "      <td>0.443132</td>\n",
       "    </tr>\n",
       "    <tr>\n",
       "      <th>2</th>\n",
       "      <td>-1.177706</td>\n",
       "      <td>1.027699</td>\n",
       "      <td>-0.248366</td>\n",
       "      <td>-0.376835</td>\n",
       "    </tr>\n",
       "    <tr>\n",
       "      <th>3</th>\n",
       "      <td>-0.333036</td>\n",
       "      <td>0.382396</td>\n",
       "      <td>-1.025024</td>\n",
       "      <td>-1.623375</td>\n",
       "    </tr>\n",
       "    <tr>\n",
       "      <th>4</th>\n",
       "      <td>-2.641694</td>\n",
       "      <td>0.063631</td>\n",
       "      <td>-0.486560</td>\n",
       "      <td>1.163940</td>\n",
       "    </tr>\n",
       "    <tr>\n",
       "      <th>5</th>\n",
       "      <td>-0.545258</td>\n",
       "      <td>1.178213</td>\n",
       "      <td>1.541478</td>\n",
       "      <td>-0.171413</td>\n",
       "    </tr>\n",
       "  </tbody>\n",
       "</table>\n",
       "</div>"
      ],
      "text/plain": [
       "          A         B         C         D\n",
       "0 -0.326764 -0.250803  0.339431  1.496518\n",
       "1 -0.862785 -0.401726  0.042036  0.443132\n",
       "2 -1.177706  1.027699 -0.248366 -0.376835\n",
       "3 -0.333036  0.382396 -1.025024 -1.623375\n",
       "4 -2.641694  0.063631 -0.486560  1.163940\n",
       "5 -0.545258  1.178213  1.541478 -0.171413"
      ]
     },
     "execution_count": 6,
     "metadata": {},
     "output_type": "execute_result"
    }
   ],
   "source": [
    "kdf = sdf.to_koalas()\n",
    "kdf"
   ]
  },
  {
   "cell_type": "code",
   "execution_count": 7,
   "metadata": {},
   "outputs": [
    {
     "data": {
      "text/plain": [
       "A    float64\n",
       "B    float64\n",
       "C    float64\n",
       "D    float64\n",
       "dtype: object"
      ]
     },
     "execution_count": 7,
     "metadata": {},
     "output_type": "execute_result"
    }
   ],
   "source": [
    "kdf.dtypes"
   ]
  },
  {
   "cell_type": "markdown",
   "metadata": {},
   "source": [
    "## Missing Data"
   ]
  },
  {
   "cell_type": "code",
   "execution_count": 8,
   "metadata": {},
   "outputs": [
    {
     "data": {
      "text/html": [
       "<div>\n",
       "<style scoped>\n",
       "    .dataframe tbody tr th:only-of-type {\n",
       "        vertical-align: middle;\n",
       "    }\n",
       "\n",
       "    .dataframe tbody tr th {\n",
       "        vertical-align: top;\n",
       "    }\n",
       "\n",
       "    .dataframe thead th {\n",
       "        text-align: right;\n",
       "    }\n",
       "</style>\n",
       "<table border=\"1\" class=\"dataframe\">\n",
       "  <thead>\n",
       "    <tr style=\"text-align: right;\">\n",
       "      <th></th>\n",
       "      <th>A</th>\n",
       "      <th>B</th>\n",
       "      <th>C</th>\n",
       "      <th>D</th>\n",
       "      <th>E</th>\n",
       "    </tr>\n",
       "  </thead>\n",
       "  <tbody>\n",
       "    <tr>\n",
       "      <th>2013-01-01</th>\n",
       "      <td>-0.326764</td>\n",
       "      <td>-0.250803</td>\n",
       "      <td>0.339431</td>\n",
       "      <td>1.496518</td>\n",
       "      <td>1.0</td>\n",
       "    </tr>\n",
       "    <tr>\n",
       "      <th>2013-01-02</th>\n",
       "      <td>-0.862785</td>\n",
       "      <td>-0.401726</td>\n",
       "      <td>0.042036</td>\n",
       "      <td>0.443132</td>\n",
       "      <td>1.0</td>\n",
       "    </tr>\n",
       "    <tr>\n",
       "      <th>2013-01-03</th>\n",
       "      <td>-1.177706</td>\n",
       "      <td>1.027699</td>\n",
       "      <td>-0.248366</td>\n",
       "      <td>-0.376835</td>\n",
       "      <td>NaN</td>\n",
       "    </tr>\n",
       "    <tr>\n",
       "      <th>2013-01-04</th>\n",
       "      <td>-0.333036</td>\n",
       "      <td>0.382396</td>\n",
       "      <td>-1.025024</td>\n",
       "      <td>-1.623375</td>\n",
       "      <td>NaN</td>\n",
       "    </tr>\n",
       "  </tbody>\n",
       "</table>\n",
       "</div>"
      ],
      "text/plain": [
       "                   A         B         C         D    E\n",
       "2013-01-01 -0.326764 -0.250803  0.339431  1.496518  1.0\n",
       "2013-01-02 -0.862785 -0.401726  0.042036  0.443132  1.0\n",
       "2013-01-03 -1.177706  1.027699 -0.248366 -0.376835  NaN\n",
       "2013-01-04 -0.333036  0.382396 -1.025024 -1.623375  NaN"
      ]
     },
     "execution_count": 8,
     "metadata": {},
     "output_type": "execute_result"
    }
   ],
   "source": [
    "pdf1 = pdf.reindex(index=dates[0:4], columns=list(pdf.columns) + ['E'])\n",
    "pdf1.loc[dates[0]:dates[1], 'E'] = 1\n",
    "kdf1 = ks.from_pandas(pdf1)\n",
    "kdf1"
   ]
  },
  {
   "cell_type": "code",
   "execution_count": 9,
   "metadata": {},
   "outputs": [
    {
     "data": {
      "text/html": [
       "<div>\n",
       "<style scoped>\n",
       "    .dataframe tbody tr th:only-of-type {\n",
       "        vertical-align: middle;\n",
       "    }\n",
       "\n",
       "    .dataframe tbody tr th {\n",
       "        vertical-align: top;\n",
       "    }\n",
       "\n",
       "    .dataframe thead th {\n",
       "        text-align: right;\n",
       "    }\n",
       "</style>\n",
       "<table border=\"1\" class=\"dataframe\">\n",
       "  <thead>\n",
       "    <tr style=\"text-align: right;\">\n",
       "      <th></th>\n",
       "      <th>A</th>\n",
       "      <th>B</th>\n",
       "      <th>C</th>\n",
       "      <th>D</th>\n",
       "      <th>E</th>\n",
       "    </tr>\n",
       "  </thead>\n",
       "  <tbody>\n",
       "    <tr>\n",
       "      <th>2013-01-01</th>\n",
       "      <td>-0.326764</td>\n",
       "      <td>-0.250803</td>\n",
       "      <td>0.339431</td>\n",
       "      <td>1.496518</td>\n",
       "      <td>1.0</td>\n",
       "    </tr>\n",
       "    <tr>\n",
       "      <th>2013-01-02</th>\n",
       "      <td>-0.862785</td>\n",
       "      <td>-0.401726</td>\n",
       "      <td>0.042036</td>\n",
       "      <td>0.443132</td>\n",
       "      <td>1.0</td>\n",
       "    </tr>\n",
       "  </tbody>\n",
       "</table>\n",
       "</div>"
      ],
      "text/plain": [
       "                   A         B         C         D    E\n",
       "2013-01-01 -0.326764 -0.250803  0.339431  1.496518  1.0\n",
       "2013-01-02 -0.862785 -0.401726  0.042036  0.443132  1.0"
      ]
     },
     "execution_count": 9,
     "metadata": {},
     "output_type": "execute_result"
    }
   ],
   "source": [
    "kdf1.dropna(how='any')"
   ]
  },
  {
   "cell_type": "code",
   "execution_count": 10,
   "metadata": {},
   "outputs": [
    {
     "data": {
      "text/html": [
       "<div>\n",
       "<style scoped>\n",
       "    .dataframe tbody tr th:only-of-type {\n",
       "        vertical-align: middle;\n",
       "    }\n",
       "\n",
       "    .dataframe tbody tr th {\n",
       "        vertical-align: top;\n",
       "    }\n",
       "\n",
       "    .dataframe thead th {\n",
       "        text-align: right;\n",
       "    }\n",
       "</style>\n",
       "<table border=\"1\" class=\"dataframe\">\n",
       "  <thead>\n",
       "    <tr style=\"text-align: right;\">\n",
       "      <th></th>\n",
       "      <th>A</th>\n",
       "      <th>B</th>\n",
       "      <th>C</th>\n",
       "      <th>D</th>\n",
       "      <th>E</th>\n",
       "    </tr>\n",
       "  </thead>\n",
       "  <tbody>\n",
       "    <tr>\n",
       "      <th>2013-01-01</th>\n",
       "      <td>-0.326764</td>\n",
       "      <td>-0.250803</td>\n",
       "      <td>0.339431</td>\n",
       "      <td>1.496518</td>\n",
       "      <td>1.0</td>\n",
       "    </tr>\n",
       "    <tr>\n",
       "      <th>2013-01-02</th>\n",
       "      <td>-0.862785</td>\n",
       "      <td>-0.401726</td>\n",
       "      <td>0.042036</td>\n",
       "      <td>0.443132</td>\n",
       "      <td>1.0</td>\n",
       "    </tr>\n",
       "    <tr>\n",
       "      <th>2013-01-03</th>\n",
       "      <td>-1.177706</td>\n",
       "      <td>1.027699</td>\n",
       "      <td>-0.248366</td>\n",
       "      <td>-0.376835</td>\n",
       "      <td>5.0</td>\n",
       "    </tr>\n",
       "    <tr>\n",
       "      <th>2013-01-04</th>\n",
       "      <td>-0.333036</td>\n",
       "      <td>0.382396</td>\n",
       "      <td>-1.025024</td>\n",
       "      <td>-1.623375</td>\n",
       "      <td>5.0</td>\n",
       "    </tr>\n",
       "  </tbody>\n",
       "</table>\n",
       "</div>"
      ],
      "text/plain": [
       "                   A         B         C         D    E\n",
       "2013-01-01 -0.326764 -0.250803  0.339431  1.496518  1.0\n",
       "2013-01-02 -0.862785 -0.401726  0.042036  0.443132  1.0\n",
       "2013-01-03 -1.177706  1.027699 -0.248366 -0.376835  5.0\n",
       "2013-01-04 -0.333036  0.382396 -1.025024 -1.623375  5.0"
      ]
     },
     "execution_count": 10,
     "metadata": {},
     "output_type": "execute_result"
    }
   ],
   "source": [
    "kdf1.fillna(value=5)"
   ]
  },
  {
   "cell_type": "markdown",
   "metadata": {},
   "source": [
    "## Spark Configurations\n",
    "\n",
    "PySpark config can be applied in Koalas. One of the example is to enable Arrow Optimization for huge speed up internal pandas conversion. "
   ]
  },
  {
   "cell_type": "code",
   "execution_count": 11,
   "metadata": {},
   "outputs": [],
   "source": [
    "prev = spark.conf.get(\"spark.sql.execution.arrow.enabled\")  # Keep its default value.\n",
    "ks.set_option(\"compute.default_index_type\", \"distributed\")  # Use default index prevent overhead.\n",
    "import warnings\n",
    "warnings.filterwarnings(\"ignore\")  # Ignore warnings coming from Arrow optimizations."
   ]
  },
  {
   "cell_type": "code",
   "execution_count": 12,
   "metadata": {},
   "outputs": [
    {
     "name": "stdout",
     "output_type": "stream",
     "text": [
      "91.9 ms ± 13.4 ms per loop (mean ± std. dev. of 7 runs, 1 loop each)\n"
     ]
    }
   ],
   "source": [
    "spark.conf.set(\"spark.sql.execution.arrow.enabled\", True)\n",
    "%timeit ks.range(300000).to_pandas()"
   ]
  },
  {
   "cell_type": "code",
   "execution_count": 13,
   "metadata": {},
   "outputs": [
    {
     "name": "stdout",
     "output_type": "stream",
     "text": [
      "593 ms ± 17.5 ms per loop (mean ± std. dev. of 7 runs, 1 loop each)\n"
     ]
    }
   ],
   "source": [
    "spark.conf.set(\"spark.sql.execution.arrow.enabled\", False)\n",
    "%timeit ks.range(300000).to_pandas()"
   ]
  },
  {
   "cell_type": "code",
   "execution_count": 14,
   "metadata": {},
   "outputs": [],
   "source": [
    "ks.reset_option(\"compute.default_index_type\")\n",
    "spark.conf.set(\"spark.sql.execution.arrow.enabled\", prev)  # Set its default value back."
   ]
  },
  {
   "cell_type": "markdown",
   "metadata": {},
   "source": [
    "## Grouping"
   ]
  },
  {
   "cell_type": "code",
   "execution_count": 15,
   "metadata": {},
   "outputs": [
    {
     "data": {
      "text/html": [
       "<div>\n",
       "<style scoped>\n",
       "    .dataframe tbody tr th:only-of-type {\n",
       "        vertical-align: middle;\n",
       "    }\n",
       "\n",
       "    .dataframe tbody tr th {\n",
       "        vertical-align: top;\n",
       "    }\n",
       "\n",
       "    .dataframe thead th {\n",
       "        text-align: right;\n",
       "    }\n",
       "</style>\n",
       "<table border=\"1\" class=\"dataframe\">\n",
       "  <thead>\n",
       "    <tr style=\"text-align: right;\">\n",
       "      <th></th>\n",
       "      <th>A</th>\n",
       "      <th>B</th>\n",
       "      <th>C</th>\n",
       "      <th>D</th>\n",
       "    </tr>\n",
       "  </thead>\n",
       "  <tbody>\n",
       "    <tr>\n",
       "      <th>0</th>\n",
       "      <td>foo</td>\n",
       "      <td>one</td>\n",
       "      <td>-1.612418</td>\n",
       "      <td>-0.435892</td>\n",
       "    </tr>\n",
       "    <tr>\n",
       "      <th>1</th>\n",
       "      <td>bar</td>\n",
       "      <td>one</td>\n",
       "      <td>1.288747</td>\n",
       "      <td>-1.925285</td>\n",
       "    </tr>\n",
       "    <tr>\n",
       "      <th>2</th>\n",
       "      <td>foo</td>\n",
       "      <td>two</td>\n",
       "      <td>1.421164</td>\n",
       "      <td>-1.272529</td>\n",
       "    </tr>\n",
       "    <tr>\n",
       "      <th>3</th>\n",
       "      <td>bar</td>\n",
       "      <td>three</td>\n",
       "      <td>0.493951</td>\n",
       "      <td>0.751921</td>\n",
       "    </tr>\n",
       "    <tr>\n",
       "      <th>4</th>\n",
       "      <td>foo</td>\n",
       "      <td>two</td>\n",
       "      <td>0.897654</td>\n",
       "      <td>2.243532</td>\n",
       "    </tr>\n",
       "    <tr>\n",
       "      <th>5</th>\n",
       "      <td>bar</td>\n",
       "      <td>two</td>\n",
       "      <td>-1.387414</td>\n",
       "      <td>-0.074753</td>\n",
       "    </tr>\n",
       "    <tr>\n",
       "      <th>6</th>\n",
       "      <td>foo</td>\n",
       "      <td>one</td>\n",
       "      <td>-0.511452</td>\n",
       "      <td>-0.429635</td>\n",
       "    </tr>\n",
       "    <tr>\n",
       "      <th>7</th>\n",
       "      <td>foo</td>\n",
       "      <td>three</td>\n",
       "      <td>1.360138</td>\n",
       "      <td>0.527675</td>\n",
       "    </tr>\n",
       "  </tbody>\n",
       "</table>\n",
       "</div>"
      ],
      "text/plain": [
       "     A      B         C         D\n",
       "0  foo    one -1.612418 -0.435892\n",
       "1  bar    one  1.288747 -1.925285\n",
       "2  foo    two  1.421164 -1.272529\n",
       "3  bar  three  0.493951  0.751921\n",
       "4  foo    two  0.897654  2.243532\n",
       "5  bar    two -1.387414 -0.074753\n",
       "6  foo    one -0.511452 -0.429635\n",
       "7  foo  three  1.360138  0.527675"
      ]
     },
     "execution_count": 15,
     "metadata": {},
     "output_type": "execute_result"
    }
   ],
   "source": [
    "kdf = ks.DataFrame({'A': ['foo', 'bar', 'foo', 'bar',\n",
    "                          'foo', 'bar', 'foo', 'foo'],\n",
    "                    'B': ['one', 'one', 'two', 'three',\n",
    "                          'two', 'two', 'one', 'three'],\n",
    "                    'C': np.random.randn(8),\n",
    "                    'D': np.random.randn(8)})\n",
    "kdf"
   ]
  },
  {
   "cell_type": "code",
   "execution_count": 16,
   "metadata": {},
   "outputs": [
    {
     "data": {
      "text/html": [
       "<div>\n",
       "<style scoped>\n",
       "    .dataframe tbody tr th:only-of-type {\n",
       "        vertical-align: middle;\n",
       "    }\n",
       "\n",
       "    .dataframe tbody tr th {\n",
       "        vertical-align: top;\n",
       "    }\n",
       "\n",
       "    .dataframe thead th {\n",
       "        text-align: right;\n",
       "    }\n",
       "</style>\n",
       "<table border=\"1\" class=\"dataframe\">\n",
       "  <thead>\n",
       "    <tr style=\"text-align: right;\">\n",
       "      <th></th>\n",
       "      <th>C</th>\n",
       "      <th>D</th>\n",
       "    </tr>\n",
       "    <tr>\n",
       "      <th>A</th>\n",
       "      <th></th>\n",
       "      <th></th>\n",
       "    </tr>\n",
       "  </thead>\n",
       "  <tbody>\n",
       "    <tr>\n",
       "      <th>bar</th>\n",
       "      <td>0.395284</td>\n",
       "      <td>-1.248118</td>\n",
       "    </tr>\n",
       "    <tr>\n",
       "      <th>foo</th>\n",
       "      <td>1.555087</td>\n",
       "      <td>0.633150</td>\n",
       "    </tr>\n",
       "  </tbody>\n",
       "</table>\n",
       "</div>"
      ],
      "text/plain": [
       "            C         D\n",
       "A                      \n",
       "bar  0.395284 -1.248118\n",
       "foo  1.555087  0.633150"
      ]
     },
     "execution_count": 16,
     "metadata": {},
     "output_type": "execute_result"
    }
   ],
   "source": [
    "kdf.groupby('A').sum()"
   ]
  },
  {
   "cell_type": "code",
   "execution_count": 17,
   "metadata": {},
   "outputs": [
    {
     "data": {
      "text/html": [
       "<div>\n",
       "<style scoped>\n",
       "    .dataframe tbody tr th:only-of-type {\n",
       "        vertical-align: middle;\n",
       "    }\n",
       "\n",
       "    .dataframe tbody tr th {\n",
       "        vertical-align: top;\n",
       "    }\n",
       "\n",
       "    .dataframe thead th {\n",
       "        text-align: right;\n",
       "    }\n",
       "</style>\n",
       "<table border=\"1\" class=\"dataframe\">\n",
       "  <thead>\n",
       "    <tr style=\"text-align: right;\">\n",
       "      <th></th>\n",
       "      <th></th>\n",
       "      <th>C</th>\n",
       "      <th>D</th>\n",
       "    </tr>\n",
       "    <tr>\n",
       "      <th>A</th>\n",
       "      <th>B</th>\n",
       "      <th></th>\n",
       "      <th></th>\n",
       "    </tr>\n",
       "  </thead>\n",
       "  <tbody>\n",
       "    <tr>\n",
       "      <th rowspan=\"2\" valign=\"top\">foo</th>\n",
       "      <th>one</th>\n",
       "      <td>-2.123870</td>\n",
       "      <td>-0.865527</td>\n",
       "    </tr>\n",
       "    <tr>\n",
       "      <th>two</th>\n",
       "      <td>2.318818</td>\n",
       "      <td>0.971003</td>\n",
       "    </tr>\n",
       "    <tr>\n",
       "      <th>bar</th>\n",
       "      <th>three</th>\n",
       "      <td>0.493951</td>\n",
       "      <td>0.751921</td>\n",
       "    </tr>\n",
       "    <tr>\n",
       "      <th>foo</th>\n",
       "      <th>three</th>\n",
       "      <td>1.360138</td>\n",
       "      <td>0.527675</td>\n",
       "    </tr>\n",
       "    <tr>\n",
       "      <th rowspan=\"2\" valign=\"top\">bar</th>\n",
       "      <th>two</th>\n",
       "      <td>-1.387414</td>\n",
       "      <td>-0.074753</td>\n",
       "    </tr>\n",
       "    <tr>\n",
       "      <th>one</th>\n",
       "      <td>1.288747</td>\n",
       "      <td>-1.925285</td>\n",
       "    </tr>\n",
       "  </tbody>\n",
       "</table>\n",
       "</div>"
      ],
      "text/plain": [
       "                  C         D\n",
       "A   B                        \n",
       "foo one   -2.123870 -0.865527\n",
       "    two    2.318818  0.971003\n",
       "bar three  0.493951  0.751921\n",
       "foo three  1.360138  0.527675\n",
       "bar two   -1.387414 -0.074753\n",
       "    one    1.288747 -1.925285"
      ]
     },
     "execution_count": 17,
     "metadata": {},
     "output_type": "execute_result"
    }
   ],
   "source": [
    "kdf.groupby(['A', 'B']).sum()"
   ]
  },
  {
   "cell_type": "markdown",
   "metadata": {},
   "source": [
    "## Plotting"
   ]
  },
  {
   "cell_type": "code",
   "execution_count": 18,
   "metadata": {},
   "outputs": [],
   "source": [
    "%matplotlib inline\n",
    "from matplotlib import pyplot as plt"
   ]
  },
  {
   "cell_type": "code",
   "execution_count": 19,
   "metadata": {},
   "outputs": [],
   "source": [
    "pser = pd.Series(np.random.randn(1000),\n",
    "                 index=pd.date_range('1/1/2000', periods=1000))"
   ]
  },
  {
   "cell_type": "code",
   "execution_count": 21,
   "metadata": {},
   "outputs": [
    {
     "data": {
      "text/plain": [
       "<matplotlib.axes._subplots.AxesSubplot at 0x7f0ea0209970>"
      ]
     },
     "execution_count": 21,
     "metadata": {},
     "output_type": "execute_result"
    },
    {
     "data": {
      "image/png": "[encoded data removed]",
      "text/plain": [
       "<Figure size 432x288 with 1 Axes>"
      ]
     },
     "metadata": {
      "needs_background": "light"
     },
     "output_type": "display_data"
    }
   ],
   "source": [
    "kser = ks.Series(pser)\n",
    "kser = kser.cummax()\n",
    "kser.plot()"
   ]
  },
  {
   "cell_type": "code",
   "execution_count": 22,
   "metadata": {},
   "outputs": [
    {
     "data": {
      "text/plain": [
       "<matplotlib.axes._subplots.AxesSubplot at 0x7f0e93bc48e0>"
      ]
     },
     "execution_count": 22,
     "metadata": {},
     "output_type": "execute_result"
    },
    {
     "data": {
      "image/png": "[encoded data removed]",
      "text/plain": [
       "<Figure size 432x288 with 1 Axes>"
      ]
     },
     "metadata": {
      "needs_background": "light"
     },
     "output_type": "display_data"
    }
   ],
   "source": [
    "pdf = pd.DataFrame(np.random.randn(1000,4), index=pser.index,\n",
    "                      columns=['A','B','C','D'])\n",
    "kdf = ks.from_pandas(pdf)\n",
    "kdf = kdf.cummax()\n",
    "kdf.plot()"
   ]
  },
  {
   "cell_type": "code",
   "execution_count": 34,
   "metadata": {},
   "outputs": [
    {
     "data": {
      "text/plain": [
       "<matplotlib.axes._subplots.AxesSubplot at 0x7f0e93ab64f0>"
      ]
     },
     "execution_count": 34,
     "metadata": {},
     "output_type": "execute_result"
    },
    {
     "data": {
      "image/png": "[encoded data removed]",
      "text/plain": [
       "<Figure size 432x288 with 1 Axes>"
      ]
     },
     "metadata": {
      "needs_background": "light"
     },
     "output_type": "display_data"
    }
   ],
   "source": [
    "speed = [0.1, 17.5, 40, 48, 52, 69, 88]\n",
    "lifespan = [2, 8, 70, 1.5, 25, 12, 28]\n",
    "index = ['snail', 'pig', 'elephant',\n",
    "          'rabbit', 'giraffe', 'coyote', 'horse']\n",
    "kdf = ks.DataFrame({'speed': speed,\n",
    "                     'lifespan': lifespan}, index=index)\n",
    "kdf.plot.bar()"
   ]
  },
  {
   "cell_type": "code",
   "execution_count": 35,
   "metadata": {},
   "outputs": [
    {
     "data": {
      "text/plain": [
       "<matplotlib.axes._subplots.AxesSubplot at 0x7f0e939a7760>"
      ]
     },
     "execution_count": 35,
     "metadata": {},
     "output_type": "execute_result"
    },
    {
     "data": {
      "image/png": "[encoded data removed]",
      "text/plain": [
       "<Figure size 432x288 with 1 Axes>"
      ]
     },
     "metadata": {
      "needs_background": "light"
     },
     "output_type": "display_data"
    }
   ],
   "source": [
    "kdf.plot.barh()"
   ]
  },
  {
   "cell_type": "code",
   "execution_count": 36,
   "metadata": {},
   "outputs": [
    {
     "data": {
      "text/plain": [
       "<matplotlib.axes._subplots.AxesSubplot at 0x7f0e939225b0>"
      ]
     },
     "execution_count": 36,
     "metadata": {},
     "output_type": "execute_result"
    },
    {
     "data": {
      "image/png": "[encoded data removed]",
      "text/plain": [
       "<Figure size 432x288 with 1 Axes>"
      ]
     },
     "metadata": {},
     "output_type": "display_data"
    }
   ],
   "source": [
    "kdf = ks.DataFrame({'mass': [0.330, 4.87, 5.97],\n",
    "                     'radius': [2439.7, 6051.8, 6378.1]},\n",
    "                    index=['Mercury', 'Venus', 'Earth'])\n",
    " kdf.plot.pie(y='mass')"
   ]
  },
  {
   "cell_type": "code",
   "execution_count": 37,
   "metadata": {},
   "outputs": [
    {
     "data": {
      "text/plain": [
       "<matplotlib.axes._subplots.AxesSubplot at 0x7f0e938fd100>"
      ]
     },
     "execution_count": 37,
     "metadata": {},
     "output_type": "execute_result"
    },
    {
     "data": {
      "image/png": "[encoded data removed]",
      "text/plain": [
       "<Figure size 432x288 with 1 Axes>"
      ]
     },
     "metadata": {
      "needs_background": "light"
     },
     "output_type": "display_data"
    }
   ],
   "source": [
    "kdf = ks.DataFrame({\n",
    "     'sales': [3, 2, 3, 9, 10, 6, 3],\n",
    "     'signups': [5, 5, 6, 12, 14, 13, 9],\n",
    "     'visits': [20, 42, 28, 62, 81, 50, 90],\n",
    " }, index=pd.date_range(start='2019/08/15', end='2020/03/09',\n",
    "                        freq='M'))\n",
    "kdf.plot.area()"
   ]
  },
  {
   "cell_type": "code",
   "execution_count": 38,
   "metadata": {},
   "outputs": [
    {
     "data": {
      "text/plain": [
       "<matplotlib.axes._subplots.AxesSubplot at 0x7f0e9385af40>"
      ]
     },
     "execution_count": 38,
     "metadata": {},
     "output_type": "execute_result"
    },
    {
     "data": {
      "image/png": "[encoded data removed]",
      "text/plain": [
       "<Figure size 432x288 with 1 Axes>"
      ]
     },
     "metadata": {
      "needs_background": "light"
     },
     "output_type": "display_data"
    }
   ],
   "source": [
    "kdf = ks.DataFrame({'pig': [20, 18, 489, 675, 1776],\n",
    "                     'horse': [4, 25, 281, 600, 1900]},\n",
    "                    index=[1990, 1997, 2003, 2009, 2014])\n",
    "kdf.plot.line()"
   ]
  },
  {
   "cell_type": "code",
   "execution_count": 39,
   "metadata": {},
   "outputs": [
    {
     "data": {
      "text/plain": [
       "<matplotlib.axes._subplots.AxesSubplot at 0x7f0e937d59a0>"
      ]
     },
     "execution_count": 39,
     "metadata": {},
     "output_type": "execute_result"
    },
    {
     "data": {
      "image/png": "[encoded data removed]",
      "text/plain": [
       "<Figure size 432x288 with 1 Axes>"
      ]
     },
     "metadata": {
      "needs_background": "light"
     },
     "output_type": "display_data"
    }
   ],
   "source": [
    "kdf = pd.DataFrame(\n",
    "     np.random.randint(1, 7, 6000),\n",
    "     columns=['one'])\n",
    "kdf['two'] = kdf['one'] + np.random.randint(1, 7, 6000)\n",
    "kdf = ks.from_pandas(kdf)\n",
    "kdf.plot.hist(bins=12, alpha=0.5)"
   ]
  },
  {
   "cell_type": "code",
   "execution_count": 40,
   "metadata": {},
   "outputs": [
    {
     "data": {
      "text/plain": [
       "<matplotlib.axes._subplots.AxesSubplot at 0x7f0e9372d130>"
      ]
     },
     "execution_count": 40,
     "metadata": {},
     "output_type": "execute_result"
    },
    {
     "data": {
      "image/png": "[encoded data removed]",
      "text/plain": [
       "<Figure size 432x288 with 2 Axes>"
      ]
     },
     "metadata": {
      "needs_background": "light"
     },
     "output_type": "display_data"
    }
   ],
   "source": [
    "kdf = ks.DataFrame([[5.1, 3.5, 0], [4.9, 3.0, 0], [7.0, 3.2, 1],\n",
    "                     [6.4, 3.2, 1], [5.9, 3.0, 2]],\n",
    "                    columns=['length', 'width', 'species'])\n",
    "kdf.plot.scatter(x='length', y='width', c='species', colormap='viridis')"
   ]
  },
  {
   "cell_type": "markdown",
   "metadata": {},
   "source": [
    "## Getting data in/out"
   ]
  },
  {
   "cell_type": "code",
   "execution_count": 24,
   "metadata": {},
   "outputs": [
    {
     "data": {
      "text/html": [
       "<div>\n",
       "<style scoped>\n",
       "    .dataframe tbody tr th:only-of-type {\n",
       "        vertical-align: middle;\n",
       "    }\n",
       "\n",
       "    .dataframe tbody tr th {\n",
       "        vertical-align: top;\n",
       "    }\n",
       "\n",
       "    .dataframe thead th {\n",
       "        text-align: right;\n",
       "    }\n",
       "</style>\n",
       "<table border=\"1\" class=\"dataframe\">\n",
       "  <thead>\n",
       "    <tr style=\"text-align: right;\">\n",
       "      <th></th>\n",
       "      <th>A</th>\n",
       "      <th>B</th>\n",
       "      <th>C</th>\n",
       "      <th>D</th>\n",
       "    </tr>\n",
       "  </thead>\n",
       "  <tbody>\n",
       "    <tr>\n",
       "      <th>0</th>\n",
       "      <td>-1.173088</td>\n",
       "      <td>-0.163375</td>\n",
       "      <td>-1.271145</td>\n",
       "      <td>-0.225697</td>\n",
       "    </tr>\n",
       "    <tr>\n",
       "      <th>1</th>\n",
       "      <td>1.337956</td>\n",
       "      <td>0.120648</td>\n",
       "      <td>0.740850</td>\n",
       "      <td>-0.225697</td>\n",
       "    </tr>\n",
       "    <tr>\n",
       "      <th>2</th>\n",
       "      <td>1.337956</td>\n",
       "      <td>0.120648</td>\n",
       "      <td>0.740850</td>\n",
       "      <td>-0.225697</td>\n",
       "    </tr>\n",
       "    <tr>\n",
       "      <th>3</th>\n",
       "      <td>1.337956</td>\n",
       "      <td>0.930043</td>\n",
       "      <td>0.740850</td>\n",
       "      <td>-0.225697</td>\n",
       "    </tr>\n",
       "    <tr>\n",
       "      <th>4</th>\n",
       "      <td>1.337956</td>\n",
       "      <td>0.930043</td>\n",
       "      <td>0.740850</td>\n",
       "      <td>2.907976</td>\n",
       "    </tr>\n",
       "    <tr>\n",
       "      <th>5</th>\n",
       "      <td>1.337956</td>\n",
       "      <td>0.930043</td>\n",
       "      <td>0.740850</td>\n",
       "      <td>2.907976</td>\n",
       "    </tr>\n",
       "    <tr>\n",
       "      <th>6</th>\n",
       "      <td>1.337956</td>\n",
       "      <td>0.930043</td>\n",
       "      <td>0.740850</td>\n",
       "      <td>2.907976</td>\n",
       "    </tr>\n",
       "    <tr>\n",
       "      <th>7</th>\n",
       "      <td>1.337956</td>\n",
       "      <td>0.930043</td>\n",
       "      <td>0.740850</td>\n",
       "      <td>2.907976</td>\n",
       "    </tr>\n",
       "    <tr>\n",
       "      <th>8</th>\n",
       "      <td>2.536713</td>\n",
       "      <td>0.930043</td>\n",
       "      <td>0.740850</td>\n",
       "      <td>2.907976</td>\n",
       "    </tr>\n",
       "    <tr>\n",
       "      <th>9</th>\n",
       "      <td>2.536713</td>\n",
       "      <td>0.930043</td>\n",
       "      <td>1.366631</td>\n",
       "      <td>2.907976</td>\n",
       "    </tr>\n",
       "  </tbody>\n",
       "</table>\n",
       "</div>"
      ],
      "text/plain": [
       "          A         B         C         D\n",
       "0 -1.173088 -0.163375 -1.271145 -0.225697\n",
       "1  1.337956  0.120648  0.740850 -0.225697\n",
       "2  1.337956  0.120648  0.740850 -0.225697\n",
       "3  1.337956  0.930043  0.740850 -0.225697\n",
       "4  1.337956  0.930043  0.740850  2.907976\n",
       "5  1.337956  0.930043  0.740850  2.907976\n",
       "6  1.337956  0.930043  0.740850  2.907976\n",
       "7  1.337956  0.930043  0.740850  2.907976\n",
       "8  2.536713  0.930043  0.740850  2.907976\n",
       "9  2.536713  0.930043  1.366631  2.907976"
      ]
     },
     "execution_count": 24,
     "metadata": {},
     "output_type": "execute_result"
    }
   ],
   "source": [
    "# csv\n",
    "kdf.to_csv('output/foo.csv')\n",
    "ks.read_csv('output/foo.csv').head(10)"
   ]
  },
  {
   "cell_type": "code",
   "execution_count": 25,
   "metadata": {},
   "outputs": [
    {
     "data": {
      "text/html": [
       "<div>\n",
       "<style scoped>\n",
       "    .dataframe tbody tr th:only-of-type {\n",
       "        vertical-align: middle;\n",
       "    }\n",
       "\n",
       "    .dataframe tbody tr th {\n",
       "        vertical-align: top;\n",
       "    }\n",
       "\n",
       "    .dataframe thead th {\n",
       "        text-align: right;\n",
       "    }\n",
       "</style>\n",
       "<table border=\"1\" class=\"dataframe\">\n",
       "  <thead>\n",
       "    <tr style=\"text-align: right;\">\n",
       "      <th></th>\n",
       "      <th>A</th>\n",
       "      <th>B</th>\n",
       "      <th>C</th>\n",
       "      <th>D</th>\n",
       "    </tr>\n",
       "  </thead>\n",
       "  <tbody>\n",
       "    <tr>\n",
       "      <th>0</th>\n",
       "      <td>-1.173088</td>\n",
       "      <td>-0.163375</td>\n",
       "      <td>-1.271145</td>\n",
       "      <td>-0.225697</td>\n",
       "    </tr>\n",
       "    <tr>\n",
       "      <th>1</th>\n",
       "      <td>1.337956</td>\n",
       "      <td>0.120648</td>\n",
       "      <td>0.740850</td>\n",
       "      <td>-0.225697</td>\n",
       "    </tr>\n",
       "    <tr>\n",
       "      <th>2</th>\n",
       "      <td>1.337956</td>\n",
       "      <td>0.120648</td>\n",
       "      <td>0.740850</td>\n",
       "      <td>-0.225697</td>\n",
       "    </tr>\n",
       "    <tr>\n",
       "      <th>3</th>\n",
       "      <td>1.337956</td>\n",
       "      <td>0.930043</td>\n",
       "      <td>0.740850</td>\n",
       "      <td>-0.225697</td>\n",
       "    </tr>\n",
       "    <tr>\n",
       "      <th>4</th>\n",
       "      <td>1.337956</td>\n",
       "      <td>0.930043</td>\n",
       "      <td>0.740850</td>\n",
       "      <td>2.907976</td>\n",
       "    </tr>\n",
       "    <tr>\n",
       "      <th>5</th>\n",
       "      <td>1.337956</td>\n",
       "      <td>0.930043</td>\n",
       "      <td>0.740850</td>\n",
       "      <td>2.907976</td>\n",
       "    </tr>\n",
       "    <tr>\n",
       "      <th>6</th>\n",
       "      <td>1.337956</td>\n",
       "      <td>0.930043</td>\n",
       "      <td>0.740850</td>\n",
       "      <td>2.907976</td>\n",
       "    </tr>\n",
       "    <tr>\n",
       "      <th>7</th>\n",
       "      <td>1.337956</td>\n",
       "      <td>0.930043</td>\n",
       "      <td>0.740850</td>\n",
       "      <td>2.907976</td>\n",
       "    </tr>\n",
       "    <tr>\n",
       "      <th>8</th>\n",
       "      <td>2.536713</td>\n",
       "      <td>0.930043</td>\n",
       "      <td>0.740850</td>\n",
       "      <td>2.907976</td>\n",
       "    </tr>\n",
       "    <tr>\n",
       "      <th>9</th>\n",
       "      <td>2.536713</td>\n",
       "      <td>0.930043</td>\n",
       "      <td>1.366631</td>\n",
       "      <td>2.907976</td>\n",
       "    </tr>\n",
       "  </tbody>\n",
       "</table>\n",
       "</div>"
      ],
      "text/plain": [
       "          A         B         C         D\n",
       "0 -1.173088 -0.163375 -1.271145 -0.225697\n",
       "1  1.337956  0.120648  0.740850 -0.225697\n",
       "2  1.337956  0.120648  0.740850 -0.225697\n",
       "3  1.337956  0.930043  0.740850 -0.225697\n",
       "4  1.337956  0.930043  0.740850  2.907976\n",
       "5  1.337956  0.930043  0.740850  2.907976\n",
       "6  1.337956  0.930043  0.740850  2.907976\n",
       "7  1.337956  0.930043  0.740850  2.907976\n",
       "8  2.536713  0.930043  0.740850  2.907976\n",
       "9  2.536713  0.930043  1.366631  2.907976"
      ]
     },
     "execution_count": 25,
     "metadata": {},
     "output_type": "execute_result"
    }
   ],
   "source": [
    "# parquet\n",
    "kdf.to_parquet('output/bar.parquet')\n",
    "ks.read_parquet('output/bar.parquet').head(10)"
   ]
  },
  {
   "cell_type": "code",
   "execution_count": 26,
   "metadata": {},
   "outputs": [
    {
     "data": {
      "text/html": [
       "<div>\n",
       "<style scoped>\n",
       "    .dataframe tbody tr th:only-of-type {\n",
       "        vertical-align: middle;\n",
       "    }\n",
       "\n",
       "    .dataframe tbody tr th {\n",
       "        vertical-align: top;\n",
       "    }\n",
       "\n",
       "    .dataframe thead th {\n",
       "        text-align: right;\n",
       "    }\n",
       "</style>\n",
       "<table border=\"1\" class=\"dataframe\">\n",
       "  <thead>\n",
       "    <tr style=\"text-align: right;\">\n",
       "      <th></th>\n",
       "      <th>A</th>\n",
       "      <th>B</th>\n",
       "      <th>C</th>\n",
       "      <th>D</th>\n",
       "    </tr>\n",
       "  </thead>\n",
       "  <tbody>\n",
       "    <tr>\n",
       "      <th>0</th>\n",
       "      <td>-1.173088</td>\n",
       "      <td>-0.163375</td>\n",
       "      <td>-1.271145</td>\n",
       "      <td>-0.225697</td>\n",
       "    </tr>\n",
       "    <tr>\n",
       "      <th>1</th>\n",
       "      <td>1.337956</td>\n",
       "      <td>0.120648</td>\n",
       "      <td>0.740850</td>\n",
       "      <td>-0.225697</td>\n",
       "    </tr>\n",
       "    <tr>\n",
       "      <th>2</th>\n",
       "      <td>1.337956</td>\n",
       "      <td>0.120648</td>\n",
       "      <td>0.740850</td>\n",
       "      <td>-0.225697</td>\n",
       "    </tr>\n",
       "    <tr>\n",
       "      <th>3</th>\n",
       "      <td>1.337956</td>\n",
       "      <td>0.930043</td>\n",
       "      <td>0.740850</td>\n",
       "      <td>-0.225697</td>\n",
       "    </tr>\n",
       "    <tr>\n",
       "      <th>4</th>\n",
       "      <td>1.337956</td>\n",
       "      <td>0.930043</td>\n",
       "      <td>0.740850</td>\n",
       "      <td>2.907976</td>\n",
       "    </tr>\n",
       "    <tr>\n",
       "      <th>5</th>\n",
       "      <td>1.337956</td>\n",
       "      <td>0.930043</td>\n",
       "      <td>0.740850</td>\n",
       "      <td>2.907976</td>\n",
       "    </tr>\n",
       "    <tr>\n",
       "      <th>6</th>\n",
       "      <td>1.337956</td>\n",
       "      <td>0.930043</td>\n",
       "      <td>0.740850</td>\n",
       "      <td>2.907976</td>\n",
       "    </tr>\n",
       "    <tr>\n",
       "      <th>7</th>\n",
       "      <td>1.337956</td>\n",
       "      <td>0.930043</td>\n",
       "      <td>0.740850</td>\n",
       "      <td>2.907976</td>\n",
       "    </tr>\n",
       "    <tr>\n",
       "      <th>8</th>\n",
       "      <td>2.536713</td>\n",
       "      <td>0.930043</td>\n",
       "      <td>0.740850</td>\n",
       "      <td>2.907976</td>\n",
       "    </tr>\n",
       "    <tr>\n",
       "      <th>9</th>\n",
       "      <td>2.536713</td>\n",
       "      <td>0.930043</td>\n",
       "      <td>1.366631</td>\n",
       "      <td>2.907976</td>\n",
       "    </tr>\n",
       "  </tbody>\n",
       "</table>\n",
       "</div>"
      ],
      "text/plain": [
       "          A         B         C         D\n",
       "0 -1.173088 -0.163375 -1.271145 -0.225697\n",
       "1  1.337956  0.120648  0.740850 -0.225697\n",
       "2  1.337956  0.120648  0.740850 -0.225697\n",
       "3  1.337956  0.930043  0.740850 -0.225697\n",
       "4  1.337956  0.930043  0.740850  2.907976\n",
       "5  1.337956  0.930043  0.740850  2.907976\n",
       "6  1.337956  0.930043  0.740850  2.907976\n",
       "7  1.337956  0.930043  0.740850  2.907976\n",
       "8  2.536713  0.930043  0.740850  2.907976\n",
       "9  2.536713  0.930043  1.366631  2.907976"
      ]
     },
     "execution_count": 26,
     "metadata": {},
     "output_type": "execute_result"
    }
   ],
   "source": [
    "# Spark IO\n",
    "kdf.to_spark_io('output/zoo.orc', format=\"orc\")\n",
    "ks.read_spark_io('output/zoo.orc', format=\"orc\").head(10)"
   ]
  },
  {
   "cell_type": "markdown",
   "metadata": {},
   "source": [
    "## Using SQL in Koalas"
   ]
  },
  {
   "cell_type": "code",
   "execution_count": 28,
   "metadata": {},
   "outputs": [
    {
     "data": {
      "text/html": [
       "<div>\n",
       "<style scoped>\n",
       "    .dataframe tbody tr th:only-of-type {\n",
       "        vertical-align: middle;\n",
       "    }\n",
       "\n",
       "    .dataframe tbody tr th {\n",
       "        vertical-align: top;\n",
       "    }\n",
       "\n",
       "    .dataframe thead th {\n",
       "        text-align: right;\n",
       "    }\n",
       "</style>\n",
       "<table border=\"1\" class=\"dataframe\">\n",
       "  <thead>\n",
       "    <tr style=\"text-align: right;\">\n",
       "      <th></th>\n",
       "      <th>year</th>\n",
       "      <th>pig</th>\n",
       "      <th>horse</th>\n",
       "    </tr>\n",
       "  </thead>\n",
       "  <tbody>\n",
       "    <tr>\n",
       "      <th>0</th>\n",
       "      <td>1990</td>\n",
       "      <td>20</td>\n",
       "      <td>4</td>\n",
       "    </tr>\n",
       "    <tr>\n",
       "      <th>1</th>\n",
       "      <td>1997</td>\n",
       "      <td>18</td>\n",
       "      <td>25</td>\n",
       "    </tr>\n",
       "    <tr>\n",
       "      <th>2</th>\n",
       "      <td>2003</td>\n",
       "      <td>489</td>\n",
       "      <td>281</td>\n",
       "    </tr>\n",
       "    <tr>\n",
       "      <th>3</th>\n",
       "      <td>2009</td>\n",
       "      <td>675</td>\n",
       "      <td>600</td>\n",
       "    </tr>\n",
       "    <tr>\n",
       "      <th>4</th>\n",
       "      <td>2014</td>\n",
       "      <td>1776</td>\n",
       "      <td>1900</td>\n",
       "    </tr>\n",
       "  </tbody>\n",
       "</table>\n",
       "</div>"
      ],
      "text/plain": [
       "   year   pig  horse\n",
       "0  1990    20      4\n",
       "1  1997    18     25\n",
       "2  2003   489    281\n",
       "3  2009   675    600\n",
       "4  2014  1776   1900"
      ]
     },
     "execution_count": 28,
     "metadata": {},
     "output_type": "execute_result"
    }
   ],
   "source": [
    "kdf = ks.DataFrame({'year': [1990, 1997, 2003, 2009, 2014],\n",
    "                     'pig': [20, 18, 489, 675, 1776],\n",
    "                     'horse': [4, 25, 281, 600, 1900]})\n",
    "kdf"
   ]
  },
  {
   "cell_type": "code",
   "execution_count": 30,
   "metadata": {},
   "outputs": [
    {
     "data": {
      "text/html": [
       "<div>\n",
       "<style scoped>\n",
       "    .dataframe tbody tr th:only-of-type {\n",
       "        vertical-align: middle;\n",
       "    }\n",
       "\n",
       "    .dataframe tbody tr th {\n",
       "        vertical-align: top;\n",
       "    }\n",
       "\n",
       "    .dataframe thead th {\n",
       "        text-align: right;\n",
       "    }\n",
       "</style>\n",
       "<table border=\"1\" class=\"dataframe\">\n",
       "  <thead>\n",
       "    <tr style=\"text-align: right;\">\n",
       "      <th></th>\n",
       "      <th>year</th>\n",
       "      <th>pig</th>\n",
       "      <th>horse</th>\n",
       "    </tr>\n",
       "  </thead>\n",
       "  <tbody>\n",
       "    <tr>\n",
       "      <th>0</th>\n",
       "      <td>2003</td>\n",
       "      <td>489</td>\n",
       "      <td>281</td>\n",
       "    </tr>\n",
       "    <tr>\n",
       "      <th>1</th>\n",
       "      <td>2009</td>\n",
       "      <td>675</td>\n",
       "      <td>600</td>\n",
       "    </tr>\n",
       "    <tr>\n",
       "      <th>2</th>\n",
       "      <td>2014</td>\n",
       "      <td>1776</td>\n",
       "      <td>1900</td>\n",
       "    </tr>\n",
       "  </tbody>\n",
       "</table>\n",
       "</div>"
      ],
      "text/plain": [
       "   year   pig  horse\n",
       "0  2003   489    281\n",
       "1  2009   675    600\n",
       "2  2014  1776   1900"
      ]
     },
     "execution_count": 30,
     "metadata": {},
     "output_type": "execute_result"
    }
   ],
   "source": [
    "ks.sql(\"SELECT year, pig, horse FROM {kdf} WHERE horse > 200\")"
   ]
  },
  {
   "cell_type": "code",
   "execution_count": 32,
   "metadata": {},
   "outputs": [
    {
     "data": {
      "text/html": [
       "<div>\n",
       "<style scoped>\n",
       "    .dataframe tbody tr th:only-of-type {\n",
       "        vertical-align: middle;\n",
       "    }\n",
       "\n",
       "    .dataframe tbody tr th {\n",
       "        vertical-align: top;\n",
       "    }\n",
       "\n",
       "    .dataframe thead th {\n",
       "        text-align: right;\n",
       "    }\n",
       "</style>\n",
       "<table border=\"1\" class=\"dataframe\">\n",
       "  <thead>\n",
       "    <tr style=\"text-align: right;\">\n",
       "      <th></th>\n",
       "      <th>year</th>\n",
       "      <th>sheep</th>\n",
       "      <th>chicken</th>\n",
       "    </tr>\n",
       "  </thead>\n",
       "  <tbody>\n",
       "    <tr>\n",
       "      <th>0</th>\n",
       "      <td>1990</td>\n",
       "      <td>22</td>\n",
       "      <td>250</td>\n",
       "    </tr>\n",
       "    <tr>\n",
       "      <th>1</th>\n",
       "      <td>1997</td>\n",
       "      <td>50</td>\n",
       "      <td>326</td>\n",
       "    </tr>\n",
       "    <tr>\n",
       "      <th>2</th>\n",
       "      <td>2003</td>\n",
       "      <td>121</td>\n",
       "      <td>589</td>\n",
       "    </tr>\n",
       "    <tr>\n",
       "      <th>3</th>\n",
       "      <td>2009</td>\n",
       "      <td>445</td>\n",
       "      <td>1241</td>\n",
       "    </tr>\n",
       "    <tr>\n",
       "      <th>4</th>\n",
       "      <td>2014</td>\n",
       "      <td>791</td>\n",
       "      <td>2118</td>\n",
       "    </tr>\n",
       "  </tbody>\n",
       "</table>\n",
       "</div>"
      ],
      "text/plain": [
       "   year  sheep  chicken\n",
       "0  1990     22      250\n",
       "1  1997     50      326\n",
       "2  2003    121      589\n",
       "3  2009    445     1241\n",
       "4  2014    791     2118"
      ]
     },
     "execution_count": 32,
     "metadata": {},
     "output_type": "execute_result"
    }
   ],
   "source": [
    "pdf = pd.DataFrame({'year': [1990, 1997, 2003, 2009, 2014],\n",
    "                     'sheep': [22, 50, 121, 445, 791],\n",
    "                     'chicken': [250, 326, 589, 1241, 2118]})\n",
    "pdf"
   ]
  },
  {
   "cell_type": "code",
   "execution_count": 33,
   "metadata": {},
   "outputs": [
    {
     "data": {
      "text/html": [
       "<div>\n",
       "<style scoped>\n",
       "    .dataframe tbody tr th:only-of-type {\n",
       "        vertical-align: middle;\n",
       "    }\n",
       "\n",
       "    .dataframe tbody tr th {\n",
       "        vertical-align: top;\n",
       "    }\n",
       "\n",
       "    .dataframe thead th {\n",
       "        text-align: right;\n",
       "    }\n",
       "</style>\n",
       "<table border=\"1\" class=\"dataframe\">\n",
       "  <thead>\n",
       "    <tr style=\"text-align: right;\">\n",
       "      <th></th>\n",
       "      <th>pig</th>\n",
       "      <th>chicken</th>\n",
       "    </tr>\n",
       "  </thead>\n",
       "  <tbody>\n",
       "    <tr>\n",
       "      <th>0</th>\n",
       "      <td>18</td>\n",
       "      <td>326</td>\n",
       "    </tr>\n",
       "    <tr>\n",
       "      <th>1</th>\n",
       "      <td>20</td>\n",
       "      <td>250</td>\n",
       "    </tr>\n",
       "    <tr>\n",
       "      <th>2</th>\n",
       "      <td>489</td>\n",
       "      <td>589</td>\n",
       "    </tr>\n",
       "    <tr>\n",
       "      <th>3</th>\n",
       "      <td>675</td>\n",
       "      <td>1241</td>\n",
       "    </tr>\n",
       "    <tr>\n",
       "      <th>4</th>\n",
       "      <td>1776</td>\n",
       "      <td>2118</td>\n",
       "    </tr>\n",
       "  </tbody>\n",
       "</table>\n",
       "</div>"
      ],
      "text/plain": [
       "    pig  chicken\n",
       "0    18      326\n",
       "1    20      250\n",
       "2   489      589\n",
       "3   675     1241\n",
       "4  1776     2118"
      ]
     },
     "execution_count": 33,
     "metadata": {},
     "output_type": "execute_result"
    }
   ],
   "source": [
    "ks.sql('''\n",
    "    SELECT ks.pig, pd.chicken\n",
    "    FROM {kdf} ks INNER JOIN {pdf} pd\n",
    "    ON ks.year = pd.year\n",
    "    ORDER BY ks.pig, pd.chicken\n",
    "''')"
   ]
  },
  {
   "cell_type": "markdown",
   "metadata": {},
   "source": [
    "## Spark Schema"
   ]
  },
  {
   "cell_type": "code",
   "execution_count": 42,
   "metadata": {},
   "outputs": [],
   "source": [
    "import numpy as np\n",
    "import pandas as pd\n",
    "kdf = ks.DataFrame({'a': list('abc'),\n",
    "                     'b': list(range(1, 4)),\n",
    "                     'c': np.arange(3, 6).astype('i1'),\n",
    "                     'd': np.arange(4.0, 7.0, dtype='float64'),\n",
    "                     'e': [True, False, True],\n",
    "                     'f': pd.date_range('20130101', periods=3)},\n",
    "                    columns=['a', 'b', 'c', 'd', 'e', 'f'])"
   ]
  },
  {
   "cell_type": "code",
   "execution_count": 46,
   "metadata": {},
   "outputs": [
    {
     "data": {
      "text/plain": [
       "'struct<a:string,b:bigint,c:tinyint,d:double,e:boolean,f:timestamp>'"
      ]
     },
     "execution_count": 46,
     "metadata": {},
     "output_type": "execute_result"
    }
   ],
   "source": [
    "# Print the schema out in Spark’s DDL formatted string\n",
    "kdf.spark.schema().simpleString()"
   ]
  },
  {
   "cell_type": "code",
   "execution_count": 44,
   "metadata": {},
   "outputs": [
    {
     "data": {
      "text/plain": [
       "'struct<index:bigint,a:string,b:bigint,c:tinyint,d:double,e:boolean,f:timestamp>'"
      ]
     },
     "execution_count": 44,
     "metadata": {},
     "output_type": "execute_result"
    }
   ],
   "source": [
    "kdf.spark.schema(index_col='index').simpleString()"
   ]
  },
  {
   "cell_type": "code",
   "execution_count": 45,
   "metadata": {},
   "outputs": [
    {
     "name": "stdout",
     "output_type": "stream",
     "text": [
      "root\n",
      " |-- a: string (nullable = false)\n",
      " |-- b: long (nullable = false)\n",
      " |-- c: byte (nullable = false)\n",
      " |-- d: double (nullable = false)\n",
      " |-- e: boolean (nullable = false)\n",
      " |-- f: timestamp (nullable = false)\n",
      "\n"
     ]
    }
   ],
   "source": [
    "# Print out the schema as same as Spark’s DataFrame.printSchema()\n",
    "kdf.spark.print_schema()"
   ]
  },
  {
   "cell_type": "markdown",
   "metadata": {},
   "source": [
    "## Explain Spark Plan"
   ]
  },
  {
   "cell_type": "code",
   "execution_count": 47,
   "metadata": {},
   "outputs": [
    {
     "name": "stdout",
     "output_type": "stream",
     "text": [
      "== Physical Plan ==\n",
      "*(1) Scan ExistingRDD[__index_level_0__#1853L,a#1854,b#1855L,c#1856,d#1857,e#1858,f#1859]\n",
      "\n",
      "\n"
     ]
    }
   ],
   "source": [
    "kdf.spark.explain()"
   ]
  },
  {
   "cell_type": "code",
   "execution_count": 48,
   "metadata": {},
   "outputs": [
    {
     "name": "stdout",
     "output_type": "stream",
     "text": [
      "== Parsed Logical Plan ==\n",
      "Project [__index_level_0__#1853L, a#1854, b#1855L, c#1856, d#1857, e#1858, f#1859]\n",
      "+- Project [__index_level_0__#1853L, a#1854, b#1855L, c#1856, d#1857, e#1858, f#1859, monotonically_increasing_id() AS __natural_order__#1867L]\n",
      "   +- LogicalRDD [__index_level_0__#1853L, a#1854, b#1855L, c#1856, d#1857, e#1858, f#1859], false\n",
      "\n",
      "== Analyzed Logical Plan ==\n",
      "__index_level_0__: bigint, a: string, b: bigint, c: tinyint, d: double, e: boolean, f: timestamp\n",
      "Project [__index_level_0__#1853L, a#1854, b#1855L, c#1856, d#1857, e#1858, f#1859]\n",
      "+- Project [__index_level_0__#1853L, a#1854, b#1855L, c#1856, d#1857, e#1858, f#1859, monotonically_increasing_id() AS __natural_order__#1867L]\n",
      "   +- LogicalRDD [__index_level_0__#1853L, a#1854, b#1855L, c#1856, d#1857, e#1858, f#1859], false\n",
      "\n",
      "== Optimized Logical Plan ==\n",
      "LogicalRDD [__index_level_0__#1853L, a#1854, b#1855L, c#1856, d#1857, e#1858, f#1859], false\n",
      "\n",
      "== Physical Plan ==\n",
      "*(1) Scan ExistingRDD[__index_level_0__#1853L,a#1854,b#1855L,c#1856,d#1857,e#1858,f#1859]\n",
      "\n"
     ]
    }
   ],
   "source": [
    "kdf.spark.explain(True)"
   ]
  },
  {
   "cell_type": "code",
   "execution_count": 50,
   "metadata": {},
   "outputs": [
    {
     "name": "stdout",
     "output_type": "stream",
     "text": [
      "== Parsed Logical Plan ==\n",
      "Project [__index_level_0__#1853L, a#1854, b#1855L, c#1856, d#1857, e#1858, f#1859]\n",
      "+- Project [__index_level_0__#1853L, a#1854, b#1855L, c#1856, d#1857, e#1858, f#1859, monotonically_increasing_id() AS __natural_order__#1867L]\n",
      "   +- LogicalRDD [__index_level_0__#1853L, a#1854, b#1855L, c#1856, d#1857, e#1858, f#1859], false\n",
      "\n",
      "== Analyzed Logical Plan ==\n",
      "__index_level_0__: bigint, a: string, b: bigint, c: tinyint, d: double, e: boolean, f: timestamp\n",
      "Project [__index_level_0__#1853L, a#1854, b#1855L, c#1856, d#1857, e#1858, f#1859]\n",
      "+- Project [__index_level_0__#1853L, a#1854, b#1855L, c#1856, d#1857, e#1858, f#1859, monotonically_increasing_id() AS __natural_order__#1867L]\n",
      "   +- LogicalRDD [__index_level_0__#1853L, a#1854, b#1855L, c#1856, d#1857, e#1858, f#1859], false\n",
      "\n",
      "== Optimized Logical Plan ==\n",
      "LogicalRDD [__index_level_0__#1853L, a#1854, b#1855L, c#1856, d#1857, e#1858, f#1859], false\n",
      "\n",
      "== Physical Plan ==\n",
      "*(1) Scan ExistingRDD[__index_level_0__#1853L,a#1854,b#1855L,c#1856,d#1857,e#1858,f#1859]\n",
      "\n"
     ]
    }
   ],
   "source": [
    "kdf.spark.explain(mode=\"extended\")"
   ]
  }
 ],
 "metadata": {
  "kernelspec": {
   "display_name": "Python 3",
   "language": "python",
   "name": "python3"
  },
  "language_info": {
   "codemirror_mode": {
    "name": "ipython",
    "version": 3
   },
   "file_extension": ".py",
   "mimetype": "text/x-python",
   "name": "python",
   "nbconvert_exporter": "python",
   "pygments_lexer": "ipython3",
   "version": "3.8.3"
  }
 },
 "nbformat": 4,
 "nbformat_minor": 4
}
