{
 "cells": [
  {
   "cell_type": "code",
   "execution_count": 1,
   "metadata": {},
   "outputs": [],
   "source": [
    "# %%bash\n",
    "# conda install -c conda-forge vaex"
   ]
  },
  {
   "cell_type": "markdown",
   "metadata": {},
   "source": [
    "## References\n",
    "\n",
    "- https://vaex.io/docs/tutorial.html"
   ]
  },
  {
   "cell_type": "code",
   "execution_count": 2,
   "metadata": {},
   "outputs": [],
   "source": [
    "import vaex\n",
    "df = vaex.example()\n",
    "# df  # Since this is the last statement in a cell, it will print the DataFrame in a nice HTML format."
   ]
  },
  {
   "cell_type": "code",
   "execution_count": 3,
   "metadata": {},
   "outputs": [
    {
     "data": {
      "text/plain": [
       "Expression = x\n",
       "Length: 330,000 dtype: float32 (column)\n",
       "---------------------------------------\n",
       "     0    1.23187\n",
       "     1  -0.163701\n",
       "     2   -2.12026\n",
       "     3    4.71559\n",
       "     4    7.21719\n",
       "       ...       \n",
       "329995    1.99387\n",
       "329996    3.71809\n",
       "329997   0.368851\n",
       "329998  -0.112593\n",
       "329999    20.7962"
      ]
     },
     "execution_count": 3,
     "metadata": {},
     "output_type": "execute_result"
    }
   ],
   "source": [
    "df.x"
   ]
  },
  {
   "cell_type": "code",
   "execution_count": 4,
   "metadata": {},
   "outputs": [
    {
     "data": {
      "image/png": "[encoded data removed]",
      "text/plain": [
       "<Figure size 432x288 with 1 Axes>"
      ]
     },
     "metadata": {
      "needs_background": "light"
     },
     "output_type": "display_data"
    }
   ],
   "source": [
    "import numpy as np\n",
    "import matplotlib.pylab as plt\n",
    "\n",
    "counts_x = df.count(binby=df.x, limits=[-10, 10], shape=64)\n",
    "plt.plot(np.linspace(-10, 10, 64), counts_x)\n",
    "plt.show()"
   ]
  },
  {
   "cell_type": "code",
   "execution_count": 5,
   "metadata": {},
   "outputs": [
    {
     "data": {
      "text/html": [
       "<table>\n",
       "<thead>\n",
       "<tr><th>#                            </th><th style=\"text-align: right;\">  x</th><th style=\"text-align: right;\">  y</th></tr>\n",
       "</thead>\n",
       "<tbody>\n",
       "<tr><td><i style='opacity: 0.6'>0</i></td><td style=\"text-align: right;\">  0</td><td style=\"text-align: right;\">  0</td></tr>\n",
       "<tr><td><i style='opacity: 0.6'>1</i></td><td style=\"text-align: right;\">  1</td><td style=\"text-align: right;\">  1</td></tr>\n",
       "<tr><td><i style='opacity: 0.6'>2</i></td><td style=\"text-align: right;\">  2</td><td style=\"text-align: right;\">  4</td></tr>\n",
       "<tr><td><i style='opacity: 0.6'>3</i></td><td style=\"text-align: right;\">  3</td><td style=\"text-align: right;\">  9</td></tr>\n",
       "<tr><td><i style='opacity: 0.6'>4</i></td><td style=\"text-align: right;\">  4</td><td style=\"text-align: right;\"> 16</td></tr>\n",
       "</tbody>\n",
       "</table>"
      ],
      "text/plain": [
       "  #    x    y\n",
       "  0    0    0\n",
       "  1    1    1\n",
       "  2    2    4\n",
       "  3    3    9\n",
       "  4    4   16"
      ]
     },
     "execution_count": 5,
     "metadata": {},
     "output_type": "execute_result"
    }
   ],
   "source": [
    "import vaex\n",
    "import numpy as np\n",
    "x = np.arange(5)\n",
    "y = x**2\n",
    "df = vaex.from_arrays(x=x, y=y)\n",
    "df"
   ]
  },
  {
   "cell_type": "code",
   "execution_count": 6,
   "metadata": {},
   "outputs": [
    {
     "data": {
      "text/html": [
       "<table>\n",
       "<thead>\n",
       "<tr><th>#                            </th><th>vendor_id  </th><th>pickup_datetime              </th><th>dropoff_datetime             </th><th style=\"text-align: right;\">  passenger_count</th><th>payment_type  </th><th style=\"text-align: right;\">  trip_distance</th><th style=\"text-align: right;\">  pickup_longitude</th><th style=\"text-align: right;\">  pickup_latitude</th><th style=\"text-align: right;\">  rate_code</th><th style=\"text-align: right;\">  store_and_fwd_flag</th><th style=\"text-align: right;\">  dropoff_longitude</th><th style=\"text-align: right;\">  dropoff_latitude</th><th style=\"text-align: right;\">  fare_amount</th><th style=\"text-align: right;\">  surcharge</th><th style=\"text-align: right;\">  mta_tax</th><th style=\"text-align: right;\">  tip_amount</th><th style=\"text-align: right;\">  tolls_amount</th><th style=\"text-align: right;\">  total_amount</th></tr>\n",
       "</thead>\n",
       "<tbody>\n",
       "<tr><td><i style='opacity: 0.6'>0</i></td><td>VTS        </td><td>2009-01-04 02:52:00.000000000</td><td>2009-01-04 03:02:00.000000000</td><td style=\"text-align: right;\">                1</td><td>CASH          </td><td style=\"text-align: right;\">           2.63</td><td style=\"text-align: right;\">          -73.992 </td><td style=\"text-align: right;\">          40.7216</td><td style=\"text-align: right;\">        nan</td><td style=\"text-align: right;\">                 nan</td><td style=\"text-align: right;\">           -73.9938</td><td style=\"text-align: right;\">           40.6959</td><td style=\"text-align: right;\">          8.9</td><td style=\"text-align: right;\">        0.5</td><td style=\"text-align: right;\">      nan</td><td style=\"text-align: right;\">        0   </td><td style=\"text-align: right;\">             0</td><td style=\"text-align: right;\">          9.4 </td></tr>\n",
       "<tr><td><i style='opacity: 0.6'>1</i></td><td>VTS        </td><td>2009-01-04 03:31:00.000000000</td><td>2009-01-04 03:38:00.000000000</td><td style=\"text-align: right;\">                3</td><td>Credit        </td><td style=\"text-align: right;\">           4.55</td><td style=\"text-align: right;\">          -73.9821</td><td style=\"text-align: right;\">          40.7363</td><td style=\"text-align: right;\">        nan</td><td style=\"text-align: right;\">                 nan</td><td style=\"text-align: right;\">           -73.9558</td><td style=\"text-align: right;\">           40.768 </td><td style=\"text-align: right;\">         12.1</td><td style=\"text-align: right;\">        0.5</td><td style=\"text-align: right;\">      nan</td><td style=\"text-align: right;\">        2   </td><td style=\"text-align: right;\">             0</td><td style=\"text-align: right;\">         14.6 </td></tr>\n",
       "<tr><td><i style='opacity: 0.6'>2</i></td><td>VTS        </td><td>2009-01-03 15:43:00.000000000</td><td>2009-01-03 15:57:00.000000000</td><td style=\"text-align: right;\">                5</td><td>Credit        </td><td style=\"text-align: right;\">          10.35</td><td style=\"text-align: right;\">          -74.0026</td><td style=\"text-align: right;\">          40.7397</td><td style=\"text-align: right;\">        nan</td><td style=\"text-align: right;\">                 nan</td><td style=\"text-align: right;\">           -73.87  </td><td style=\"text-align: right;\">           40.7702</td><td style=\"text-align: right;\">         23.7</td><td style=\"text-align: right;\">        0  </td><td style=\"text-align: right;\">      nan</td><td style=\"text-align: right;\">        4.74</td><td style=\"text-align: right;\">             0</td><td style=\"text-align: right;\">         28.44</td></tr>\n",
       "<tr><td><i style='opacity: 0.6'>3</i></td><td>DDS        </td><td>2009-01-01 20:52:58.000000000</td><td>2009-01-01 21:14:00.000000000</td><td style=\"text-align: right;\">                1</td><td>CREDIT        </td><td style=\"text-align: right;\">           5   </td><td style=\"text-align: right;\">          -73.9743</td><td style=\"text-align: right;\">          40.791 </td><td style=\"text-align: right;\">        nan</td><td style=\"text-align: right;\">                 nan</td><td style=\"text-align: right;\">           -73.9966</td><td style=\"text-align: right;\">           40.7318</td><td style=\"text-align: right;\">         14.9</td><td style=\"text-align: right;\">        0.5</td><td style=\"text-align: right;\">      nan</td><td style=\"text-align: right;\">        3.05</td><td style=\"text-align: right;\">             0</td><td style=\"text-align: right;\">         18.45</td></tr>\n",
       "<tr><td><i style='opacity: 0.6'>4</i></td><td>DDS        </td><td>2009-01-24 16:18:23.000000000</td><td>2009-01-24 16:24:56.000000000</td><td style=\"text-align: right;\">                1</td><td>CASH          </td><td style=\"text-align: right;\">           0.4 </td><td style=\"text-align: right;\">          -74.0016</td><td style=\"text-align: right;\">          40.7194</td><td style=\"text-align: right;\">        nan</td><td style=\"text-align: right;\">                 nan</td><td style=\"text-align: right;\">           -74.0084</td><td style=\"text-align: right;\">           40.7203</td><td style=\"text-align: right;\">          3.7</td><td style=\"text-align: right;\">        0  </td><td style=\"text-align: right;\">      nan</td><td style=\"text-align: right;\">        0   </td><td style=\"text-align: right;\">             0</td><td style=\"text-align: right;\">          3.7 </td></tr>\n",
       "</tbody>\n",
       "</table>"
      ],
      "text/plain": [
       "  #  vendor_id    pickup_datetime                dropoff_datetime                 passenger_count  payment_type      trip_distance    pickup_longitude    pickup_latitude    rate_code    store_and_fwd_flag    dropoff_longitude    dropoff_latitude    fare_amount    surcharge    mta_tax    tip_amount    tolls_amount    total_amount\n",
       "  0  VTS          2009-01-04 02:52:00.000000000  2009-01-04 03:02:00.000000000                  1  CASH                       2.63            -73.992             40.7216          nan                   nan             -73.9938             40.6959            8.9          0.5        nan          0                  0            9.4\n",
       "  1  VTS          2009-01-04 03:31:00.000000000  2009-01-04 03:38:00.000000000                  3  Credit                     4.55            -73.9821            40.7363          nan                   nan             -73.9558             40.768            12.1          0.5        nan          2                  0           14.6\n",
       "  2  VTS          2009-01-03 15:43:00.000000000  2009-01-03 15:57:00.000000000                  5  Credit                    10.35            -74.0026            40.7397          nan                   nan             -73.87               40.7702           23.7          0          nan          4.74               0           28.44\n",
       "  3  DDS          2009-01-01 20:52:58.000000000  2009-01-01 21:14:00.000000000                  1  CREDIT                     5               -73.9743            40.791           nan                   nan             -73.9966             40.7318           14.9          0.5        nan          3.05               0           18.45\n",
       "  4  DDS          2009-01-24 16:18:23.000000000  2009-01-24 16:24:56.000000000                  1  CASH                       0.4             -74.0016            40.7194          nan                   nan             -74.0084             40.7203            3.7          0          nan          0                  0            3.7"
      ]
     },
     "execution_count": 6,
     "metadata": {},
     "output_type": "execute_result"
    }
   ],
   "source": [
    "# Read in the NYC Taxi dataset straight from S3\n",
    "nyctaxi = vaex.open('s3://vaex/taxi/yellow_taxi_2009_2015_f32.hdf5?anon=true')\n",
    "nyctaxi.head(5)"
   ]
  },
  {
   "cell_type": "markdown",
   "metadata": {},
   "source": [
    "the data from S3 above were cached on disk "
   ]
  },
  {
   "cell_type": "markdown",
   "metadata": {},
   "source": [
    "## Data Reading"
   ]
  },
  {
   "cell_type": "code",
   "execution_count": 8,
   "metadata": {},
   "outputs": [
    {
     "data": {
      "text/html": [
       "<table>\n",
       "<thead>\n",
       "<tr><th>#                                     </th><th>mno_ms_id  </th><th>pos_time           </th><th>mno_cell_id  </th></tr>\n",
       "</thead>\n",
       "<tbody>\n",
       "<tr><td><i style='opacity: 0.6'>0</i>         </td><td>617487     </td><td>2019-01-01 17:06:30</td><td>11891        </td></tr>\n",
       "<tr><td><i style='opacity: 0.6'>1</i>         </td><td>617487     </td><td>2019-01-01 07:01:44</td><td>9810         </td></tr>\n",
       "<tr><td><i style='opacity: 0.6'>2</i>         </td><td>617487     </td><td>2019-01-01 14:14:09</td><td>7534         </td></tr>\n",
       "<tr><td><i style='opacity: 0.6'>3</i>         </td><td>617487     </td><td>2019-01-01 11:51:41</td><td>545          </td></tr>\n",
       "<tr><td><i style='opacity: 0.6'>4</i>         </td><td>617487     </td><td>2019-01-01 07:23:54</td><td>9752         </td></tr>\n",
       "<tr><td>...                                   </td><td>...        </td><td>...                </td><td>...          </td></tr>\n",
       "<tr><td><i style='opacity: 0.6'>31,486,158</i></td><td>861822     </td><td>2019-01-31 04:15:07</td><td>5248         </td></tr>\n",
       "<tr><td><i style='opacity: 0.6'>31,486,159</i></td><td>861822     </td><td>2019-01-31 17:49:50</td><td>1210         </td></tr>\n",
       "<tr><td><i style='opacity: 0.6'>31,486,160</i></td><td>861822     </td><td>2019-01-31 09:54:36</td><td>2439         </td></tr>\n",
       "<tr><td><i style='opacity: 0.6'>31,486,161</i></td><td>861822     </td><td>2019-01-31 12:10:28</td><td>14092        </td></tr>\n",
       "<tr><td><i style='opacity: 0.6'>31,486,162</i></td><td>861822     </td><td>2019-01-31 10:25:27</td><td>12876        </td></tr>\n",
       "</tbody>\n",
       "</table>"
      ],
      "text/plain": [
       "#           mno_ms_id    pos_time             mno_cell_id\n",
       "0           617487       2019-01-01 17:06:30  11891\n",
       "1           617487       2019-01-01 07:01:44  9810\n",
       "2           617487       2019-01-01 14:14:09  7534\n",
       "3           617487       2019-01-01 11:51:41  545\n",
       "4           617487       2019-01-01 07:23:54  9752\n",
       "...         ...          ...                  ...\n",
       "31,486,158  861822       2019-01-31 04:15:07  5248\n",
       "31,486,159  861822       2019-01-31 17:49:50  1210\n",
       "31,486,160  861822       2019-01-31 09:54:36  2439\n",
       "31,486,161  861822       2019-01-31 12:10:28  14092\n",
       "31,486,162  861822       2019-01-31 10:25:27  12876"
      ]
     },
     "execution_count": 8,
     "metadata": {},
     "output_type": "execute_result"
    }
   ],
   "source": [
    "input_file = \"/data/raw_data/spectx_cell_mapping_test/cell_mapping_1gb.csv\"\n",
    "df_tmp = vaex.from_csv(input_file, convert=True, copy_index=False)\n",
    "df = vaex.open(input_file + '.hdf5')\n",
    "df"
   ]
  },
  {
   "cell_type": "markdown",
   "metadata": {},
   "source": [
    "## Parallel computations\n",
    "\n",
    "- Vaex can do computations in parallel similar as in [joblib](https://joblib.readthedocs.io/en/latest/index.html) and `dask`"
   ]
  },
  {
   "cell_type": "code",
   "execution_count": 9,
   "metadata": {},
   "outputs": [
    {
     "data": {
      "text/plain": [
       "<vaex.promise.Promise at 0x7f18b0f43940>"
      ]
     },
     "execution_count": 9,
     "metadata": {},
     "output_type": "execute_result"
    }
   ],
   "source": [
    "import vaex\n",
    "df = vaex.example()\n",
    "limits = [-10, 10]\n",
    "delayed_count = df.count(df.E, binby=df.x, limits=limits,\n",
    "                         shape=4, delay=True)\n",
    "delayed_count\n",
    "\n"
   ]
  },
  {
   "cell_type": "code",
   "execution_count": 10,
   "metadata": {},
   "outputs": [
    {
     "name": "stdout",
     "output_type": "stream",
     "text": [
      "before calling mean\n",
      "before calling execute\n",
      "calculating mean\n",
      "means [ -94323.68051598 -118749.23850834 -119119.46292653  -95021.66183457]\n",
      "same means [ -94323.68051598 -118749.23850834 -119119.46292653  -95021.66183457]\n"
     ]
    }
   ],
   "source": [
    "delayed_sum = df.sum(df.E, binby=df.x, limits=limits,\n",
    "                         shape=4, delay=True)\n",
    "\n",
    "@vaex.delayed\n",
    "def calculate_mean(sums, counts):\n",
    "    print('calculating mean')\n",
    "    return sums/counts\n",
    "\n",
    "print('before calling mean')\n",
    "# since calculate_mean is decorated with vaex.delayed\n",
    "# this now also returns a 'delayed' object (a promise)\n",
    "delayed_mean = calculate_mean(delayed_sum, delayed_count)\n",
    "\n",
    "# if we'd like to perform operations on that, we can again\n",
    "# use the same decorator\n",
    "@vaex.delayed\n",
    "def print_mean(means):\n",
    "    print('means', means)\n",
    "print_mean(delayed_mean)\n",
    "\n",
    "print('before calling execute')\n",
    "df.execute()\n",
    "\n",
    "# Using the .get on the promise will also return the result\n",
    "# However, this will only work after execute, and may be\n",
    "# subject to change\n",
    "means = delayed_mean.get()\n",
    "print('same means', means)\n"
   ]
  },
  {
   "cell_type": "markdown",
   "metadata": {},
   "source": [
    "## Machine Learning with vaex.ml"
   ]
  },
  {
   "cell_type": "code",
   "execution_count": 11,
   "metadata": {},
   "outputs": [],
   "source": [
    "import vaex\n",
    "vaex.multithreading.thread_count_default = 8\n",
    "import vaex.ml\n",
    "\n",
    "import numpy as np\n",
    "import pylab as plt"
   ]
  },
  {
   "cell_type": "code",
   "execution_count": 12,
   "metadata": {},
   "outputs": [
    {
     "data": {
      "text/html": [
       "<table>\n",
       "<thead>\n",
       "<tr><th>#                              </th><th>sepal_length  </th><th>sepal_width  </th><th>petal_length  </th><th>petal_width  </th><th>class_  </th></tr>\n",
       "</thead>\n",
       "<tbody>\n",
       "<tr><td><i style='opacity: 0.6'>0</i>  </td><td>5.9           </td><td>3.0          </td><td>4.2           </td><td>1.5          </td><td>1       </td></tr>\n",
       "<tr><td><i style='opacity: 0.6'>1</i>  </td><td>6.1           </td><td>3.0          </td><td>4.6           </td><td>1.4          </td><td>1       </td></tr>\n",
       "<tr><td><i style='opacity: 0.6'>2</i>  </td><td>6.6           </td><td>2.9          </td><td>4.6           </td><td>1.3          </td><td>1       </td></tr>\n",
       "<tr><td><i style='opacity: 0.6'>3</i>  </td><td>6.7           </td><td>3.3          </td><td>5.7           </td><td>2.1          </td><td>2       </td></tr>\n",
       "<tr><td><i style='opacity: 0.6'>4</i>  </td><td>5.5           </td><td>4.2          </td><td>1.4           </td><td>0.2          </td><td>0       </td></tr>\n",
       "<tr><td>...                            </td><td>...           </td><td>...          </td><td>...           </td><td>...          </td><td>...     </td></tr>\n",
       "<tr><td><i style='opacity: 0.6'>145</i></td><td>5.2           </td><td>3.4          </td><td>1.4           </td><td>0.2          </td><td>0       </td></tr>\n",
       "<tr><td><i style='opacity: 0.6'>146</i></td><td>5.1           </td><td>3.8          </td><td>1.6           </td><td>0.2          </td><td>0       </td></tr>\n",
       "<tr><td><i style='opacity: 0.6'>147</i></td><td>5.8           </td><td>2.6          </td><td>4.0           </td><td>1.2          </td><td>1       </td></tr>\n",
       "<tr><td><i style='opacity: 0.6'>148</i></td><td>5.7           </td><td>3.8          </td><td>1.7           </td><td>0.3          </td><td>0       </td></tr>\n",
       "<tr><td><i style='opacity: 0.6'>149</i></td><td>6.2           </td><td>2.9          </td><td>4.3           </td><td>1.3          </td><td>1       </td></tr>\n",
       "</tbody>\n",
       "</table>"
      ],
      "text/plain": [
       "#    sepal_length    sepal_width    petal_length    petal_width    class_\n",
       "0    5.9             3.0            4.2             1.5            1\n",
       "1    6.1             3.0            4.6             1.4            1\n",
       "2    6.6             2.9            4.6             1.3            1\n",
       "3    6.7             3.3            5.7             2.1            2\n",
       "4    5.5             4.2            1.4             0.2            0\n",
       "...  ...             ...            ...             ...            ...\n",
       "145  5.2             3.4            1.4             0.2            0\n",
       "146  5.1             3.8            1.6             0.2            0\n",
       "147  5.8             2.6            4.0             1.2            1\n",
       "148  5.7             3.8            1.7             0.3            0\n",
       "149  6.2             2.9            4.3             1.3            1"
      ]
     },
     "execution_count": 12,
     "metadata": {},
     "output_type": "execute_result"
    }
   ],
   "source": [
    "df = vaex.ml.datasets.load_iris()\n",
    "dfdf.scatter(df.petal_length, df.petal_width, c_expr=df.class_);"
   ]
  },
  {
   "cell_type": "code",
   "execution_count": 13,
   "metadata": {},
   "outputs": [
    {
     "data": {
      "image/png": "[encoded data removed]",
      "text/plain": [
       "<Figure size 432x288 with 1 Axes>"
      ]
     },
     "metadata": {
      "needs_background": "light"
     },
     "output_type": "display_data"
    }
   ],
   "source": [
    "df.scatter(df.petal_length, df.petal_width, c_expr=df.class_);"
   ]
  },
  {
   "cell_type": "code",
   "execution_count": 14,
   "metadata": {},
   "outputs": [
    {
     "data": {
      "text/html": [
       "<table>\n",
       "<thead>\n",
       "<tr><th>#                              </th><th>sepal_length  </th><th>sepal_width  </th><th>petal_length  </th><th>petal_width  </th><th>class_  </th><th>scaled_petal_length  </th><th>scaled_petal_width   </th><th>scaled_sepal_length  </th><th>scaled_sepal_width  </th></tr>\n",
       "</thead>\n",
       "<tbody>\n",
       "<tr><td><i style='opacity: 0.6'>0</i>  </td><td>5.9           </td><td>3.0          </td><td>4.2           </td><td>1.5          </td><td>1       </td><td>0.25096730693923325  </td><td>0.39617188299171285  </td><td>0.06866179325140277  </td><td>-0.12495760117130607</td></tr>\n",
       "<tr><td><i style='opacity: 0.6'>1</i>  </td><td>6.1           </td><td>3.0          </td><td>4.6           </td><td>1.4          </td><td>1       </td><td>0.4784301228962429   </td><td>0.26469891297233916  </td><td>0.3109975341387059   </td><td>-0.12495760117130607</td></tr>\n",
       "<tr><td><i style='opacity: 0.6'>2</i>  </td><td>6.6           </td><td>2.9          </td><td>4.6           </td><td>1.3          </td><td>1       </td><td>0.4784301228962429   </td><td>0.13322594295296575  </td><td>0.9168368863569659   </td><td>-0.3563605663033572 </td></tr>\n",
       "<tr><td><i style='opacity: 0.6'>3</i>  </td><td>6.7           </td><td>3.3          </td><td>5.7           </td><td>2.1          </td><td>2       </td><td>1.1039528667780207   </td><td>1.1850097031079545   </td><td>1.0380047568006185   </td><td>0.5692512942248463  </td></tr>\n",
       "<tr><td><i style='opacity: 0.6'>4</i>  </td><td>5.5           </td><td>4.2          </td><td>1.4           </td><td>0.2          </td><td>0       </td><td>-1.341272404759837   </td><td>-1.3129767272601438  </td><td>-0.4160096885232057  </td><td>2.6518779804133055  </td></tr>\n",
       "<tr><td>...                            </td><td>...           </td><td>...          </td><td>...           </td><td>...          </td><td>...     </td><td>...                  </td><td>...                  </td><td>...                  </td><td>...                 </td></tr>\n",
       "<tr><td><i style='opacity: 0.6'>145</i></td><td>5.2           </td><td>3.4          </td><td>1.4           </td><td>0.2          </td><td>0       </td><td>-1.341272404759837   </td><td>-1.3129767272601438  </td><td>-0.7795132998541615  </td><td>0.8006542593568975  </td></tr>\n",
       "<tr><td><i style='opacity: 0.6'>146</i></td><td>5.1           </td><td>3.8          </td><td>1.6           </td><td>0.2          </td><td>0       </td><td>-1.2275409967813318  </td><td>-1.3129767272601438  </td><td>-0.9006811702978141  </td><td>1.726266119885101   </td></tr>\n",
       "<tr><td><i style='opacity: 0.6'>147</i></td><td>5.8           </td><td>2.6          </td><td>4.0           </td><td>1.2          </td><td>1       </td><td>0.13723589896072813  </td><td>0.0017529729335920385</td><td>-0.052506077192249874</td><td>-1.0505694616995096 </td></tr>\n",
       "<tr><td><i style='opacity: 0.6'>148</i></td><td>5.7           </td><td>3.8          </td><td>1.7           </td><td>0.3          </td><td>0       </td><td>-1.1706752927920796  </td><td>-1.18150375724077    </td><td>-0.17367394763590144 </td><td>1.726266119885101   </td></tr>\n",
       "<tr><td><i style='opacity: 0.6'>149</i></td><td>6.2           </td><td>2.9          </td><td>4.3           </td><td>1.3          </td><td>1       </td><td>0.30783301092848553  </td><td>0.13322594295296575  </td><td>0.4321654045823586   </td><td>-0.3563605663033572 </td></tr>\n",
       "</tbody>\n",
       "</table>"
      ],
      "text/plain": [
       "#    sepal_length    sepal_width    petal_length    petal_width    class_    scaled_petal_length    scaled_petal_width     scaled_sepal_length    scaled_sepal_width\n",
       "0    5.9             3.0            4.2             1.5            1         0.25096730693923325    0.39617188299171285    0.06866179325140277    -0.12495760117130607\n",
       "1    6.1             3.0            4.6             1.4            1         0.4784301228962429     0.26469891297233916    0.3109975341387059     -0.12495760117130607\n",
       "2    6.6             2.9            4.6             1.3            1         0.4784301228962429     0.13322594295296575    0.9168368863569659     -0.3563605663033572\n",
       "3    6.7             3.3            5.7             2.1            2         1.1039528667780207     1.1850097031079545     1.0380047568006185     0.5692512942248463\n",
       "4    5.5             4.2            1.4             0.2            0         -1.341272404759837     -1.3129767272601438    -0.4160096885232057    2.6518779804133055\n",
       "...  ...             ...            ...             ...            ...       ...                    ...                    ...                    ...\n",
       "145  5.2             3.4            1.4             0.2            0         -1.341272404759837     -1.3129767272601438    -0.7795132998541615    0.8006542593568975\n",
       "146  5.1             3.8            1.6             0.2            0         -1.2275409967813318    -1.3129767272601438    -0.9006811702978141    1.726266119885101\n",
       "147  5.8             2.6            4.0             1.2            1         0.13723589896072813    0.0017529729335920385  -0.052506077192249874  -1.0505694616995096\n",
       "148  5.7             3.8            1.7             0.3            0         -1.1706752927920796    -1.18150375724077      -0.17367394763590144   1.726266119885101\n",
       "149  6.2             2.9            4.3             1.3            1         0.30783301092848553    0.13322594295296575    0.4321654045823586     -0.3563605663033572"
      ]
     },
     "execution_count": 14,
     "metadata": {},
     "output_type": "execute_result"
    }
   ],
   "source": [
    "features = ['petal_length', 'petal_width', 'sepal_length', 'sepal_width']\n",
    "scaler = vaex.ml.StandardScaler(features=features, prefix='scaled_')\n",
    "scaler.fit(df)\n",
    "df_trans = scaler.transform(df)\n",
    "df_trans"
   ]
  },
  {
   "cell_type": "markdown",
   "metadata": {},
   "source": [
    "### Encoding of Categorical Features"
   ]
  },
  {
   "cell_type": "code",
   "execution_count": 15,
   "metadata": {},
   "outputs": [
    {
     "data": {
      "text/html": [
       "<table>\n",
       "<thead>\n",
       "<tr><th>#                            </th><th style=\"text-align: right;\">  pclass</th><th>survived  </th><th>name                                           </th><th>sex   </th><th style=\"text-align: right;\">    age</th><th style=\"text-align: right;\">  sibsp</th><th style=\"text-align: right;\">  parch</th><th style=\"text-align: right;\">  ticket</th><th style=\"text-align: right;\">   fare</th><th>cabin  </th><th>embarked  </th><th>boat  </th><th style=\"text-align: right;\">  body</th><th>home_dest                      </th></tr>\n",
       "</thead>\n",
       "<tbody>\n",
       "<tr><td><i style='opacity: 0.6'>0</i></td><td style=\"text-align: right;\">       1</td><td>True      </td><td>Allen, Miss. Elisabeth Walton                  </td><td>female</td><td style=\"text-align: right;\">29     </td><td style=\"text-align: right;\">      0</td><td style=\"text-align: right;\">      0</td><td style=\"text-align: right;\">   24160</td><td style=\"text-align: right;\">211.338</td><td>B5     </td><td>S         </td><td>2     </td><td style=\"text-align: right;\">   nan</td><td>St Louis, MO                   </td></tr>\n",
       "<tr><td><i style='opacity: 0.6'>1</i></td><td style=\"text-align: right;\">       1</td><td>True      </td><td>Allison, Master. Hudson Trevor                 </td><td>male  </td><td style=\"text-align: right;\"> 0.9167</td><td style=\"text-align: right;\">      1</td><td style=\"text-align: right;\">      2</td><td style=\"text-align: right;\">  113781</td><td style=\"text-align: right;\">151.55 </td><td>C22 C26</td><td>S         </td><td>11    </td><td style=\"text-align: right;\">   nan</td><td>Montreal, PQ / Chesterville, ON</td></tr>\n",
       "<tr><td><i style='opacity: 0.6'>2</i></td><td style=\"text-align: right;\">       1</td><td>False     </td><td>Allison, Miss. Helen Loraine                   </td><td>female</td><td style=\"text-align: right;\"> 2     </td><td style=\"text-align: right;\">      1</td><td style=\"text-align: right;\">      2</td><td style=\"text-align: right;\">  113781</td><td style=\"text-align: right;\">151.55 </td><td>C22 C26</td><td>S         </td><td>None  </td><td style=\"text-align: right;\">   nan</td><td>Montreal, PQ / Chesterville, ON</td></tr>\n",
       "<tr><td><i style='opacity: 0.6'>3</i></td><td style=\"text-align: right;\">       1</td><td>False     </td><td>Allison, Mr. Hudson Joshua Creighton           </td><td>male  </td><td style=\"text-align: right;\">30     </td><td style=\"text-align: right;\">      1</td><td style=\"text-align: right;\">      2</td><td style=\"text-align: right;\">  113781</td><td style=\"text-align: right;\">151.55 </td><td>C22 C26</td><td>S         </td><td>None  </td><td style=\"text-align: right;\">   135</td><td>Montreal, PQ / Chesterville, ON</td></tr>\n",
       "<tr><td><i style='opacity: 0.6'>4</i></td><td style=\"text-align: right;\">       1</td><td>False     </td><td>Allison, Mrs. Hudson J C (Bessie Waldo Daniels)</td><td>female</td><td style=\"text-align: right;\">25     </td><td style=\"text-align: right;\">      1</td><td style=\"text-align: right;\">      2</td><td style=\"text-align: right;\">  113781</td><td style=\"text-align: right;\">151.55 </td><td>C22 C26</td><td>S         </td><td>None  </td><td style=\"text-align: right;\">   nan</td><td>Montreal, PQ / Chesterville, ON</td></tr>\n",
       "</tbody>\n",
       "</table>"
      ],
      "text/plain": [
       "  #    pclass  survived    name                                             sex         age    sibsp    parch    ticket     fare  cabin    embarked    boat      body  home_dest\n",
       "  0         1  True        Allen, Miss. Elisabeth Walton                    female  29             0        0     24160  211.338  B5       S           2          nan  St Louis, MO\n",
       "  1         1  True        Allison, Master. Hudson Trevor                   male     0.9167        1        2    113781  151.55   C22 C26  S           11         nan  Montreal, PQ / Chesterville, ON\n",
       "  2         1  False       Allison, Miss. Helen Loraine                     female   2             1        2    113781  151.55   C22 C26  S           None       nan  Montreal, PQ / Chesterville, ON\n",
       "  3         1  False       Allison, Mr. Hudson Joshua Creighton             male    30             1        2    113781  151.55   C22 C26  S           None       135  Montreal, PQ / Chesterville, ON\n",
       "  4         1  False       Allison, Mrs. Hudson J C (Bessie Waldo Daniels)  female  25             1        2    113781  151.55   C22 C26  S           None       nan  Montreal, PQ / Chesterville, ON"
      ]
     },
     "execution_count": 15,
     "metadata": {},
     "output_type": "execute_result"
    }
   ],
   "source": [
    "df =  vaex.ml.datasets.load_titanic()\n",
    "df.head(5)"
   ]
  },
  {
   "cell_type": "code",
   "execution_count": 16,
   "metadata": {},
   "outputs": [
    {
     "name": "stderr",
     "output_type": "stream",
     "text": [
      "INFO:MainThread:numexpr.utils:NumExpr defaulting to 6 threads.\n"
     ]
    },
    {
     "data": {
      "text/html": [
       "<table>\n",
       "<thead>\n",
       "<tr><th>#                            </th><th style=\"text-align: right;\">  pclass</th><th>survived  </th><th>name                                           </th><th>sex   </th><th style=\"text-align: right;\">    age</th><th style=\"text-align: right;\">  sibsp</th><th style=\"text-align: right;\">  parch</th><th style=\"text-align: right;\">  ticket</th><th style=\"text-align: right;\">   fare</th><th>cabin  </th><th>embarked  </th><th>boat  </th><th style=\"text-align: right;\">  body</th><th>home_dest                      </th><th style=\"text-align: right;\">  label_encoded_embarked</th><th style=\"text-align: right;\">  embarked_0.0</th><th style=\"text-align: right;\">  embarked_C</th><th style=\"text-align: right;\">  embarked_Q</th><th style=\"text-align: right;\">  embarked_S</th><th style=\"text-align: right;\">  frequency_encoded_embarked</th><th style=\"text-align: right;\">  mean_encoded_embarked</th><th style=\"text-align: right;\">  woe_encoded_embarked</th></tr>\n",
       "</thead>\n",
       "<tbody>\n",
       "<tr><td><i style='opacity: 0.6'>0</i></td><td style=\"text-align: right;\">       1</td><td>True      </td><td>Allen, Miss. Elisabeth Walton                  </td><td>female</td><td style=\"text-align: right;\">29     </td><td style=\"text-align: right;\">      0</td><td style=\"text-align: right;\">      0</td><td style=\"text-align: right;\">   24160</td><td style=\"text-align: right;\">211.338</td><td>B5     </td><td>S         </td><td>2     </td><td style=\"text-align: right;\">   nan</td><td>St Louis, MO                   </td><td style=\"text-align: right;\">                       1</td><td style=\"text-align: right;\">             0</td><td style=\"text-align: right;\">           0</td><td style=\"text-align: right;\">           0</td><td style=\"text-align: right;\">           1</td><td style=\"text-align: right;\">                    0.698243</td><td style=\"text-align: right;\">               0.337472</td><td style=\"text-align: right;\">             -0.696431</td></tr>\n",
       "<tr><td><i style='opacity: 0.6'>1</i></td><td style=\"text-align: right;\">       1</td><td>True      </td><td>Allison, Master. Hudson Trevor                 </td><td>male  </td><td style=\"text-align: right;\"> 0.9167</td><td style=\"text-align: right;\">      1</td><td style=\"text-align: right;\">      2</td><td style=\"text-align: right;\">  113781</td><td style=\"text-align: right;\">151.55 </td><td>C22 C26</td><td>S         </td><td>11    </td><td style=\"text-align: right;\">   nan</td><td>Montreal, PQ / Chesterville, ON</td><td style=\"text-align: right;\">                       1</td><td style=\"text-align: right;\">             0</td><td style=\"text-align: right;\">           0</td><td style=\"text-align: right;\">           0</td><td style=\"text-align: right;\">           1</td><td style=\"text-align: right;\">                    0.698243</td><td style=\"text-align: right;\">               0.337472</td><td style=\"text-align: right;\">             -0.696431</td></tr>\n",
       "<tr><td><i style='opacity: 0.6'>2</i></td><td style=\"text-align: right;\">       1</td><td>False     </td><td>Allison, Miss. Helen Loraine                   </td><td>female</td><td style=\"text-align: right;\"> 2     </td><td style=\"text-align: right;\">      1</td><td style=\"text-align: right;\">      2</td><td style=\"text-align: right;\">  113781</td><td style=\"text-align: right;\">151.55 </td><td>C22 C26</td><td>S         </td><td>None  </td><td style=\"text-align: right;\">   nan</td><td>Montreal, PQ / Chesterville, ON</td><td style=\"text-align: right;\">                       1</td><td style=\"text-align: right;\">             0</td><td style=\"text-align: right;\">           0</td><td style=\"text-align: right;\">           0</td><td style=\"text-align: right;\">           1</td><td style=\"text-align: right;\">                    0.698243</td><td style=\"text-align: right;\">               0.337472</td><td style=\"text-align: right;\">             -0.696431</td></tr>\n",
       "<tr><td><i style='opacity: 0.6'>3</i></td><td style=\"text-align: right;\">       1</td><td>False     </td><td>Allison, Mr. Hudson Joshua Creighton           </td><td>male  </td><td style=\"text-align: right;\">30     </td><td style=\"text-align: right;\">      1</td><td style=\"text-align: right;\">      2</td><td style=\"text-align: right;\">  113781</td><td style=\"text-align: right;\">151.55 </td><td>C22 C26</td><td>S         </td><td>None  </td><td style=\"text-align: right;\">   135</td><td>Montreal, PQ / Chesterville, ON</td><td style=\"text-align: right;\">                       1</td><td style=\"text-align: right;\">             0</td><td style=\"text-align: right;\">           0</td><td style=\"text-align: right;\">           0</td><td style=\"text-align: right;\">           1</td><td style=\"text-align: right;\">                    0.698243</td><td style=\"text-align: right;\">               0.337472</td><td style=\"text-align: right;\">             -0.696431</td></tr>\n",
       "<tr><td><i style='opacity: 0.6'>4</i></td><td style=\"text-align: right;\">       1</td><td>False     </td><td>Allison, Mrs. Hudson J C (Bessie Waldo Daniels)</td><td>female</td><td style=\"text-align: right;\">25     </td><td style=\"text-align: right;\">      1</td><td style=\"text-align: right;\">      2</td><td style=\"text-align: right;\">  113781</td><td style=\"text-align: right;\">151.55 </td><td>C22 C26</td><td>S         </td><td>None  </td><td style=\"text-align: right;\">   nan</td><td>Montreal, PQ / Chesterville, ON</td><td style=\"text-align: right;\">                       1</td><td style=\"text-align: right;\">             0</td><td style=\"text-align: right;\">           0</td><td style=\"text-align: right;\">           0</td><td style=\"text-align: right;\">           1</td><td style=\"text-align: right;\">                    0.698243</td><td style=\"text-align: right;\">               0.337472</td><td style=\"text-align: right;\">             -0.696431</td></tr>\n",
       "</tbody>\n",
       "</table>"
      ],
      "text/plain": [
       "  #    pclass  survived    name                                             sex         age    sibsp    parch    ticket     fare  cabin    embarked    boat      body  home_dest                          label_encoded_embarked    embarked_0.0    embarked_C    embarked_Q    embarked_S    frequency_encoded_embarked    mean_encoded_embarked    woe_encoded_embarked\n",
       "  0         1  True        Allen, Miss. Elisabeth Walton                    female  29             0        0     24160  211.338  B5       S           2          nan  St Louis, MO                                            1               0             0             0             1                      0.698243                 0.337472               -0.696431\n",
       "  1         1  True        Allison, Master. Hudson Trevor                   male     0.9167        1        2    113781  151.55   C22 C26  S           11         nan  Montreal, PQ / Chesterville, ON                         1               0             0             0             1                      0.698243                 0.337472               -0.696431\n",
       "  2         1  False       Allison, Miss. Helen Loraine                     female   2             1        2    113781  151.55   C22 C26  S           None       nan  Montreal, PQ / Chesterville, ON                         1               0             0             0             1                      0.698243                 0.337472               -0.696431\n",
       "  3         1  False       Allison, Mr. Hudson Joshua Creighton             male    30             1        2    113781  151.55   C22 C26  S           None       135  Montreal, PQ / Chesterville, ON                         1               0             0             0             1                      0.698243                 0.337472               -0.696431\n",
       "  4         1  False       Allison, Mrs. Hudson J C (Bessie Waldo Daniels)  female  25             1        2    113781  151.55   C22 C26  S           None       nan  Montreal, PQ / Chesterville, ON                         1               0             0             0             1                      0.698243                 0.337472               -0.696431"
      ]
     },
     "execution_count": 16,
     "metadata": {},
     "output_type": "execute_result"
    }
   ],
   "source": [
    "label_encoder = vaex.ml.LabelEncoder(features=['embarked'])\n",
    "one_hot_encoder = vaex.ml.OneHotEncoder(features=['embarked'])\n",
    "freq_encoder = vaex.ml.FrequencyEncoder(features=['embarked'])\n",
    "bayes_encoder = vaex.ml.BayesianTargetEncoder(features=['embarked'], target='survived')\n",
    "woe_encoder = vaex.ml.WeightOfEvidenceEncoder(features=['embarked'], target='survived')\n",
    "\n",
    "df = label_encoder.fit_transform(df)\n",
    "df = one_hot_encoder.fit_transform(df)\n",
    "df = freq_encoder.fit_transform(df)\n",
    "df = bayes_encoder.fit_transform(df)\n",
    "df = woe_encoder.fit_transform(df)\n",
    "\n",
    "df.head(5)"
   ]
  },
  {
   "cell_type": "markdown",
   "metadata": {},
   "source": [
    "### Scikit-Learn example"
   ]
  },
  {
   "cell_type": "code",
   "execution_count": 19,
   "metadata": {},
   "outputs": [
    {
     "data": {
      "text/html": [
       "<table>\n",
       "<thead>\n",
       "<tr><th>#                              </th><th>sepal_length  </th><th>sepal_width  </th><th>petal_length  </th><th>petal_width  </th><th>class_  </th><th>prediction  </th></tr>\n",
       "</thead>\n",
       "<tbody>\n",
       "<tr><td><i style='opacity: 0.6'>0</i>  </td><td>5.9           </td><td>3.0          </td><td>4.2           </td><td>1.5          </td><td>1       </td><td>1           </td></tr>\n",
       "<tr><td><i style='opacity: 0.6'>1</i>  </td><td>6.1           </td><td>3.0          </td><td>4.6           </td><td>1.4          </td><td>1       </td><td>1           </td></tr>\n",
       "<tr><td><i style='opacity: 0.6'>2</i>  </td><td>6.6           </td><td>2.9          </td><td>4.6           </td><td>1.3          </td><td>1       </td><td>1           </td></tr>\n",
       "<tr><td><i style='opacity: 0.6'>3</i>  </td><td>6.7           </td><td>3.3          </td><td>5.7           </td><td>2.1          </td><td>2       </td><td>2           </td></tr>\n",
       "<tr><td><i style='opacity: 0.6'>4</i>  </td><td>5.5           </td><td>4.2          </td><td>1.4           </td><td>0.2          </td><td>0       </td><td>0           </td></tr>\n",
       "<tr><td>...                            </td><td>...           </td><td>...          </td><td>...           </td><td>...          </td><td>...     </td><td>...         </td></tr>\n",
       "<tr><td><i style='opacity: 0.6'>145</i></td><td>5.2           </td><td>3.4          </td><td>1.4           </td><td>0.2          </td><td>0       </td><td>0           </td></tr>\n",
       "<tr><td><i style='opacity: 0.6'>146</i></td><td>5.1           </td><td>3.8          </td><td>1.6           </td><td>0.2          </td><td>0       </td><td>0           </td></tr>\n",
       "<tr><td><i style='opacity: 0.6'>147</i></td><td>5.8           </td><td>2.6          </td><td>4.0           </td><td>1.2          </td><td>1       </td><td>1           </td></tr>\n",
       "<tr><td><i style='opacity: 0.6'>148</i></td><td>5.7           </td><td>3.8          </td><td>1.7           </td><td>0.3          </td><td>0       </td><td>0           </td></tr>\n",
       "<tr><td><i style='opacity: 0.6'>149</i></td><td>6.2           </td><td>2.9          </td><td>4.3           </td><td>1.3          </td><td>1       </td><td>1           </td></tr>\n",
       "</tbody>\n",
       "</table>"
      ],
      "text/plain": [
       "#    sepal_length    sepal_width    petal_length    petal_width    class_    prediction\n",
       "0    5.9             3.0            4.2             1.5            1         1\n",
       "1    6.1             3.0            4.6             1.4            1         1\n",
       "2    6.6             2.9            4.6             1.3            1         1\n",
       "3    6.7             3.3            5.7             2.1            2         2\n",
       "4    5.5             4.2            1.4             0.2            0         0\n",
       "...  ...             ...            ...             ...            ...       ...\n",
       "145  5.2             3.4            1.4             0.2            0         0\n",
       "146  5.1             3.8            1.6             0.2            0         0\n",
       "147  5.8             2.6            4.0             1.2            1         1\n",
       "148  5.7             3.8            1.7             0.3            0         0\n",
       "149  6.2             2.9            4.3             1.3            1         1"
      ]
     },
     "execution_count": 19,
     "metadata": {},
     "output_type": "execute_result"
    }
   ],
   "source": [
    "from vaex.ml.sklearn import Predictor\n",
    "from sklearn.ensemble import GradientBoostingClassifier\n",
    "\n",
    "df = vaex.ml.datasets.load_iris()\n",
    "\n",
    "features = ['petal_length', 'petal_width', 'sepal_length', 'sepal_width']\n",
    "target = 'class_'\n",
    "\n",
    "model = GradientBoostingClassifier(random_state=42)\n",
    "vaex_model = Predictor(features=features, target=target, model=model, prediction_name='prediction')\n",
    "\n",
    "vaex_model.fit(df=df)\n",
    "\n",
    "df = vaex_model.transform(df)\n",
    "df"
   ]
  },
  {
   "cell_type": "markdown",
   "metadata": {},
   "source": [
    "## I/O Kung-Fu\n",
    "\n",
    "- Binary file:\n",
    " - HDF5\n",
    " - Arrow\n",
    " - Parquet\n",
    " - FITS\n",
    "\n",
    "- Text file:\n",
    " - CSV\n",
    " - ASCII\n",
    " - JSON\n",
    " \n",
    "- Cloud support:\n",
    " - Google Cloud Storage\n",
    " - AWS S3\n",
    "\n",
    "- Extras:\n",
    " - Aliases"
   ]
  },
  {
   "cell_type": "code",
   "execution_count": 21,
   "metadata": {},
   "outputs": [
    {
     "data": {
      "text/html": [
       "<div>\n",
       "<style scoped>\n",
       "    .dataframe tbody tr th:only-of-type {\n",
       "        vertical-align: middle;\n",
       "    }\n",
       "\n",
       "    .dataframe tbody tr th {\n",
       "        vertical-align: top;\n",
       "    }\n",
       "\n",
       "    .dataframe thead th {\n",
       "        text-align: right;\n",
       "    }\n",
       "</style>\n",
       "<table border=\"1\" class=\"dataframe\">\n",
       "  <thead>\n",
       "    <tr style=\"text-align: right;\">\n",
       "      <th></th>\n",
       "      <th>mno_ms_id</th>\n",
       "      <th>pos_time</th>\n",
       "      <th>mno_cell_id</th>\n",
       "    </tr>\n",
       "  </thead>\n",
       "  <tbody>\n",
       "    <tr>\n",
       "      <th>0</th>\n",
       "      <td>617487</td>\n",
       "      <td>2019-01-01 17:06:30</td>\n",
       "      <td>11891</td>\n",
       "    </tr>\n",
       "    <tr>\n",
       "      <th>1</th>\n",
       "      <td>617487</td>\n",
       "      <td>2019-01-01 07:01:44</td>\n",
       "      <td>9810</td>\n",
       "    </tr>\n",
       "    <tr>\n",
       "      <th>2</th>\n",
       "      <td>617487</td>\n",
       "      <td>2019-01-01 14:14:09</td>\n",
       "      <td>7534</td>\n",
       "    </tr>\n",
       "    <tr>\n",
       "      <th>3</th>\n",
       "      <td>617487</td>\n",
       "      <td>2019-01-01 11:51:41</td>\n",
       "      <td>545</td>\n",
       "    </tr>\n",
       "    <tr>\n",
       "      <th>4</th>\n",
       "      <td>617487</td>\n",
       "      <td>2019-01-01 07:23:54</td>\n",
       "      <td>9752</td>\n",
       "    </tr>\n",
       "    <tr>\n",
       "      <th>...</th>\n",
       "      <td>...</td>\n",
       "      <td>...</td>\n",
       "      <td>...</td>\n",
       "    </tr>\n",
       "    <tr>\n",
       "      <th>31486158</th>\n",
       "      <td>861822</td>\n",
       "      <td>2019-01-31 04:15:07</td>\n",
       "      <td>5248</td>\n",
       "    </tr>\n",
       "    <tr>\n",
       "      <th>31486159</th>\n",
       "      <td>861822</td>\n",
       "      <td>2019-01-31 17:49:50</td>\n",
       "      <td>1210</td>\n",
       "    </tr>\n",
       "    <tr>\n",
       "      <th>31486160</th>\n",
       "      <td>861822</td>\n",
       "      <td>2019-01-31 09:54:36</td>\n",
       "      <td>2439</td>\n",
       "    </tr>\n",
       "    <tr>\n",
       "      <th>31486161</th>\n",
       "      <td>861822</td>\n",
       "      <td>2019-01-31 12:10:28</td>\n",
       "      <td>14092</td>\n",
       "    </tr>\n",
       "    <tr>\n",
       "      <th>31486162</th>\n",
       "      <td>861822</td>\n",
       "      <td>2019-01-31 10:25:27</td>\n",
       "      <td>12876</td>\n",
       "    </tr>\n",
       "  </tbody>\n",
       "</table>\n",
       "<p>31486163 rows × 3 columns</p>\n",
       "</div>"
      ],
      "text/plain": [
       "          mno_ms_id             pos_time  mno_cell_id\n",
       "0            617487  2019-01-01 17:06:30        11891\n",
       "1            617487  2019-01-01 07:01:44         9810\n",
       "2            617487  2019-01-01 14:14:09         7534\n",
       "3            617487  2019-01-01 11:51:41          545\n",
       "4            617487  2019-01-01 07:23:54         9752\n",
       "...             ...                  ...          ...\n",
       "31486158     861822  2019-01-31 04:15:07         5248\n",
       "31486159     861822  2019-01-31 17:49:50         1210\n",
       "31486160     861822  2019-01-31 09:54:36         2439\n",
       "31486161     861822  2019-01-31 12:10:28        14092\n",
       "31486162     861822  2019-01-31 10:25:27        12876\n",
       "\n",
       "[31486163 rows x 3 columns]"
      ]
     },
     "execution_count": 21,
     "metadata": {},
     "output_type": "execute_result"
    }
   ],
   "source": [
    "# Convert from pandas dataframe to vaex dataframe\n",
    "import pandas as pd\n",
    "\n",
    "pandas_df = pd.read_csv('/data/raw_data/spectx_cell_mapping_test/cell_mapping_1gb.csv')\n",
    "pandas_df"
   ]
  },
  {
   "cell_type": "code",
   "execution_count": 22,
   "metadata": {},
   "outputs": [
    {
     "data": {
      "text/html": [
       "<table>\n",
       "<thead>\n",
       "<tr><th>#                                     </th><th>mno_ms_id  </th><th>pos_time           </th><th>mno_cell_id  </th><th>index   </th></tr>\n",
       "</thead>\n",
       "<tbody>\n",
       "<tr><td><i style='opacity: 0.6'>0</i>         </td><td>617487     </td><td>2019-01-01 17:06:30</td><td>11891        </td><td>0       </td></tr>\n",
       "<tr><td><i style='opacity: 0.6'>1</i>         </td><td>617487     </td><td>2019-01-01 07:01:44</td><td>9810         </td><td>1       </td></tr>\n",
       "<tr><td><i style='opacity: 0.6'>2</i>         </td><td>617487     </td><td>2019-01-01 14:14:09</td><td>7534         </td><td>2       </td></tr>\n",
       "<tr><td><i style='opacity: 0.6'>3</i>         </td><td>617487     </td><td>2019-01-01 11:51:41</td><td>545          </td><td>3       </td></tr>\n",
       "<tr><td><i style='opacity: 0.6'>4</i>         </td><td>617487     </td><td>2019-01-01 07:23:54</td><td>9752         </td><td>4       </td></tr>\n",
       "<tr><td>...                                   </td><td>...        </td><td>...                </td><td>...          </td><td>...     </td></tr>\n",
       "<tr><td><i style='opacity: 0.6'>31,486,158</i></td><td>861822     </td><td>2019-01-31 04:15:07</td><td>5248         </td><td>31486158</td></tr>\n",
       "<tr><td><i style='opacity: 0.6'>31,486,159</i></td><td>861822     </td><td>2019-01-31 17:49:50</td><td>1210         </td><td>31486159</td></tr>\n",
       "<tr><td><i style='opacity: 0.6'>31,486,160</i></td><td>861822     </td><td>2019-01-31 09:54:36</td><td>2439         </td><td>31486160</td></tr>\n",
       "<tr><td><i style='opacity: 0.6'>31,486,161</i></td><td>861822     </td><td>2019-01-31 12:10:28</td><td>14092        </td><td>31486161</td></tr>\n",
       "<tr><td><i style='opacity: 0.6'>31,486,162</i></td><td>861822     </td><td>2019-01-31 10:25:27</td><td>12876        </td><td>31486162</td></tr>\n",
       "</tbody>\n",
       "</table>"
      ],
      "text/plain": [
       "#           mno_ms_id    pos_time             mno_cell_id    index\n",
       "0           617487       2019-01-01 17:06:30  11891          0\n",
       "1           617487       2019-01-01 07:01:44  9810           1\n",
       "2           617487       2019-01-01 14:14:09  7534           2\n",
       "3           617487       2019-01-01 11:51:41  545            3\n",
       "4           617487       2019-01-01 07:23:54  9752           4\n",
       "...         ...          ...                  ...            ...\n",
       "31,486,158  861822       2019-01-31 04:15:07  5248           31486158\n",
       "31,486,159  861822       2019-01-31 17:49:50  1210           31486159\n",
       "31,486,160  861822       2019-01-31 09:54:36  2439           31486160\n",
       "31,486,161  861822       2019-01-31 12:10:28  14092          31486161\n",
       "31,486,162  861822       2019-01-31 10:25:27  12876          31486162"
      ]
     },
     "execution_count": 22,
     "metadata": {},
     "output_type": "execute_result"
    }
   ],
   "source": [
    "df = vaex.from_pandas(df=pandas_df, copy_index=True)\n",
    "df"
   ]
  },
  {
   "cell_type": "markdown",
   "metadata": {},
   "source": [
    "Info from above process:\n",
    "\n",
    "- pandas still powerful data reader, as it can read data from almost all kind of data sources including databases\n",
    "- by reading it first using pandas and then convert it into vaex when it's needed for multi-processing"
   ]
  },
  {
   "cell_type": "code",
   "execution_count": 27,
   "metadata": {},
   "outputs": [
    {
     "data": {
      "text/html": [
       "<table>\n",
       "<thead>\n",
       "<tr><th>#                                 </th><th>cell_id  </th><th>mno_cell_id  </th><th>valid_date_range  </th><th>valid_date  </th><th>is_err  </th><th>geom                                              </th><th>geom_srs_eucl                                     </th><th>geom_srs_eucl_generalized                         </th></tr>\n",
       "</thead>\n",
       "<tbody>\n",
       "<tr><td><i style='opacity: 0.6'>0</i>     </td><td>1        </td><td>1            </td><td>(None, None)      </td><td>2018-01-01  </td><td>False   </td><td>0101000020E61000002AAD785034863940F6A7212AECCA4D40</td><td>0101000020E50C00004DD2F5A800E3214154116FFD76335941</td><td>0101000020E50C000000000000B0E32141000000005E335941</td></tr>\n",
       "<tr><td><i style='opacity: 0.6'>1</i>     </td><td>10       </td><td>10           </td><td>(None, None)      </td><td>2018-01-01  </td><td>False   </td><td>0101000020E61000005D62ED6E6C7D3840215A81DAF59E4D40</td><td>0101000020E50C0000E1F3C275B11C2041722E1D553E0D5941</td><td>0101000020E50C000000000000001D204100000000480D5941</td></tr>\n",
       "<tr><td><i style='opacity: 0.6'>2</i>     </td><td>100      </td><td>100          </td><td>(None, None)      </td><td>2018-01-01  </td><td>False   </td><td>0101000020E6100000CCE3124225C239406DE578907D924D40</td><td>0101000020E50C000050BCE1FA61542241F89A837BD5035941</td><td>0101000020E50C0000000000003054224100000000E8035941</td></tr>\n",
       "<tr><td><i style='opacity: 0.6'>3</i>     </td><td>1000     </td><td>1000         </td><td>(None, None)      </td><td>2018-01-01  </td><td>False   </td><td>0101000020E6100000CB114C9B4C7E36404A2289CB62224D40</td><td>0101000020E50C000004E2285C0D1F19411304EA1140A45841</td><td>0101000020E50C000000000000401F19410000000034A45841</td></tr>\n",
       "<tr><td><i style='opacity: 0.6'>4</i>     </td><td>9516     </td><td>10000        </td><td>(None, None)      </td><td>2018-01-01  </td><td>False   </td><td>0101000020E610000050C666F20E453B4099D338676AB34D40</td><td>0101000020E50C0000BD2C152EC4EC2441E5C0DFFAF2225941</td><td>0101000020E50C00000000000040EC244100000000F6225941</td></tr>\n",
       "<tr><td>...                               </td><td>...      </td><td>...          </td><td>...               </td><td>...         </td><td>...     </td><td>...                                               </td><td>...                                               </td><td>...                                               </td></tr>\n",
       "<tr><td><i style='opacity: 0.6'>13,980</i></td><td>9511     </td><td>9995         </td><td>(None, None)      </td><td>2018-01-01  </td><td>False   </td><td>0101000020E6100000E7A4A521CB693B400B9FE5E422AD4D40</td><td>0101000020E50C000018E6B89E8A2E2541D5FEE9F1031E5941</td><td>0101000020E50C000000000000E02D254100000000141E5941</td></tr>\n",
       "<tr><td><i style='opacity: 0.6'>13,981</i></td><td>9512     </td><td>9996         </td><td>(None, None)      </td><td>2018-01-01  </td><td>False   </td><td>0101000020E61000008FF38D58EAFB3A40B53AF7267FAD4D40</td><td>0101000020E50C00008A90A470E56F2441AE9C5A4F2F1D5941</td><td>0101000020E50C000000000000406F2441000000001A1D5941</td></tr>\n",
       "<tr><td><i style='opacity: 0.6'>13,982</i></td><td>9513     </td><td>9997         </td><td>(None, None)      </td><td>2018-01-01  </td><td>False   </td><td>0101000020E6100000A1202B12F03D3B40302C0AFA95B24D40</td><td>0101000020E50C00000DD8B89EB5E02441AD2398792B225941</td><td>0101000020E50C00000000000050E12441000000002E225941</td></tr>\n",
       "<tr><td><i style='opacity: 0.6'>13,983</i></td><td>9514     </td><td>9998         </td><td>(None, None)      </td><td>2018-01-01  </td><td>False   </td><td>0101000020E6100000D3FB64D248323B400A094EBD92AC4D40</td><td>0101000020E50C000024C2008079CE2441B61A46B1F11C5941</td><td>0101000020E50C00000000000090CE244100000000E81C5941</td></tr>\n",
       "<tr><td><i style='opacity: 0.6'>13,984</i></td><td>9515     </td><td>9999         </td><td>(None, None)      </td><td>2018-01-01  </td><td>False   </td><td>0101000020E610000004AEBFEE7A483B4038DA01B831B34D40</td><td>0101000020E50C0000F4BCCDCCC3F22441714DA220CC225941</td><td>0101000020E50C00000000000080F2244100000000C4225941</td></tr>\n",
       "</tbody>\n",
       "</table>"
      ],
      "text/plain": [
       "#       cell_id    mno_cell_id    valid_date_range    valid_date    is_err    geom                                                geom_srs_eucl                                       geom_srs_eucl_generalized\n",
       "0       1          1              (None, None)        2018-01-01    False     0101000020E61000002AAD785034863940F6A7212AECCA4D40  0101000020E50C00004DD2F5A800E3214154116FFD76335941  0101000020E50C000000000000B0E32141000000005E335941\n",
       "1       10         10             (None, None)        2018-01-01    False     0101000020E61000005D62ED6E6C7D3840215A81DAF59E4D40  0101000020E50C0000E1F3C275B11C2041722E1D553E0D5941  0101000020E50C000000000000001D204100000000480D5941\n",
       "2       100        100            (None, None)        2018-01-01    False     0101000020E6100000CCE3124225C239406DE578907D924D40  0101000020E50C000050BCE1FA61542241F89A837BD5035941  0101000020E50C0000000000003054224100000000E8035941\n",
       "3       1000       1000           (None, None)        2018-01-01    False     0101000020E6100000CB114C9B4C7E36404A2289CB62224D40  0101000020E50C000004E2285C0D1F19411304EA1140A45841  0101000020E50C000000000000401F19410000000034A45841\n",
       "4       9516       10000          (None, None)        2018-01-01    False     0101000020E610000050C666F20E453B4099D338676AB34D40  0101000020E50C0000BD2C152EC4EC2441E5C0DFFAF2225941  0101000020E50C00000000000040EC244100000000F6225941\n",
       "...     ...        ...            ...                 ...           ...       ...                                                 ...                                                 ...\n",
       "13,980  9511       9995           (None, None)        2018-01-01    False     0101000020E6100000E7A4A521CB693B400B9FE5E422AD4D40  0101000020E50C000018E6B89E8A2E2541D5FEE9F1031E5941  0101000020E50C000000000000E02D254100000000141E5941\n",
       "13,981  9512       9996           (None, None)        2018-01-01    False     0101000020E61000008FF38D58EAFB3A40B53AF7267FAD4D40  0101000020E50C00008A90A470E56F2441AE9C5A4F2F1D5941  0101000020E50C000000000000406F2441000000001A1D5941\n",
       "13,982  9513       9997           (None, None)        2018-01-01    False     0101000020E6100000A1202B12F03D3B40302C0AFA95B24D40  0101000020E50C00000DD8B89EB5E02441AD2398792B225941  0101000020E50C00000000000050E12441000000002E225941\n",
       "13,983  9514       9998           (None, None)        2018-01-01    False     0101000020E6100000D3FB64D248323B400A094EBD92AC4D40  0101000020E50C000024C2008079CE2441B61A46B1F11C5941  0101000020E50C00000000000090CE244100000000E81C5941\n",
       "13,984  9515       9999           (None, None)        2018-01-01    False     0101000020E610000004AEBFEE7A483B4038DA01B831B34D40  0101000020E50C0000F4BCCDCCC3F22441714DA220CC225941  0101000020E50C00000000000080F2244100000000C4225941"
      ]
     },
     "execution_count": 27,
     "metadata": {},
     "output_type": "execute_result"
    }
   ],
   "source": [
    "import vaex\n",
    "import pandas as pd\n",
    "import sqlalchemy\n",
    "\n",
    "connection_string = 'postgresql://enlik:' + 'Zg7vcQ9E1BF394Kg' + '@localhost:5432/spectx_test_ee'\n",
    "engine = sqlalchemy.create_engine(connection_string)\n",
    "\n",
    "pandas_df = pd.read_sql_query('select * from ee_telia_cells.cell where geom is not null', con=engine)\n",
    "df = vaex.from_pandas(pandas_df, copy_index=False)\n",
    "df"
   ]
  },
  {
   "cell_type": "markdown",
   "metadata": {},
   "source": [
    "### Vaex Extras: using Aliases"
   ]
  },
  {
   "cell_type": "code",
   "execution_count": 31,
   "metadata": {},
   "outputs": [],
   "source": [
    "vaex.aliases['input_1gb'] = '/data/raw_data/spectx_cell_mapping_test/cell_mapping_1gb.csv'\n",
    "vaex.aliases['nyc_taxi_aws'] = 's3://vaex/taxi/nyc_taxi_2015_mini.hdf5?anon=true'"
   ]
  },
  {
   "cell_type": "code",
   "execution_count": 33,
   "metadata": {},
   "outputs": [
    {
     "data": {
      "text/html": [
       "<table>\n",
       "<thead>\n",
       "<tr><th>#                            </th><th>vendor_id  </th><th>pickup_datetime              </th><th>dropoff_datetime             </th><th style=\"text-align: right;\">  passenger_count</th><th style=\"text-align: right;\">  payment_type</th><th style=\"text-align: right;\">  trip_distance</th><th style=\"text-align: right;\">  pickup_longitude</th><th style=\"text-align: right;\">  pickup_latitude</th><th style=\"text-align: right;\">  rate_code</th><th style=\"text-align: right;\">  store_and_fwd_flag</th><th style=\"text-align: right;\">  dropoff_longitude</th><th style=\"text-align: right;\">  dropoff_latitude</th><th style=\"text-align: right;\">  fare_amount</th><th style=\"text-align: right;\">  surcharge</th><th style=\"text-align: right;\">  mta_tax</th><th style=\"text-align: right;\">  tip_amount</th><th style=\"text-align: right;\">  tolls_amount</th><th style=\"text-align: right;\">  total_amount</th></tr>\n",
       "</thead>\n",
       "<tbody>\n",
       "<tr><td><i style='opacity: 0.6'>0</i></td><td>VTS        </td><td>2015-02-27 22:11:38.000000000</td><td>2015-02-27 22:22:51.000000000</td><td style=\"text-align: right;\">                5</td><td style=\"text-align: right;\">             1</td><td style=\"text-align: right;\">           2.26</td><td style=\"text-align: right;\">          -74.0066</td><td style=\"text-align: right;\">          40.7075</td><td style=\"text-align: right;\">          1</td><td style=\"text-align: right;\">                   0</td><td style=\"text-align: right;\">           -74.0096</td><td style=\"text-align: right;\">           40.7346</td><td style=\"text-align: right;\">         10  </td><td style=\"text-align: right;\">        0.5</td><td style=\"text-align: right;\">      0.5</td><td style=\"text-align: right;\">        2   </td><td style=\"text-align: right;\">             0</td><td style=\"text-align: right;\">         13.3 </td></tr>\n",
       "<tr><td><i style='opacity: 0.6'>1</i></td><td>VTS        </td><td>2015-08-04 00:36:01.000000000</td><td>2015-08-04 00:47:11.000000000</td><td style=\"text-align: right;\">                1</td><td style=\"text-align: right;\">             1</td><td style=\"text-align: right;\">           5.13</td><td style=\"text-align: right;\">          -74.0075</td><td style=\"text-align: right;\">          40.7052</td><td style=\"text-align: right;\">          1</td><td style=\"text-align: right;\">                   0</td><td style=\"text-align: right;\">           -73.9673</td><td style=\"text-align: right;\">           40.7552</td><td style=\"text-align: right;\">         16  </td><td style=\"text-align: right;\">        0.5</td><td style=\"text-align: right;\">      0.5</td><td style=\"text-align: right;\">        3.46</td><td style=\"text-align: right;\">             0</td><td style=\"text-align: right;\">         20.76</td></tr>\n",
       "<tr><td><i style='opacity: 0.6'>2</i></td><td>VTS        </td><td>2015-01-28 19:56:52.000000000</td><td>2015-01-28 20:03:27.000000000</td><td style=\"text-align: right;\">                1</td><td style=\"text-align: right;\">             2</td><td style=\"text-align: right;\">           1.89</td><td style=\"text-align: right;\">          -73.9719</td><td style=\"text-align: right;\">          40.7629</td><td style=\"text-align: right;\">          1</td><td style=\"text-align: right;\">                   0</td><td style=\"text-align: right;\">           -73.9551</td><td style=\"text-align: right;\">           40.786 </td><td style=\"text-align: right;\">          7.5</td><td style=\"text-align: right;\">        1  </td><td style=\"text-align: right;\">      0.5</td><td style=\"text-align: right;\">        0   </td><td style=\"text-align: right;\">             0</td><td style=\"text-align: right;\">          9.3 </td></tr>\n",
       "<tr><td><i style='opacity: 0.6'>3</i></td><td>VTS        </td><td>2015-05-02 14:06:44.000000000</td><td>2015-05-02 14:12:11.000000000</td><td style=\"text-align: right;\">                2</td><td style=\"text-align: right;\">             2</td><td style=\"text-align: right;\">           1.86</td><td style=\"text-align: right;\">          -73.8753</td><td style=\"text-align: right;\">          40.7634</td><td style=\"text-align: right;\">          1</td><td style=\"text-align: right;\">                   0</td><td style=\"text-align: right;\">           -73.8649</td><td style=\"text-align: right;\">           40.7704</td><td style=\"text-align: right;\">          7.5</td><td style=\"text-align: right;\">        0  </td><td style=\"text-align: right;\">      0.5</td><td style=\"text-align: right;\">        0   </td><td style=\"text-align: right;\">             0</td><td style=\"text-align: right;\">          8.3 </td></tr>\n",
       "<tr><td><i style='opacity: 0.6'>4</i></td><td>CMT        </td><td>2015-02-27 07:31:44.000000000</td><td>2015-02-27 07:43:47.000000000</td><td style=\"text-align: right;\">                1</td><td style=\"text-align: right;\">             1</td><td style=\"text-align: right;\">           2.9 </td><td style=\"text-align: right;\">          -73.9522</td><td style=\"text-align: right;\">          40.7689</td><td style=\"text-align: right;\">          1</td><td style=\"text-align: right;\">                   0</td><td style=\"text-align: right;\">           -73.9824</td><td style=\"text-align: right;\">           40.7452</td><td style=\"text-align: right;\">         12  </td><td style=\"text-align: right;\">        0  </td><td style=\"text-align: right;\">      0.5</td><td style=\"text-align: right;\">        2.2 </td><td style=\"text-align: right;\">             0</td><td style=\"text-align: right;\">         15   </td></tr>\n",
       "</tbody>\n",
       "</table>"
      ],
      "text/plain": [
       "  #  vendor_id    pickup_datetime                dropoff_datetime                 passenger_count    payment_type    trip_distance    pickup_longitude    pickup_latitude    rate_code    store_and_fwd_flag    dropoff_longitude    dropoff_latitude    fare_amount    surcharge    mta_tax    tip_amount    tolls_amount    total_amount\n",
       "  0  VTS          2015-02-27 22:11:38.000000000  2015-02-27 22:22:51.000000000                  5               1             2.26            -74.0066            40.7075            1                     0             -74.0096             40.7346           10            0.5        0.5          2                  0           13.3\n",
       "  1  VTS          2015-08-04 00:36:01.000000000  2015-08-04 00:47:11.000000000                  1               1             5.13            -74.0075            40.7052            1                     0             -73.9673             40.7552           16            0.5        0.5          3.46               0           20.76\n",
       "  2  VTS          2015-01-28 19:56:52.000000000  2015-01-28 20:03:27.000000000                  1               2             1.89            -73.9719            40.7629            1                     0             -73.9551             40.786             7.5          1          0.5          0                  0            9.3\n",
       "  3  VTS          2015-05-02 14:06:44.000000000  2015-05-02 14:12:11.000000000                  2               2             1.86            -73.8753            40.7634            1                     0             -73.8649             40.7704            7.5          0          0.5          0                  0            8.3\n",
       "  4  CMT          2015-02-27 07:31:44.000000000  2015-02-27 07:43:47.000000000                  1               1             2.9             -73.9522            40.7689            1                     0             -73.9824             40.7452           12            0          0.5          2.2                0           15"
      ]
     },
     "execution_count": 33,
     "metadata": {},
     "output_type": "execute_result"
    }
   ],
   "source": [
    "df = vaex.open('nyc_taxi_aws')\n",
    "df.head(5)"
   ]
  },
  {
   "cell_type": "code",
   "execution_count": 34,
   "metadata": {},
   "outputs": [],
   "source": [
    "df.export_hdf5('/data/raw_data/spectx_cell_mapping_test/test.hdf5')"
   ]
  },
  {
   "cell_type": "markdown",
   "metadata": {},
   "source": [
    "## Test 12GB and 107GB Input Dataset\n",
    "\n",
    "- https://vaex.io/docs/datasets.html"
   ]
  },
  {
   "cell_type": "code",
   "execution_count": 35,
   "metadata": {},
   "outputs": [],
   "source": [
    "import vaex\n",
    "df = vaex.open('s3://vaex/taxi/yellow_taxi_2009_2015_f32.hdf5?anon=true')"
   ]
  },
  {
   "cell_type": "code",
   "execution_count": 36,
   "metadata": {},
   "outputs": [
    {
     "data": {
      "text/html": [
       "<table>\n",
       "<thead>\n",
       "<tr><th>#                                        </th><th>vendor_id  </th><th>pickup_datetime              </th><th>dropoff_datetime             </th><th>passenger_count  </th><th>payment_type  </th><th>trip_distance     </th><th>pickup_longitude  </th><th>pickup_latitude   </th><th>rate_code  </th><th>store_and_fwd_flag  </th><th>dropoff_longitude  </th><th>dropoff_latitude  </th><th>fare_amount       </th><th>surcharge  </th><th>mta_tax  </th><th>tip_amount        </th><th>tolls_amount  </th><th>total_amount      </th></tr>\n",
       "</thead>\n",
       "<tbody>\n",
       "<tr><td><i style='opacity: 0.6'>0</i>            </td><td>VTS        </td><td>2009-01-04 02:52:00.000000000</td><td>2009-01-04 03:02:00.000000000</td><td>1                </td><td>CASH          </td><td>2.630000114440918 </td><td>-73.99195861816406</td><td>40.72156524658203 </td><td>nan        </td><td>nan                 </td><td>-73.99380493164062 </td><td>40.6959228515625  </td><td>8.899999618530273 </td><td>0.5        </td><td>nan      </td><td>0.0               </td><td>0.0           </td><td>9.399999618530273 </td></tr>\n",
       "<tr><td><i style='opacity: 0.6'>1</i>            </td><td>VTS        </td><td>2009-01-04 03:31:00.000000000</td><td>2009-01-04 03:38:00.000000000</td><td>3                </td><td>Credit        </td><td>4.550000190734863 </td><td>-73.98210144042969</td><td>40.736289978027344</td><td>nan        </td><td>nan                 </td><td>-73.95584869384766 </td><td>40.768028259277344</td><td>12.100000381469727</td><td>0.5        </td><td>nan      </td><td>2.0               </td><td>0.0           </td><td>14.600000381469727</td></tr>\n",
       "<tr><td><i style='opacity: 0.6'>2</i>            </td><td>VTS        </td><td>2009-01-03 15:43:00.000000000</td><td>2009-01-03 15:57:00.000000000</td><td>5                </td><td>Credit        </td><td>10.350000381469727</td><td>-74.0025863647461 </td><td>40.73974609375    </td><td>nan        </td><td>nan                 </td><td>-73.86997985839844 </td><td>40.770225524902344</td><td>23.700000762939453</td><td>0.0        </td><td>nan      </td><td>4.739999771118164 </td><td>0.0           </td><td>28.440000534057617</td></tr>\n",
       "<tr><td><i style='opacity: 0.6'>3</i>            </td><td>DDS        </td><td>2009-01-01 20:52:58.000000000</td><td>2009-01-01 21:14:00.000000000</td><td>1                </td><td>CREDIT        </td><td>5.0               </td><td>-73.9742660522461 </td><td>40.79095458984375 </td><td>nan        </td><td>nan                 </td><td>-73.9965591430664  </td><td>40.731849670410156</td><td>14.899999618530273</td><td>0.5        </td><td>nan      </td><td>3.049999952316284 </td><td>0.0           </td><td>18.450000762939453</td></tr>\n",
       "<tr><td><i style='opacity: 0.6'>4</i>            </td><td>DDS        </td><td>2009-01-24 16:18:23.000000000</td><td>2009-01-24 16:24:56.000000000</td><td>1                </td><td>CASH          </td><td>0.4000000059604645</td><td>-74.00157928466797</td><td>40.719383239746094</td><td>nan        </td><td>nan                 </td><td>-74.00837707519531 </td><td>40.7203483581543  </td><td>3.700000047683716 </td><td>0.0        </td><td>nan      </td><td>0.0               </td><td>0.0           </td><td>3.700000047683716 </td></tr>\n",
       "<tr><td>...                                      </td><td>...        </td><td>...                          </td><td>...                          </td><td>...              </td><td>...           </td><td>...               </td><td>...               </td><td>...               </td><td>...        </td><td>...                 </td><td>...                </td><td>...               </td><td>...               </td><td>...        </td><td>...      </td><td>...               </td><td>...           </td><td>...               </td></tr>\n",
       "<tr><td><i style='opacity: 0.6'>1,173,057,922</i></td><td>VTS        </td><td>2015-12-31 23:59:56.000000000</td><td>2016-01-01 00:08:18.000000000</td><td>5                </td><td>1             </td><td>1.2000000476837158</td><td>-73.99381256103516</td><td>40.72087097167969 </td><td>1.0        </td><td>0.0                 </td><td>-73.98621368408203 </td><td>40.722469329833984</td><td>7.5               </td><td>0.5        </td><td>0.5      </td><td>1.7599999904632568</td><td>0.0           </td><td>10.5600004196167  </td></tr>\n",
       "<tr><td><i style='opacity: 0.6'>1,173,057,923</i></td><td>CMT        </td><td>2015-12-31 23:59:58.000000000</td><td>2016-01-01 00:05:19.000000000</td><td>2                </td><td>2             </td><td>2.0               </td><td>-73.96527099609375</td><td>40.76028060913086 </td><td>1.0        </td><td>0.0                 </td><td>-73.93951416015625 </td><td>40.75238800048828 </td><td>7.5               </td><td>0.5        </td><td>0.5      </td><td>0.0               </td><td>0.0           </td><td>8.800000190734863 </td></tr>\n",
       "<tr><td><i style='opacity: 0.6'>1,173,057,924</i></td><td>CMT        </td><td>2015-12-31 23:59:59.000000000</td><td>2016-01-01 00:12:55.000000000</td><td>2                </td><td>2             </td><td>3.799999952316284 </td><td>-73.98729705810547</td><td>40.739078521728516</td><td>1.0        </td><td>0.0                 </td><td>-73.9886703491211  </td><td>40.69329833984375 </td><td>13.5              </td><td>0.5        </td><td>0.5      </td><td>0.0               </td><td>0.0           </td><td>14.800000190734863</td></tr>\n",
       "<tr><td><i style='opacity: 0.6'>1,173,057,925</i></td><td>VTS        </td><td>2015-12-31 23:59:59.000000000</td><td>2016-01-01 00:10:26.000000000</td><td>1                </td><td>2             </td><td>1.9600000381469727</td><td>-73.99755859375   </td><td>40.72569274902344 </td><td>1.0        </td><td>0.0                 </td><td>-74.01712036132812 </td><td>40.705322265625   </td><td>8.5               </td><td>0.5        </td><td>0.5      </td><td>0.0               </td><td>0.0           </td><td>9.800000190734863 </td></tr>\n",
       "<tr><td><i style='opacity: 0.6'>1,173,057,926</i></td><td>VTS        </td><td>2015-12-31 23:59:59.000000000</td><td>2016-01-01 00:21:30.000000000</td><td>1                </td><td>1             </td><td>1.059999942779541 </td><td>-73.9843978881836 </td><td>40.76725769042969 </td><td>1.0        </td><td>0.0                 </td><td>-73.99098205566406 </td><td>40.76057052612305 </td><td>13.5              </td><td>0.5        </td><td>0.5      </td><td>2.9600000381469727</td><td>0.0           </td><td>17.760000228881836</td></tr>\n",
       "</tbody>\n",
       "</table>"
      ],
      "text/plain": [
       "#              vendor_id    pickup_datetime                dropoff_datetime               passenger_count    payment_type    trip_distance       pickup_longitude    pickup_latitude     rate_code    store_and_fwd_flag    dropoff_longitude    dropoff_latitude    fare_amount         surcharge    mta_tax    tip_amount          tolls_amount    total_amount\n",
       "0              VTS          2009-01-04 02:52:00.000000000  2009-01-04 03:02:00.000000000  1                  CASH            2.630000114440918   -73.99195861816406  40.72156524658203   nan          nan                   -73.99380493164062   40.6959228515625    8.899999618530273   0.5          nan        0.0                 0.0             9.399999618530273\n",
       "1              VTS          2009-01-04 03:31:00.000000000  2009-01-04 03:38:00.000000000  3                  Credit          4.550000190734863   -73.98210144042969  40.736289978027344  nan          nan                   -73.95584869384766   40.768028259277344  12.100000381469727  0.5          nan        2.0                 0.0             14.600000381469727\n",
       "2              VTS          2009-01-03 15:43:00.000000000  2009-01-03 15:57:00.000000000  5                  Credit          10.350000381469727  -74.0025863647461   40.73974609375      nan          nan                   -73.86997985839844   40.770225524902344  23.700000762939453  0.0          nan        4.739999771118164   0.0             28.440000534057617\n",
       "3              DDS          2009-01-01 20:52:58.000000000  2009-01-01 21:14:00.000000000  1                  CREDIT          5.0                 -73.9742660522461   40.79095458984375   nan          nan                   -73.9965591430664    40.731849670410156  14.899999618530273  0.5          nan        3.049999952316284   0.0             18.450000762939453\n",
       "4              DDS          2009-01-24 16:18:23.000000000  2009-01-24 16:24:56.000000000  1                  CASH            0.4000000059604645  -74.00157928466797  40.719383239746094  nan          nan                   -74.00837707519531   40.7203483581543    3.700000047683716   0.0          nan        0.0                 0.0             3.700000047683716\n",
       "...            ...          ...                            ...                            ...                ...             ...                 ...                 ...                 ...          ...                   ...                  ...                 ...                 ...          ...        ...                 ...             ...\n",
       "1,173,057,922  VTS          2015-12-31 23:59:56.000000000  2016-01-01 00:08:18.000000000  5                  1               1.2000000476837158  -73.99381256103516  40.72087097167969   1.0          0.0                   -73.98621368408203   40.722469329833984  7.5                 0.5          0.5        1.7599999904632568  0.0             10.5600004196167\n",
       "1,173,057,923  CMT          2015-12-31 23:59:58.000000000  2016-01-01 00:05:19.000000000  2                  2               2.0                 -73.96527099609375  40.76028060913086   1.0          0.0                   -73.93951416015625   40.75238800048828   7.5                 0.5          0.5        0.0                 0.0             8.800000190734863\n",
       "1,173,057,924  CMT          2015-12-31 23:59:59.000000000  2016-01-01 00:12:55.000000000  2                  2               3.799999952316284   -73.98729705810547  40.739078521728516  1.0          0.0                   -73.9886703491211    40.69329833984375   13.5                0.5          0.5        0.0                 0.0             14.800000190734863\n",
       "1,173,057,925  VTS          2015-12-31 23:59:59.000000000  2016-01-01 00:10:26.000000000  1                  2               1.9600000381469727  -73.99755859375     40.72569274902344   1.0          0.0                   -74.01712036132812   40.705322265625     8.5                 0.5          0.5        0.0                 0.0             9.800000190734863\n",
       "1,173,057,926  VTS          2015-12-31 23:59:59.000000000  2016-01-01 00:21:30.000000000  1                  1               1.059999942779541   -73.9843978881836   40.76725769042969   1.0          0.0                   -73.99098205566406   40.76057052612305   13.5                0.5          0.5        2.9600000381469727  0.0             17.760000228881836"
      ]
     },
     "execution_count": 36,
     "metadata": {},
     "output_type": "execute_result"
    }
   ],
   "source": [
    "df"
   ]
  },
  {
   "cell_type": "code",
   "execution_count": null,
   "metadata": {},
   "outputs": [],
   "source": []
  }
 ],
 "metadata": {
  "kernelspec": {
   "display_name": "Python 3",
   "language": "python",
   "name": "python3"
  },
  "language_info": {
   "codemirror_mode": {
    "name": "ipython",
    "version": 3
   },
   "file_extension": ".py",
   "mimetype": "text/x-python",
   "name": "python",
   "nbconvert_exporter": "python",
   "pygments_lexer": "ipython3",
   "version": "3.8.3"
  }
 },
 "nbformat": 4,
 "nbformat_minor": 4
}
