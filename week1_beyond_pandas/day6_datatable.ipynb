{
 "cells": [
  {
   "cell_type": "markdown",
   "metadata": {},
   "source": [
    "## References\n",
    "\n",
    "- https://towardsdatascience.com/an-overview-of-pythons-datatable-package-5d3a97394ee9\n",
    "- https://datatable.readthedocs.io/en/latest/start/quick-start.html"
   ]
  },
  {
   "cell_type": "code",
   "execution_count": 1,
   "metadata": {},
   "outputs": [
    {
     "data": {
      "text/html": [
       "<style type='text/css'>\n",
       ".datatable table.frame { margin-bottom: 0; }\n",
       ".datatable table.frame thead { border-bottom: none; }\n",
       ".datatable table.frame tr.coltypes td {  color: #FFFFFF;  line-height: 6px;  padding: 0 0.5em;}\n",
       ".datatable .bool    { background: #DDDD99; }\n",
       ".datatable .object  { background: #565656; }\n",
       ".datatable .int     { background: #5D9E5D; }\n",
       ".datatable .float   { background: #4040CC; }\n",
       ".datatable .str     { background: #CC4040; }\n",
       ".datatable .row_index {  background: var(--jp-border-color3);  border-right: 1px solid var(--jp-border-color0);  color: var(--jp-ui-font-color3);  font-size: 9px;}\n",
       ".datatable .frame tr.coltypes .row_index {  background: var(--jp-border-color0);}\n",
       ".datatable th:nth-child(2) { padding-left: 12px; }\n",
       ".datatable .hellipsis {  color: var(--jp-cell-editor-border-color);}\n",
       ".datatable .vellipsis {  background: var(--jp-layout-color0);  color: var(--jp-cell-editor-border-color);}\n",
       ".datatable .na {  color: var(--jp-cell-editor-border-color);  font-size: 80%;}\n",
       ".datatable .footer { font-size: 9px; }\n",
       ".datatable .frame_dimensions {  background: var(--jp-border-color3);  border-top: 1px solid var(--jp-border-color0);  color: var(--jp-ui-font-color3);  display: inline-block;  opacity: 0.6;  padding: 1px 10px 1px 5px;}\n",
       "</style>\n"
      ],
      "text/plain": [
       "<IPython.core.display.HTML object>"
      ]
     },
     "metadata": {},
     "output_type": "display_data"
    },
    {
     "name": "stdout",
     "output_type": "stream",
     "text": [
      "0.11.1\n"
     ]
    }
   ],
   "source": [
    "# Importing necessary Librariesimport numpy as np\n",
    "import pandas as pd\n",
    "import datatable as dt\n",
    "print(dt.__version__)"
   ]
  },
  {
   "cell_type": "code",
   "execution_count": 2,
   "metadata": {},
   "outputs": [
    {
     "name": "stdout",
     "output_type": "stream",
     "text": [
      "CPU times: user 1.16 s, sys: 292 ms, total: 1.45 s\n",
      "Wall time: 526 ms\n"
     ]
    }
   ],
   "source": [
    "%%time\n",
    "datatable_df = dt.fread('/data/kaggle_mobile_phone_activity_in_city/sms-call-internet-mi-2013-11-01.csv') #80mb data"
   ]
  },
  {
   "cell_type": "code",
   "execution_count": 3,
   "metadata": {},
   "outputs": [
    {
     "name": "stdout",
     "output_type": "stream",
     "text": [
      "CPU times: user 1.57 s, sys: 139 ms, total: 1.71 s\n",
      "Wall time: 1.62 s\n"
     ]
    }
   ],
   "source": [
    "%%time\n",
    "pandas_df = pd.read_csv('/data/kaggle_mobile_phone_activity_in_city/sms-call-internet-mi-2013-11-01.csv') #80mb data"
   ]
  },
  {
   "cell_type": "markdown",
   "metadata": {},
   "source": [
    "## Datable to Numpy / Pandas"
   ]
  },
  {
   "cell_type": "code",
   "execution_count": 4,
   "metadata": {},
   "outputs": [],
   "source": [
    "numpy_df = datatable_df.to_numpy()\n",
    "pandas_df = datatable_df.to_pandas()"
   ]
  },
  {
   "cell_type": "code",
   "execution_count": 5,
   "metadata": {},
   "outputs": [
    {
     "name": "stdout",
     "output_type": "stream",
     "text": [
      "        | datetime             CellID  countrycode    smsin   smsout   callin  callout  internet\n",
      "------- + -------------------  ------  -----------  -------  -------  -------  -------  --------\n",
      "      0 | 2013-11-01 00:00:00       1            0   0.3521  NA       NA        0.0273   NA     \n",
      "      1 | 2013-11-01 00:00:00       1           33  NA       NA       NA       NA         0.0261\n",
      "      2 | 2013-11-01 00:00:00       1           39   1.7322   1.1047   0.5919   0.402    57.7729\n",
      "      3 | 2013-11-01 00:00:00       2            0   0.3581  NA       NA        0.0273   NA     \n",
      "      4 | 2013-11-01 00:00:00       2           33  NA       NA       NA       NA         0.0274\n",
      "      5 | 2013-11-01 00:00:00       2           39   1.7334   1.088    0.602    0.4109   57.8875\n",
      "      6 | 2013-11-01 00:00:00       3            0   0.3644  NA       NA        0.0273   NA     \n",
      "      7 | 2013-11-01 00:00:00       3           33  NA       NA       NA       NA         0.0287\n",
      "      8 | 2013-11-01 00:00:00       3           39   1.7348   1.0701   0.6128   0.4203   58.0095\n",
      "      9 | 2013-11-01 00:00:00       4            0   0.3349  NA       NA        0.0273   NA     \n",
      "     10 | 2013-11-01 00:00:00       4           33  NA       NA       NA       NA         0.0226\n",
      "     11 | 2013-11-01 00:00:00       4           39   1.7284   1.1533   0.5627   0.3763   57.4408\n",
      "     12 | 2013-11-01 00:00:00       5            0   0.3178  NA       NA        0.0237   NA     \n",
      "     13 | 2013-11-01 00:00:00       5           33  NA       NA       NA       NA         0.0217\n",
      "     14 | 2013-11-01 00:00:00       5           39   1.553    1.0439   0.511    0.3503   52.1497\n",
      "      … | …                         …            …        …        …        …        …         …\n",
      "1891923 | 2013-11-01 23:00:00   10000           20   0.086   NA       NA       NA        NA     \n",
      "1891924 | 2013-11-01 23:00:00   10000           33   0.0542  NA       NA       NA        NA     \n",
      "1891925 | 2013-11-01 23:00:00   10000           39   3.3318   3.6637   0.8509   1.0462   99.364 \n",
      "1891926 | 2013-11-01 23:00:00   10000           49  NA       NA       NA        0.0048   NA     \n",
      "1891927 | 2013-11-01 23:00:00   10000          221  NA       NA        0.086    0.172    NA     \n",
      "\n",
      "[1891928 rows x 8 columns]\n",
      "\n"
     ]
    }
   ],
   "source": [
    "print(datatable_df)"
   ]
  },
  {
   "cell_type": "code",
   "execution_count": 6,
   "metadata": {},
   "outputs": [
    {
     "data": {
      "text/html": [
       "<div>\n",
       "<style scoped>\n",
       "    .dataframe tbody tr th:only-of-type {\n",
       "        vertical-align: middle;\n",
       "    }\n",
       "\n",
       "    .dataframe tbody tr th {\n",
       "        vertical-align: top;\n",
       "    }\n",
       "\n",
       "    .dataframe thead th {\n",
       "        text-align: right;\n",
       "    }\n",
       "</style>\n",
       "<table border=\"1\" class=\"dataframe\">\n",
       "  <thead>\n",
       "    <tr style=\"text-align: right;\">\n",
       "      <th></th>\n",
       "      <th>datetime</th>\n",
       "      <th>CellID</th>\n",
       "      <th>countrycode</th>\n",
       "      <th>smsin</th>\n",
       "      <th>smsout</th>\n",
       "      <th>callin</th>\n",
       "      <th>callout</th>\n",
       "      <th>internet</th>\n",
       "    </tr>\n",
       "  </thead>\n",
       "  <tbody>\n",
       "    <tr>\n",
       "      <th>0</th>\n",
       "      <td>2013-11-01 00:00:00</td>\n",
       "      <td>1</td>\n",
       "      <td>0</td>\n",
       "      <td>0.3521</td>\n",
       "      <td>NaN</td>\n",
       "      <td>NaN</td>\n",
       "      <td>0.0273</td>\n",
       "      <td>NaN</td>\n",
       "    </tr>\n",
       "    <tr>\n",
       "      <th>1</th>\n",
       "      <td>2013-11-01 00:00:00</td>\n",
       "      <td>1</td>\n",
       "      <td>33</td>\n",
       "      <td>NaN</td>\n",
       "      <td>NaN</td>\n",
       "      <td>NaN</td>\n",
       "      <td>NaN</td>\n",
       "      <td>0.0261</td>\n",
       "    </tr>\n",
       "    <tr>\n",
       "      <th>2</th>\n",
       "      <td>2013-11-01 00:00:00</td>\n",
       "      <td>1</td>\n",
       "      <td>39</td>\n",
       "      <td>1.7322</td>\n",
       "      <td>1.1047</td>\n",
       "      <td>0.5919</td>\n",
       "      <td>0.4020</td>\n",
       "      <td>57.7729</td>\n",
       "    </tr>\n",
       "    <tr>\n",
       "      <th>3</th>\n",
       "      <td>2013-11-01 00:00:00</td>\n",
       "      <td>2</td>\n",
       "      <td>0</td>\n",
       "      <td>0.3581</td>\n",
       "      <td>NaN</td>\n",
       "      <td>NaN</td>\n",
       "      <td>0.0273</td>\n",
       "      <td>NaN</td>\n",
       "    </tr>\n",
       "    <tr>\n",
       "      <th>4</th>\n",
       "      <td>2013-11-01 00:00:00</td>\n",
       "      <td>2</td>\n",
       "      <td>33</td>\n",
       "      <td>NaN</td>\n",
       "      <td>NaN</td>\n",
       "      <td>NaN</td>\n",
       "      <td>NaN</td>\n",
       "      <td>0.0274</td>\n",
       "    </tr>\n",
       "    <tr>\n",
       "      <th>...</th>\n",
       "      <td>...</td>\n",
       "      <td>...</td>\n",
       "      <td>...</td>\n",
       "      <td>...</td>\n",
       "      <td>...</td>\n",
       "      <td>...</td>\n",
       "      <td>...</td>\n",
       "      <td>...</td>\n",
       "    </tr>\n",
       "    <tr>\n",
       "      <th>1891923</th>\n",
       "      <td>2013-11-01 23:00:00</td>\n",
       "      <td>10000</td>\n",
       "      <td>20</td>\n",
       "      <td>0.0860</td>\n",
       "      <td>NaN</td>\n",
       "      <td>NaN</td>\n",
       "      <td>NaN</td>\n",
       "      <td>NaN</td>\n",
       "    </tr>\n",
       "    <tr>\n",
       "      <th>1891924</th>\n",
       "      <td>2013-11-01 23:00:00</td>\n",
       "      <td>10000</td>\n",
       "      <td>33</td>\n",
       "      <td>0.0542</td>\n",
       "      <td>NaN</td>\n",
       "      <td>NaN</td>\n",
       "      <td>NaN</td>\n",
       "      <td>NaN</td>\n",
       "    </tr>\n",
       "    <tr>\n",
       "      <th>1891925</th>\n",
       "      <td>2013-11-01 23:00:00</td>\n",
       "      <td>10000</td>\n",
       "      <td>39</td>\n",
       "      <td>3.3318</td>\n",
       "      <td>3.6637</td>\n",
       "      <td>0.8509</td>\n",
       "      <td>1.0462</td>\n",
       "      <td>99.3640</td>\n",
       "    </tr>\n",
       "    <tr>\n",
       "      <th>1891926</th>\n",
       "      <td>2013-11-01 23:00:00</td>\n",
       "      <td>10000</td>\n",
       "      <td>49</td>\n",
       "      <td>NaN</td>\n",
       "      <td>NaN</td>\n",
       "      <td>NaN</td>\n",
       "      <td>0.0048</td>\n",
       "      <td>NaN</td>\n",
       "    </tr>\n",
       "    <tr>\n",
       "      <th>1891927</th>\n",
       "      <td>2013-11-01 23:00:00</td>\n",
       "      <td>10000</td>\n",
       "      <td>221</td>\n",
       "      <td>NaN</td>\n",
       "      <td>NaN</td>\n",
       "      <td>0.0860</td>\n",
       "      <td>0.1720</td>\n",
       "      <td>NaN</td>\n",
       "    </tr>\n",
       "  </tbody>\n",
       "</table>\n",
       "<p>1891928 rows × 8 columns</p>\n",
       "</div>"
      ],
      "text/plain": [
       "                    datetime  CellID  countrycode   smsin  smsout  callin  \\\n",
       "0        2013-11-01 00:00:00       1            0  0.3521     NaN     NaN   \n",
       "1        2013-11-01 00:00:00       1           33     NaN     NaN     NaN   \n",
       "2        2013-11-01 00:00:00       1           39  1.7322  1.1047  0.5919   \n",
       "3        2013-11-01 00:00:00       2            0  0.3581     NaN     NaN   \n",
       "4        2013-11-01 00:00:00       2           33     NaN     NaN     NaN   \n",
       "...                      ...     ...          ...     ...     ...     ...   \n",
       "1891923  2013-11-01 23:00:00   10000           20  0.0860     NaN     NaN   \n",
       "1891924  2013-11-01 23:00:00   10000           33  0.0542     NaN     NaN   \n",
       "1891925  2013-11-01 23:00:00   10000           39  3.3318  3.6637  0.8509   \n",
       "1891926  2013-11-01 23:00:00   10000           49     NaN     NaN     NaN   \n",
       "1891927  2013-11-01 23:00:00   10000          221     NaN     NaN  0.0860   \n",
       "\n",
       "         callout  internet  \n",
       "0         0.0273       NaN  \n",
       "1            NaN    0.0261  \n",
       "2         0.4020   57.7729  \n",
       "3         0.0273       NaN  \n",
       "4            NaN    0.0274  \n",
       "...          ...       ...  \n",
       "1891923      NaN       NaN  \n",
       "1891924      NaN       NaN  \n",
       "1891925   1.0462   99.3640  \n",
       "1891926   0.0048       NaN  \n",
       "1891927   0.1720       NaN  \n",
       "\n",
       "[1891928 rows x 8 columns]"
      ]
     },
     "execution_count": 6,
     "metadata": {},
     "output_type": "execute_result"
    }
   ],
   "source": [
    "pandas_df"
   ]
  },
  {
   "cell_type": "markdown",
   "metadata": {},
   "source": [
    "## Calculate mean"
   ]
  },
  {
   "cell_type": "code",
   "execution_count": 7,
   "metadata": {},
   "outputs": [
    {
     "name": "stdout",
     "output_type": "stream",
     "text": [
      "CPU times: user 335 ms, sys: 2.59 ms, total: 337 ms\n",
      "Wall time: 175 ms\n"
     ]
    },
    {
     "data": {
      "text/html": [
       "<div class='datatable'>\n",
       "  <table class='frame'>\n",
       "  <thead>\n",
       "    <tr class='colnames'><td class='row_index'></td><th>datetime</th><th>CellID</th><th>countrycode</th><th>smsin</th><th>smsout</th><th>callin</th><th>callout</th><th>internet</th></tr>\n",
       "    <tr class='coltypes'><td class='row_index'></td><td class='float' title='float64'>&#x25AA;&#x25AA;&#x25AA;&#x25AA;&#x25AA;&#x25AA;&#x25AA;&#x25AA;</td><td class='float' title='float64'>&#x25AA;&#x25AA;&#x25AA;&#x25AA;&#x25AA;&#x25AA;&#x25AA;&#x25AA;</td><td class='float' title='float64'>&#x25AA;&#x25AA;&#x25AA;&#x25AA;&#x25AA;&#x25AA;&#x25AA;&#x25AA;</td><td class='float' title='float64'>&#x25AA;&#x25AA;&#x25AA;&#x25AA;&#x25AA;&#x25AA;&#x25AA;&#x25AA;</td><td class='float' title='float64'>&#x25AA;&#x25AA;&#x25AA;&#x25AA;&#x25AA;&#x25AA;&#x25AA;&#x25AA;</td><td class='float' title='float64'>&#x25AA;&#x25AA;&#x25AA;&#x25AA;&#x25AA;&#x25AA;&#x25AA;&#x25AA;</td><td class='float' title='float64'>&#x25AA;&#x25AA;&#x25AA;&#x25AA;&#x25AA;&#x25AA;&#x25AA;&#x25AA;</td><td class='float' title='float64'>&#x25AA;&#x25AA;&#x25AA;&#x25AA;&#x25AA;&#x25AA;&#x25AA;&#x25AA;</td></tr>\n",
       "  </thead>\n",
       "  <tbody>\n",
       "    <tr><td class='row_index'>0</td><td><span class=na>NA</span></td><td>5277.81</td><td>353.821</td><td>5.71672</td><td>6.0118</td><td>5.41736</td><td>3.74103</td><td>102.477</td></tr>\n",
       "  </tbody>\n",
       "  </table>\n",
       "  <div class='footer'>\n",
       "    <div class='frame_dimensions'>1 row &times; 8 columns</div>\n",
       "  </div>\n",
       "</div>\n"
      ],
      "text/plain": [
       "<Frame#7fa919429d50 1x8>"
      ]
     },
     "execution_count": 7,
     "metadata": {},
     "output_type": "execute_result"
    }
   ],
   "source": [
    "%%time\n",
    "datatable_df.mean() #80mb dataset"
   ]
  },
  {
   "cell_type": "code",
   "execution_count": 8,
   "metadata": {},
   "outputs": [],
   "source": [
    "# %%time\n",
    "# pandas_df.mean() #80mb dataset\n",
    "# # never ending"
   ]
  },
  {
   "cell_type": "markdown",
   "metadata": {},
   "source": [
    "## Sorting the Frame"
   ]
  },
  {
   "cell_type": "code",
   "execution_count": 9,
   "metadata": {},
   "outputs": [
    {
     "name": "stdout",
     "output_type": "stream",
     "text": [
      "CPU times: user 1.25 s, sys: 4.14 ms, total: 1.25 s\n",
      "Wall time: 437 ms\n"
     ]
    },
    {
     "data": {
      "text/html": [
       "<div class='datatable'>\n",
       "  <table class='frame'>\n",
       "  <thead>\n",
       "    <tr class='colnames'><td class='row_index'></td><th>datetime</th><th>CellID</th><th>countrycode</th><th>smsin</th><th>smsout</th><th>callin</th><th>callout</th><th>internet</th></tr>\n",
       "    <tr class='coltypes'><td class='row_index'></td><td class='str' title='str32'>&#x25AA;&#x25AA;&#x25AA;&#x25AA;</td><td class='int' title='int32'>&#x25AA;&#x25AA;&#x25AA;&#x25AA;</td><td class='int' title='int32'>&#x25AA;&#x25AA;&#x25AA;&#x25AA;</td><td class='float' title='float64'>&#x25AA;&#x25AA;&#x25AA;&#x25AA;&#x25AA;&#x25AA;&#x25AA;&#x25AA;</td><td class='float' title='float64'>&#x25AA;&#x25AA;&#x25AA;&#x25AA;&#x25AA;&#x25AA;&#x25AA;&#x25AA;</td><td class='float' title='float64'>&#x25AA;&#x25AA;&#x25AA;&#x25AA;&#x25AA;&#x25AA;&#x25AA;&#x25AA;</td><td class='float' title='float64'>&#x25AA;&#x25AA;&#x25AA;&#x25AA;&#x25AA;&#x25AA;&#x25AA;&#x25AA;</td><td class='float' title='float64'>&#x25AA;&#x25AA;&#x25AA;&#x25AA;&#x25AA;&#x25AA;&#x25AA;&#x25AA;</td></tr>\n",
       "  </thead>\n",
       "  <tbody>\n",
       "    <tr><td class='row_index'>0</td><td>2013-11-01 00:00:00</td><td>1</td><td>0</td><td>0.3521</td><td><span class=na>NA</span></td><td><span class=na>NA</span></td><td>0.0273</td><td><span class=na>NA</span></td></tr>\n",
       "    <tr><td class='row_index'>1</td><td>2013-11-01 00:00:00</td><td>1</td><td>33</td><td><span class=na>NA</span></td><td><span class=na>NA</span></td><td><span class=na>NA</span></td><td><span class=na>NA</span></td><td>0.0261</td></tr>\n",
       "    <tr><td class='row_index'>2</td><td>2013-11-01 00:00:00</td><td>1</td><td>39</td><td>1.7322</td><td>1.1047</td><td>0.5919</td><td>0.402</td><td>57.7729</td></tr>\n",
       "    <tr><td class='row_index'>3</td><td>2013-11-01 01:00:00</td><td>1</td><td>0</td><td>0.1378</td><td><span class=na>NA</span></td><td><span class=na>NA</span></td><td>0.0309</td><td><span class=na>NA</span></td></tr>\n",
       "    <tr><td class='row_index'>4</td><td>2013-11-01 01:00:00</td><td>1</td><td>39</td><td>1.0259</td><td>0.77</td><td>0.1906</td><td>0.1633</td><td>44.0469</td></tr>\n",
       "    <tr><td class='row_index'>5</td><td>2013-11-01 02:00:00</td><td>1</td><td>0</td><td>0.0273</td><td><span class=na>NA</span></td><td><span class=na>NA</span></td><td><span class=na>NA</span></td><td><span class=na>NA</span></td></tr>\n",
       "    <tr><td class='row_index'>6</td><td>2013-11-01 02:00:00</td><td>1</td><td>39</td><td>0.3883</td><td>0.3004</td><td>0.0279</td><td>0.136</td><td>41.1798</td></tr>\n",
       "    <tr><td class='row_index'>7</td><td>2013-11-01 02:00:00</td><td>1</td><td>49</td><td><span class=na>NA</span></td><td><span class=na>NA</span></td><td><span class=na>NA</span></td><td><span class=na>NA</span></td><td>0.0273</td></tr>\n",
       "    <tr><td class='row_index'>8</td><td>2013-11-01 03:00:00</td><td>1</td><td>0</td><td>0.0273</td><td><span class=na>NA</span></td><td><span class=na>NA</span></td><td><span class=na>NA</span></td><td><span class=na>NA</span></td></tr>\n",
       "    <tr><td class='row_index'>9</td><td>2013-11-01 03:00:00</td><td>1</td><td>39</td><td>1.1248</td><td>0.8957</td><td>0.0018</td><td>0.0261</td><td>33.0221</td></tr>\n",
       "    <tr><td class='row_index'>10</td><td>2013-11-01 04:00:00</td><td>1</td><td>0</td><td>0.0054</td><td><span class=na>NA</span></td><td><span class=na>NA</span></td><td><span class=na>NA</span></td><td><span class=na>NA</span></td></tr>\n",
       "    <tr><td class='row_index'>11</td><td>2013-11-01 04:00:00</td><td>1</td><td>39</td><td>0.3491</td><td>0.5112</td><td>0.0054</td><td>0.0261</td><td>31.3769</td></tr>\n",
       "    <tr><td class='row_index'>12</td><td>2013-11-01 05:00:00</td><td>1</td><td>0</td><td>0.0534</td><td><span class=na>NA</span></td><td><span class=na>NA</span></td><td>0.0523</td><td><span class=na>NA</span></td></tr>\n",
       "    <tr><td class='row_index'>13</td><td>2013-11-01 05:00:00</td><td>1</td><td>39</td><td>0.1135</td><td>0.1954</td><td>0.0279</td><td>0.1319</td><td>34.8155</td></tr>\n",
       "    <tr><td class='row_index'>14</td><td>2013-11-01 05:00:00</td><td>1</td><td>46</td><td><span class=na>NA</span></td><td><span class=na>NA</span></td><td><span class=na>NA</span></td><td><span class=na>NA</span></td><td>0.0261</td></tr>\n",
       "    <tr><td class='row_index'>&#x22EE;</td><td class='hellipsis'>&#x22EE;</td><td class='hellipsis'>&#x22EE;</td><td class='hellipsis'>&#x22EE;</td><td class='hellipsis'>&#x22EE;</td><td class='hellipsis'>&#x22EE;</td><td class='hellipsis'>&#x22EE;</td><td class='hellipsis'>&#x22EE;</td><td class='hellipsis'>&#x22EE;</td></tr>\n",
       "    <tr><td class='row_index'>1,891,923</td><td>2013-11-01 23:00:00</td><td>10000</td><td>20</td><td>0.086</td><td><span class=na>NA</span></td><td><span class=na>NA</span></td><td><span class=na>NA</span></td><td><span class=na>NA</span></td></tr>\n",
       "    <tr><td class='row_index'>1,891,924</td><td>2013-11-01 23:00:00</td><td>10000</td><td>33</td><td>0.0542</td><td><span class=na>NA</span></td><td><span class=na>NA</span></td><td><span class=na>NA</span></td><td><span class=na>NA</span></td></tr>\n",
       "    <tr><td class='row_index'>1,891,925</td><td>2013-11-01 23:00:00</td><td>10000</td><td>39</td><td>3.3318</td><td>3.6637</td><td>0.8509</td><td>1.0462</td><td>99.364</td></tr>\n",
       "    <tr><td class='row_index'>1,891,926</td><td>2013-11-01 23:00:00</td><td>10000</td><td>49</td><td><span class=na>NA</span></td><td><span class=na>NA</span></td><td><span class=na>NA</span></td><td>0.0048</td><td><span class=na>NA</span></td></tr>\n",
       "    <tr><td class='row_index'>1,891,927</td><td>2013-11-01 23:00:00</td><td>10000</td><td>221</td><td><span class=na>NA</span></td><td><span class=na>NA</span></td><td>0.086</td><td>0.172</td><td><span class=na>NA</span></td></tr>\n",
       "  </tbody>\n",
       "  </table>\n",
       "  <div class='footer'>\n",
       "    <div class='frame_dimensions'>1,891,928 rows &times; 8 columns</div>\n",
       "  </div>\n",
       "</div>\n"
      ],
      "text/plain": [
       "<Frame#7fa8d7df53f0 1891928x8>"
      ]
     },
     "execution_count": 9,
     "metadata": {},
     "output_type": "execute_result"
    }
   ],
   "source": [
    "%%time\n",
    "datatable_df.sort('CellID')"
   ]
  },
  {
   "cell_type": "code",
   "execution_count": 10,
   "metadata": {},
   "outputs": [
    {
     "name": "stdout",
     "output_type": "stream",
     "text": [
      "CPU times: user 304 ms, sys: 16.3 ms, total: 320 ms\n",
      "Wall time: 228 ms\n"
     ]
    },
    {
     "data": {
      "text/html": [
       "<div>\n",
       "<style scoped>\n",
       "    .dataframe tbody tr th:only-of-type {\n",
       "        vertical-align: middle;\n",
       "    }\n",
       "\n",
       "    .dataframe tbody tr th {\n",
       "        vertical-align: top;\n",
       "    }\n",
       "\n",
       "    .dataframe thead th {\n",
       "        text-align: right;\n",
       "    }\n",
       "</style>\n",
       "<table border=\"1\" class=\"dataframe\">\n",
       "  <thead>\n",
       "    <tr style=\"text-align: right;\">\n",
       "      <th></th>\n",
       "      <th>datetime</th>\n",
       "      <th>CellID</th>\n",
       "      <th>countrycode</th>\n",
       "      <th>smsin</th>\n",
       "      <th>smsout</th>\n",
       "      <th>callin</th>\n",
       "      <th>callout</th>\n",
       "      <th>internet</th>\n",
       "    </tr>\n",
       "  </thead>\n",
       "  <tbody>\n",
       "    <tr>\n",
       "      <th>0</th>\n",
       "      <td>2013-11-01 00:00:00</td>\n",
       "      <td>1</td>\n",
       "      <td>0</td>\n",
       "      <td>0.3521</td>\n",
       "      <td>NaN</td>\n",
       "      <td>NaN</td>\n",
       "      <td>0.0273</td>\n",
       "      <td>NaN</td>\n",
       "    </tr>\n",
       "    <tr>\n",
       "      <th>1489199</th>\n",
       "      <td>2013-11-01 19:00:00</td>\n",
       "      <td>1</td>\n",
       "      <td>46</td>\n",
       "      <td>NaN</td>\n",
       "      <td>NaN</td>\n",
       "      <td>NaN</td>\n",
       "      <td>NaN</td>\n",
       "      <td>0.0279</td>\n",
       "    </tr>\n",
       "    <tr>\n",
       "      <th>1489198</th>\n",
       "      <td>2013-11-01 19:00:00</td>\n",
       "      <td>1</td>\n",
       "      <td>39</td>\n",
       "      <td>2.5834</td>\n",
       "      <td>2.7301</td>\n",
       "      <td>2.2768</td>\n",
       "      <td>3.5099</td>\n",
       "      <td>79.8703</td>\n",
       "    </tr>\n",
       "    <tr>\n",
       "      <th>1489197</th>\n",
       "      <td>2013-11-01 19:00:00</td>\n",
       "      <td>1</td>\n",
       "      <td>34</td>\n",
       "      <td>NaN</td>\n",
       "      <td>NaN</td>\n",
       "      <td>NaN</td>\n",
       "      <td>0.0273</td>\n",
       "      <td>NaN</td>\n",
       "    </tr>\n",
       "    <tr>\n",
       "      <th>1489196</th>\n",
       "      <td>2013-11-01 19:00:00</td>\n",
       "      <td>1</td>\n",
       "      <td>0</td>\n",
       "      <td>1.3015</td>\n",
       "      <td>NaN</td>\n",
       "      <td>NaN</td>\n",
       "      <td>0.1330</td>\n",
       "      <td>NaN</td>\n",
       "    </tr>\n",
       "    <tr>\n",
       "      <th>...</th>\n",
       "      <td>...</td>\n",
       "      <td>...</td>\n",
       "      <td>...</td>\n",
       "      <td>...</td>\n",
       "      <td>...</td>\n",
       "      <td>...</td>\n",
       "      <td>...</td>\n",
       "      <td>...</td>\n",
       "    </tr>\n",
       "    <tr>\n",
       "      <th>1757398</th>\n",
       "      <td>2013-11-01 21:00:00</td>\n",
       "      <td>10000</td>\n",
       "      <td>33</td>\n",
       "      <td>0.0542</td>\n",
       "      <td>NaN</td>\n",
       "      <td>NaN</td>\n",
       "      <td>NaN</td>\n",
       "      <td>NaN</td>\n",
       "    </tr>\n",
       "    <tr>\n",
       "      <th>1757399</th>\n",
       "      <td>2013-11-01 21:00:00</td>\n",
       "      <td>10000</td>\n",
       "      <td>39</td>\n",
       "      <td>2.9931</td>\n",
       "      <td>6.8901</td>\n",
       "      <td>1.8219</td>\n",
       "      <td>2.9876</td>\n",
       "      <td>104.2472</td>\n",
       "    </tr>\n",
       "    <tr>\n",
       "      <th>1757400</th>\n",
       "      <td>2013-11-01 21:00:00</td>\n",
       "      <td>10000</td>\n",
       "      <td>212</td>\n",
       "      <td>NaN</td>\n",
       "      <td>NaN</td>\n",
       "      <td>NaN</td>\n",
       "      <td>0.0860</td>\n",
       "      <td>NaN</td>\n",
       "    </tr>\n",
       "    <tr>\n",
       "      <th>548230</th>\n",
       "      <td>2013-11-01 09:00:00</td>\n",
       "      <td>10000</td>\n",
       "      <td>43</td>\n",
       "      <td>0.4165</td>\n",
       "      <td>NaN</td>\n",
       "      <td>NaN</td>\n",
       "      <td>NaN</td>\n",
       "      <td>NaN</td>\n",
       "    </tr>\n",
       "    <tr>\n",
       "      <th>1891927</th>\n",
       "      <td>2013-11-01 23:00:00</td>\n",
       "      <td>10000</td>\n",
       "      <td>221</td>\n",
       "      <td>NaN</td>\n",
       "      <td>NaN</td>\n",
       "      <td>0.0860</td>\n",
       "      <td>0.1720</td>\n",
       "      <td>NaN</td>\n",
       "    </tr>\n",
       "  </tbody>\n",
       "</table>\n",
       "<p>1891928 rows × 8 columns</p>\n",
       "</div>"
      ],
      "text/plain": [
       "                    datetime  CellID  countrycode   smsin  smsout  callin  \\\n",
       "0        2013-11-01 00:00:00       1            0  0.3521     NaN     NaN   \n",
       "1489199  2013-11-01 19:00:00       1           46     NaN     NaN     NaN   \n",
       "1489198  2013-11-01 19:00:00       1           39  2.5834  2.7301  2.2768   \n",
       "1489197  2013-11-01 19:00:00       1           34     NaN     NaN     NaN   \n",
       "1489196  2013-11-01 19:00:00       1            0  1.3015     NaN     NaN   \n",
       "...                      ...     ...          ...     ...     ...     ...   \n",
       "1757398  2013-11-01 21:00:00   10000           33  0.0542     NaN     NaN   \n",
       "1757399  2013-11-01 21:00:00   10000           39  2.9931  6.8901  1.8219   \n",
       "1757400  2013-11-01 21:00:00   10000          212     NaN     NaN     NaN   \n",
       "548230   2013-11-01 09:00:00   10000           43  0.4165     NaN     NaN   \n",
       "1891927  2013-11-01 23:00:00   10000          221     NaN     NaN  0.0860   \n",
       "\n",
       "         callout  internet  \n",
       "0         0.0273       NaN  \n",
       "1489199      NaN    0.0279  \n",
       "1489198   3.5099   79.8703  \n",
       "1489197   0.0273       NaN  \n",
       "1489196   0.1330       NaN  \n",
       "...          ...       ...  \n",
       "1757398      NaN       NaN  \n",
       "1757399   2.9876  104.2472  \n",
       "1757400   0.0860       NaN  \n",
       "548230       NaN       NaN  \n",
       "1891927   0.1720       NaN  \n",
       "\n",
       "[1891928 rows x 8 columns]"
      ]
     },
     "execution_count": 10,
     "metadata": {},
     "output_type": "execute_result"
    }
   ],
   "source": [
    "%%time\n",
    "pandas_df.sort_values(by='CellID')"
   ]
  },
  {
   "cell_type": "markdown",
   "metadata": {},
   "source": [
    "## Deleting Rows/Columns"
   ]
  },
  {
   "cell_type": "code",
   "execution_count": 11,
   "metadata": {},
   "outputs": [],
   "source": [
    "del datatable_df[:, 'internet']"
   ]
  },
  {
   "cell_type": "code",
   "execution_count": 12,
   "metadata": {},
   "outputs": [
    {
     "data": {
      "text/html": [
       "<div class='datatable'>\n",
       "  <table class='frame'>\n",
       "  <thead>\n",
       "    <tr class='colnames'><td class='row_index'></td><th>datetime</th><th>CellID</th><th>countrycode</th><th>smsin</th><th>smsout</th><th>callin</th><th>callout</th></tr>\n",
       "    <tr class='coltypes'><td class='row_index'></td><td class='str' title='str32'>&#x25AA;&#x25AA;&#x25AA;&#x25AA;</td><td class='int' title='int32'>&#x25AA;&#x25AA;&#x25AA;&#x25AA;</td><td class='int' title='int32'>&#x25AA;&#x25AA;&#x25AA;&#x25AA;</td><td class='float' title='float64'>&#x25AA;&#x25AA;&#x25AA;&#x25AA;&#x25AA;&#x25AA;&#x25AA;&#x25AA;</td><td class='float' title='float64'>&#x25AA;&#x25AA;&#x25AA;&#x25AA;&#x25AA;&#x25AA;&#x25AA;&#x25AA;</td><td class='float' title='float64'>&#x25AA;&#x25AA;&#x25AA;&#x25AA;&#x25AA;&#x25AA;&#x25AA;&#x25AA;</td><td class='float' title='float64'>&#x25AA;&#x25AA;&#x25AA;&#x25AA;&#x25AA;&#x25AA;&#x25AA;&#x25AA;</td></tr>\n",
       "  </thead>\n",
       "  <tbody>\n",
       "    <tr><td class='row_index'>0</td><td>2013-11-01 00:00:00</td><td>1</td><td>0</td><td>0.3521</td><td><span class=na>NA</span></td><td><span class=na>NA</span></td><td>0.0273</td></tr>\n",
       "    <tr><td class='row_index'>1</td><td>2013-11-01 00:00:00</td><td>1</td><td>33</td><td><span class=na>NA</span></td><td><span class=na>NA</span></td><td><span class=na>NA</span></td><td><span class=na>NA</span></td></tr>\n",
       "    <tr><td class='row_index'>2</td><td>2013-11-01 00:00:00</td><td>1</td><td>39</td><td>1.7322</td><td>1.1047</td><td>0.5919</td><td>0.402</td></tr>\n",
       "    <tr><td class='row_index'>3</td><td>2013-11-01 00:00:00</td><td>2</td><td>0</td><td>0.3581</td><td><span class=na>NA</span></td><td><span class=na>NA</span></td><td>0.0273</td></tr>\n",
       "    <tr><td class='row_index'>4</td><td>2013-11-01 00:00:00</td><td>2</td><td>33</td><td><span class=na>NA</span></td><td><span class=na>NA</span></td><td><span class=na>NA</span></td><td><span class=na>NA</span></td></tr>\n",
       "    <tr><td class='row_index'>5</td><td>2013-11-01 00:00:00</td><td>2</td><td>39</td><td>1.7334</td><td>1.088</td><td>0.602</td><td>0.4109</td></tr>\n",
       "    <tr><td class='row_index'>6</td><td>2013-11-01 00:00:00</td><td>3</td><td>0</td><td>0.3644</td><td><span class=na>NA</span></td><td><span class=na>NA</span></td><td>0.0273</td></tr>\n",
       "    <tr><td class='row_index'>7</td><td>2013-11-01 00:00:00</td><td>3</td><td>33</td><td><span class=na>NA</span></td><td><span class=na>NA</span></td><td><span class=na>NA</span></td><td><span class=na>NA</span></td></tr>\n",
       "    <tr><td class='row_index'>8</td><td>2013-11-01 00:00:00</td><td>3</td><td>39</td><td>1.7348</td><td>1.0701</td><td>0.6128</td><td>0.4203</td></tr>\n",
       "    <tr><td class='row_index'>9</td><td>2013-11-01 00:00:00</td><td>4</td><td>0</td><td>0.3349</td><td><span class=na>NA</span></td><td><span class=na>NA</span></td><td>0.0273</td></tr>\n",
       "    <tr><td class='row_index'>10</td><td>2013-11-01 00:00:00</td><td>4</td><td>33</td><td><span class=na>NA</span></td><td><span class=na>NA</span></td><td><span class=na>NA</span></td><td><span class=na>NA</span></td></tr>\n",
       "    <tr><td class='row_index'>11</td><td>2013-11-01 00:00:00</td><td>4</td><td>39</td><td>1.7284</td><td>1.1533</td><td>0.5627</td><td>0.3763</td></tr>\n",
       "    <tr><td class='row_index'>12</td><td>2013-11-01 00:00:00</td><td>5</td><td>0</td><td>0.3178</td><td><span class=na>NA</span></td><td><span class=na>NA</span></td><td>0.0237</td></tr>\n",
       "    <tr><td class='row_index'>13</td><td>2013-11-01 00:00:00</td><td>5</td><td>33</td><td><span class=na>NA</span></td><td><span class=na>NA</span></td><td><span class=na>NA</span></td><td><span class=na>NA</span></td></tr>\n",
       "    <tr><td class='row_index'>14</td><td>2013-11-01 00:00:00</td><td>5</td><td>39</td><td>1.553</td><td>1.0439</td><td>0.511</td><td>0.3503</td></tr>\n",
       "    <tr><td class='row_index'>&#x22EE;</td><td class='hellipsis'>&#x22EE;</td><td class='hellipsis'>&#x22EE;</td><td class='hellipsis'>&#x22EE;</td><td class='hellipsis'>&#x22EE;</td><td class='hellipsis'>&#x22EE;</td><td class='hellipsis'>&#x22EE;</td><td class='hellipsis'>&#x22EE;</td></tr>\n",
       "    <tr><td class='row_index'>1,891,923</td><td>2013-11-01 23:00:00</td><td>10000</td><td>20</td><td>0.086</td><td><span class=na>NA</span></td><td><span class=na>NA</span></td><td><span class=na>NA</span></td></tr>\n",
       "    <tr><td class='row_index'>1,891,924</td><td>2013-11-01 23:00:00</td><td>10000</td><td>33</td><td>0.0542</td><td><span class=na>NA</span></td><td><span class=na>NA</span></td><td><span class=na>NA</span></td></tr>\n",
       "    <tr><td class='row_index'>1,891,925</td><td>2013-11-01 23:00:00</td><td>10000</td><td>39</td><td>3.3318</td><td>3.6637</td><td>0.8509</td><td>1.0462</td></tr>\n",
       "    <tr><td class='row_index'>1,891,926</td><td>2013-11-01 23:00:00</td><td>10000</td><td>49</td><td><span class=na>NA</span></td><td><span class=na>NA</span></td><td><span class=na>NA</span></td><td>0.0048</td></tr>\n",
       "    <tr><td class='row_index'>1,891,927</td><td>2013-11-01 23:00:00</td><td>10000</td><td>221</td><td><span class=na>NA</span></td><td><span class=na>NA</span></td><td>0.086</td><td>0.172</td></tr>\n",
       "  </tbody>\n",
       "  </table>\n",
       "  <div class='footer'>\n",
       "    <div class='frame_dimensions'>1,891,928 rows &times; 7 columns</div>\n",
       "  </div>\n",
       "</div>\n"
      ],
      "text/plain": [
       "<Frame#7fa9585178a0 1891928x7>"
      ]
     },
     "execution_count": 12,
     "metadata": {},
     "output_type": "execute_result"
    }
   ],
   "source": [
    "datatable_df"
   ]
  },
  {
   "cell_type": "markdown",
   "metadata": {},
   "source": [
    "## GroupBy"
   ]
  },
  {
   "cell_type": "code",
   "execution_count": 13,
   "metadata": {},
   "outputs": [
    {
     "name": "stdout",
     "output_type": "stream",
     "text": [
      "CPU times: user 1.66 s, sys: 13.3 ms, total: 1.68 s\n",
      "Wall time: 602 ms\n"
     ]
    }
   ],
   "source": [
    "%%time\n",
    "for i in range(5):\n",
    "    datatable_df[:, dt.sum(dt.f.countrycode), dt.by(dt.f.CellID)]"
   ]
  },
  {
   "cell_type": "code",
   "execution_count": 14,
   "metadata": {},
   "outputs": [
    {
     "name": "stdout",
     "output_type": "stream",
     "text": [
      "CPU times: user 396 ms, sys: 24.4 ms, total: 421 ms\n",
      "Wall time: 289 ms\n"
     ]
    }
   ],
   "source": [
    "%%time\n",
    "for i in range(5):\n",
    "    pandas_df.groupby(\"CellID\")[\"countrycode\"].sum()"
   ]
  },
  {
   "cell_type": "markdown",
   "metadata": {},
   "source": [
    "**What does .f stand for?**\n",
    "\n",
    "f stands for frame proxy, and provides a simple way to refer to the Frame that we are currently operating upon. In the case of our example, dt.f simply stands for dt_df."
   ]
  },
  {
   "cell_type": "markdown",
   "metadata": {},
   "source": [
    "## Filtering Rows"
   ]
  },
  {
   "cell_type": "code",
   "execution_count": 16,
   "metadata": {},
   "outputs": [
    {
     "data": {
      "text/html": [
       "<div class='datatable'>\n",
       "  <table class='frame'>\n",
       "  <thead>\n",
       "    <tr class='colnames'><td class='row_index'></td><th>CellID</th></tr>\n",
       "    <tr class='coltypes'><td class='row_index'></td><td class='int' title='int32'>&#x25AA;&#x25AA;&#x25AA;&#x25AA;</td></tr>\n",
       "  </thead>\n",
       "  <tbody>\n",
       "    <tr><td class='row_index'>0</td><td>1</td></tr>\n",
       "    <tr><td class='row_index'>1</td><td>2</td></tr>\n",
       "    <tr><td class='row_index'>2</td><td>3</td></tr>\n",
       "    <tr><td class='row_index'>3</td><td>4</td></tr>\n",
       "    <tr><td class='row_index'>4</td><td>5</td></tr>\n",
       "    <tr><td class='row_index'>5</td><td>6</td></tr>\n",
       "    <tr><td class='row_index'>6</td><td>7</td></tr>\n",
       "    <tr><td class='row_index'>7</td><td>8</td></tr>\n",
       "    <tr><td class='row_index'>8</td><td>9</td></tr>\n",
       "    <tr><td class='row_index'>9</td><td>10</td></tr>\n",
       "    <tr><td class='row_index'>10</td><td>11</td></tr>\n",
       "    <tr><td class='row_index'>11</td><td>12</td></tr>\n",
       "    <tr><td class='row_index'>12</td><td>13</td></tr>\n",
       "    <tr><td class='row_index'>13</td><td>14</td></tr>\n",
       "    <tr><td class='row_index'>14</td><td>15</td></tr>\n",
       "    <tr><td class='row_index'>&#x22EE;</td><td class='hellipsis'>&#x22EE;</td></tr>\n",
       "    <tr><td class='row_index'>1,871,384</td><td>10000</td></tr>\n",
       "    <tr><td class='row_index'>1,871,385</td><td>10000</td></tr>\n",
       "    <tr><td class='row_index'>1,871,386</td><td>10000</td></tr>\n",
       "    <tr><td class='row_index'>1,871,387</td><td>10000</td></tr>\n",
       "    <tr><td class='row_index'>1,871,388</td><td>10000</td></tr>\n",
       "  </tbody>\n",
       "  </table>\n",
       "  <div class='footer'>\n",
       "    <div class='frame_dimensions'>1,871,389 rows &times; 1 column</div>\n",
       "  </div>\n",
       "</div>\n"
      ],
      "text/plain": [
       "<Frame#7fa8d7df5660 1871389x1>"
      ]
     },
     "execution_count": 16,
     "metadata": {},
     "output_type": "execute_result"
    }
   ],
   "source": [
    "datatable_df[dt.f.CellID>dt.f.countrycode,\"CellID\"]"
   ]
  },
  {
   "cell_type": "markdown",
   "metadata": {},
   "source": [
    "## Saving to CSV"
   ]
  },
  {
   "cell_type": "code",
   "execution_count": 19,
   "metadata": {},
   "outputs": [],
   "source": [
    "datatable_df.to_csv('/data/output/datatable_output.csv')"
   ]
  },
  {
   "cell_type": "markdown",
   "metadata": {},
   "source": [
    "## Summary\n",
    "\n",
    "- datatable works really well for big data size, compared to pandas\n",
    "- in terms of functionality, pandas still won"
   ]
  }
 ],
 "metadata": {
  "kernelspec": {
   "display_name": "Python 3",
   "language": "python",
   "name": "python3"
  },
  "language_info": {
   "codemirror_mode": {
    "name": "ipython",
    "version": 3
   },
   "file_extension": ".py",
   "mimetype": "text/x-python",
   "name": "python",
   "nbconvert_exporter": "python",
   "pygments_lexer": "ipython3",
   "version": "3.7.9"
  }
 },
 "nbformat": 4,
 "nbformat_minor": 4
}
