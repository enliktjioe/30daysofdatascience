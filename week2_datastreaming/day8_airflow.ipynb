{
 "cells": [
  {
   "cell_type": "markdown",
   "metadata": {},
   "source": [
    "## References\n",
    "\n",
    "- https://www.polidea.com/blog/apache-airflow-tutorial-and-beginners-guide/\n",
    "- https://medium.com/abn-amro-developer/data-pipeline-orchestration-on-steroids-apache-airflow-tutorial-part-1-87361905db6d\n",
    "- https://towardsdatascience.com/a-complete-introduction-to-apache-airflow-b7e238a33df\n",
    "- https://github.com/rebecca-vickery/airflow_sandbox\n",
    "\n",
    "### Installation tutorial\n",
    "\n",
    "- https://medium.com/a-r-g-o/installing-apache-airflow-on-ubuntu-aws-6ebac15db211\n",
    "- https://stackoverflow.com/questions/52203441/error-while-install-airflow-by-default-one-of-airflows-dependencies-installs-a\n",
    "- https://www.corbettanalytics.com/installing-airflow-on-ubuntu-18/"
   ]
  },
  {
   "cell_type": "markdown",
   "metadata": {},
   "source": [
    "## Important Command\n",
    "\n",
    "`\n",
    "airflow webserver -p 8081\n",
    "`"
   ]
  },
  {
   "cell_type": "code",
   "execution_count": null,
   "metadata": {},
   "outputs": [],
   "source": []
  }
 ],
 "metadata": {
  "kernelspec": {
   "display_name": "Python 3",
   "language": "python",
   "name": "python3"
  },
  "language_info": {
   "codemirror_mode": {
    "name": "ipython",
    "version": 3
   },
   "file_extension": ".py",
   "mimetype": "text/x-python",
   "name": "python",
   "nbconvert_exporter": "python",
   "pygments_lexer": "ipython3",
   "version": "3.7.9"
  }
 },
 "nbformat": 4,
 "nbformat_minor": 4
}
