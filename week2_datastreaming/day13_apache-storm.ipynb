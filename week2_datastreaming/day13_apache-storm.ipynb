{
 "cells": [
  {
   "cell_type": "markdown",
   "metadata": {},
   "source": [
    "## References\n",
    "\n",
    "- old tutorial: https://gist.github.com/yawi/0a42269c12ea5238ba03\n",
    "\n",
    "Installation:\n",
    "\n",
    "- https://www.tutorialspoint.com/apache_storm/apache_storm_installation.htm"
   ]
  },
  {
   "cell_type": "markdown",
   "metadata": {},
   "source": [
    "## Troubleshooting\n",
    "### Zookeeper can't be started\n",
    "\n",
    "- run this `sudo bin/zkServer.sh start /opt/apache-zookeeper-3.6.2-bin/conf/zoo.cfg`, source: https://stackoverflow.com/a/31200219\n",
    "\n",
    "### Storm UI can't be started\n",
    "- add `ui.port: 8081` to `conf/storm.yaml`, source: https://stackoverflow.com/questions/28473309/storm-ui-not-working"
   ]
  },
  {
   "cell_type": "code",
   "execution_count": null,
   "metadata": {},
   "outputs": [],
   "source": []
  }
 ],
 "metadata": {
  "kernelspec": {
   "display_name": "Python 3",
   "language": "python",
   "name": "python3"
  },
  "language_info": {
   "codemirror_mode": {
    "name": "ipython",
    "version": 3
   },
   "file_extension": ".py",
   "mimetype": "text/x-python",
   "name": "python",
   "nbconvert_exporter": "python",
   "pygments_lexer": "ipython3",
   "version": "3.7.9"
  }
 },
 "nbformat": 4,
 "nbformat_minor": 4
}
