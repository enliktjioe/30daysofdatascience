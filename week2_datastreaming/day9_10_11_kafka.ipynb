{
 "cells": [
  {
   "cell_type": "markdown",
   "metadata": {},
   "source": [
    "## References\n",
    "\n",
    "- https://github.com/mtpatter/postgres-kafka-demo\n",
    "- https://postgresconf.org/system/events/document/000/000/115/Data_pipelines_with_PostgreSQL___Kafka_-_PostgresConf_US_2018_-_Oskari_Saarenmaa.pdf\n",
    "- https://highalpha.com/data-stream-processing-for-newbies-with-kafka-ksql-and-postgres/\n",
    "- https://timber.io/blog/hello-world-in-kafka-using-python/\n",
    "- http://wurstmeister.github.io/kafka-docker/"
   ]
  },
  {
   "cell_type": "markdown",
   "metadata": {},
   "source": [
    "## workspace\n",
    "\n",
    "Check in `/week2_datastreaming/kafka-docker` and follow `README.md` for instruction with Docker\n",
    "\n",
    "tutorial from: https://medium.com/big-data-engineering/hello-kafka-world-the-complete-guide-to-kafka-with-docker-and-python-f788e2588cfc"
   ]
  },
  {
   "cell_type": "code",
   "execution_count": null,
   "metadata": {},
   "outputs": [],
   "source": []
  }
 ],
 "metadata": {
  "kernelspec": {
   "display_name": "Python 3",
   "language": "python",
   "name": "python3"
  },
  "language_info": {
   "codemirror_mode": {
    "name": "ipython",
    "version": 3
   },
   "file_extension": ".py",
   "mimetype": "text/x-python",
   "name": "python",
   "nbconvert_exporter": "python",
   "pygments_lexer": "ipython3",
   "version": "3.7.9"
  }
 },
 "nbformat": 4,
 "nbformat_minor": 4
}
